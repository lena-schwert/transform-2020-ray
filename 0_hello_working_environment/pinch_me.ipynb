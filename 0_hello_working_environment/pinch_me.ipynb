{
 "cells": [
  {
   "cell_type": "markdown",
   "metadata": {},
   "source": [
    "##### This is a test notebook just to make sure all the depencies have come in ok, you're running jupyter, etc "
   ]
  },
  {
   "cell_type": "code",
   "execution_count": 3,
   "metadata": {},
   "outputs": [],
   "source": [
    "import numpy as np\n",
    "import sklearn.datasets\n",
    "import sklearn.metrics\n",
    "from sklearn.model_selection import train_test_split\n",
    "\n",
    "import matplotlib.pyplot as plt\n",
    "import seaborn as sns\n",
    "\n",
    "from sklearn.model_selection import GridSearchCV, KFold, StratifiedKFold\n",
    "from sklearn.preprocessing import RobustScaler\n",
    "from sklearn.ensemble import RandomForestClassifier\n",
    "from sklearn.pipeline import make_pipeline\n",
    "from sklearn.metrics import f1_score\n",
    "\n",
    "import torch\n",
    "import torchvision\n",
    "import ray\n",
    "from ray import tune\n",
    "\n",
    "from scipy.stats import norm\n",
    "\n",
    "import xgboost as xgb\n",
    "from xgboost.sklearn import XGBClassifier"
   ]
  },
  {
   "cell_type": "code",
   "execution_count": 7,
   "metadata": {},
   "outputs": [
    {
     "name": "stdout",
     "output_type": "stream",
     "text": [
      "numpy 1.18.5\n",
      "scipy 1.18.5\n",
      "sklearn 0.23.2\n",
      "ray 1.0.0\n",
      "xgboost 1.2.1\n",
      "torch 1.7.0\n",
      "torchvision 0.8.1\n"
     ]
    }
   ],
   "source": [
    "print('numpy', np.__version__)\n",
    "print('scipy', np.__version__)\n",
    "print('sklearn', sklearn.__version__)\n",
    "print('ray', ray.__version__)\n",
    "print('xgboost', xgb.__version__)\n",
    "print('torch', torch.__version__)\n",
    "print('torchvision', torchvision.__version__)"
   ]
  },
  {
   "cell_type": "markdown",
   "metadata": {},
   "source": [
    "That's all for now folks, please join the `#t20-fri-ray` channel in slack for updates ahead of the tutorial, and if anything goes wrong with this setup post a question in there :)."
   ]
  }
 ],
 "metadata": {
  "kernelspec": {
   "display_name": "Python 3",
   "language": "python",
   "name": "python3"
  },
  "language_info": {
   "codemirror_mode": {
    "name": "ipython",
    "version": 3
   },
   "file_extension": ".py",
   "mimetype": "text/x-python",
   "name": "python",
   "nbconvert_exporter": "python",
   "pygments_lexer": "ipython3",
   "version": "3.8.6"
  }
 },
 "nbformat": 4,
 "nbformat_minor": 4
}