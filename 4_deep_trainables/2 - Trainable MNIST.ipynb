{
 "cells": [
  {
   "cell_type": "markdown",
   "metadata": {},
   "source": [
    "# Trainable MNIST\n",
    "\n",
    "Raytune has a great collection of [examples](https://github.com/ray-project/ray/tree/master/python/ray/tune/examples) and I have picked a simple one to impement in a notebook. This is godo to play with if you are within a GPU or want to try a *big* parameter search as it's relatively quick and easy to train.\n",
    "\n",
    "\n",
    "## What is MNIST?\n",
    "\n",
    "In case you are unfamilar MNIST is a standard handwritten character dataset used widely in Machine Learning examples. The dataset consists of 70,000 28x28 images (60,000 training and 10,000 test)\n",
    "\n",
    "\n",
    "Here are some examples from the dataset [source: wikipedia](https://en.wikipedia.org/wiki/MNIST_database#/media/File:MnistExamples.png)\n",
    "\n",
    "![MNIST Examples](MnistExamples.png)\n",
    "\n"
   ]
  },
  {
   "cell_type": "markdown",
   "metadata": {},
   "source": [
    "### Load Dependencies\n",
    "\n",
    "We load the usual deps and also load [PyTorch](https://pytorch.org/docs/stable/index.html) so that we can define a small Neural Network to train as a classifer"
   ]
  },
  {
   "cell_type": "code",
   "execution_count": null,
   "metadata": {},
   "outputs": [],
   "source": [
    "%load_ext autoreload\n",
    "%autoreload 2\n",
    "\n",
    "from dependencies import *"
   ]
  },
  {
   "cell_type": "code",
   "execution_count": null,
   "metadata": {},
   "outputs": [],
   "source": [
    "import torch\n",
    "import torch.nn as nn\n",
    "import torch.optim as optim\n",
    "import torch.nn.functional as F"
   ]
  },
  {
   "cell_type": "markdown",
   "metadata": {},
   "source": [
    "## Dataloaders\n",
    "\n",
    "We'll re-use some standard dataloaders from the ray examples. This function returns 2 pytorch dataloaders, one for train and one for test"
   ]
  },
  {
   "cell_type": "code",
   "execution_count": 3,
   "metadata": {},
   "outputs": [],
   "source": [
    "from mnist_pytorch import get_data_loaders"
   ]
  },
  {
   "cell_type": "markdown",
   "metadata": {},
   "source": [
    "## Network\n",
    "\n",
    "We define a very small ConvNET with a single Conv2D layer and single Linear Layer\n",
    "\n",
    "Things to Try:\n",
    " - Try building up larger networks to see if performance improves\n",
    " - Try adding options to the `__init__()` function to vary layer properties or the number of layers and tune these new parameters"
   ]
  },
  {
   "cell_type": "code",
   "execution_count": 4,
   "metadata": {},
   "outputs": [],
   "source": [
    "class ConvNet(nn.Module):\n",
    "    def __init__(self, width=3):\n",
    "        super(ConvNet, self).__init__()       \n",
    "        self.width=width\n",
    "        \n",
    "        self.conv1 = nn.Conv2d(1, width, kernel_size=3)\n",
    "        self.fc = nn.Linear(width*8*8, 10)\n",
    "\n",
    "    def forward(self, x):\n",
    "        x = F.relu(F.max_pool2d(self.conv1(x), 3))\n",
    "        x = x.view(-1, self.width*8*8) # flattens the tensor for the FC layer\n",
    "        x = self.fc(x)\n",
    "        return F.log_softmax(x, dim=1)"
   ]
  },
  {
   "cell_type": "markdown",
   "metadata": {},
   "source": [
    "## Train & Test Functions\n",
    "\n",
    "We define some functions for out training and testing loops\n",
    "\n",
    "During training, we iterate over examples while calculating losses, backpropagating and optimising the network"
   ]
  },
  {
   "cell_type": "code",
   "execution_count": 6,
   "metadata": {},
   "outputs": [],
   "source": [
    "EPOCH_SIZE = 512\n",
    "\n",
    "def train(model, optimizer, train_loader, device=None):\n",
    "    device = device or torch.device(\"cpu\")\n",
    "    \n",
    "    model.train()\n",
    "    for batch_idx, (data, target) in enumerate(train_loader):\n",
    "        if batch_idx * len(data) > EPOCH_SIZE:\n",
    "            return\n",
    "        data, target = data.to(device), target.to(device)\n",
    "        optimizer.zero_grad()\n",
    "        output = model(data)\n",
    "        loss = F.nll_loss(output, target)\n",
    "        loss.backward()\n",
    "        optimizer.step()"
   ]
  },
  {
   "cell_type": "markdown",
   "metadata": {},
   "source": [
    "During test time we iterate over the test set and calculate performance metrics"
   ]
  },
  {
   "cell_type": "code",
   "execution_count": 7,
   "metadata": {},
   "outputs": [],
   "source": [
    "TEST_SIZE=256\n",
    "\n",
    "def test(model, data_loader, device=None):\n",
    "    device = device or torch.device(\"cpu\")\n",
    "    model.eval()\n",
    "    correct = 0\n",
    "    total = 0\n",
    "    with torch.no_grad():\n",
    "        for batch_idx, (data, target) in enumerate(data_loader):\n",
    "            if batch_idx * len(data) > TEST_SIZE:\n",
    "                break\n",
    "            data, target = data.to(device), target.to(device)\n",
    "            outputs = model(data)\n",
    "            _, predicted = torch.max(outputs, 1)\n",
    "            total += target.size(0)\n",
    "            correct += (predicted == target).sum().item()\n",
    "\n",
    "    return correct / total"
   ]
  },
  {
   "cell_type": "markdown",
   "metadata": {},
   "source": [
    "## Check for CUDA"
   ]
  },
  {
   "cell_type": "code",
   "execution_count": 8,
   "metadata": {},
   "outputs": [
    {
     "name": "stdout",
     "output_type": "stream",
     "text": [
      "CUDA Available :D\n"
     ]
    }
   ],
   "source": [
    "print('CUDA Available :D') if torch.cuda.is_available() else print('CPU Only :O')"
   ]
  },
  {
   "cell_type": "markdown",
   "metadata": {},
   "source": [
    "## Start Ray"
   ]
  },
  {
   "cell_type": "code",
   "execution_count": 9,
   "metadata": {
    "scrolled": true
   },
   "outputs": [
    {
     "name": "stderr",
     "output_type": "stream",
     "text": [
      "2020-11-10 16:32:49,758\tINFO services.py:1164 -- View the Ray dashboard at \u001B[1m\u001B[32mhttp://127.0.0.1:8265\u001B[39m\u001B[22m\n"
     ]
    },
    {
     "data": {
      "text/plain": "{'node_ip_address': '192.168.123.68',\n 'raylet_ip_address': '192.168.123.68',\n 'redis_address': '192.168.123.68:6379',\n 'object_store_address': '/tmp/ray/session_2020-11-10_16-32-49_098191_7629/sockets/plasma_store',\n 'raylet_socket_name': '/tmp/ray/session_2020-11-10_16-32-49_098191_7629/sockets/raylet',\n 'webui_url': '127.0.0.1:8265',\n 'session_dir': '/tmp/ray/session_2020-11-10_16-32-49_098191_7629',\n 'metrics_export_port': 48294}"
     },
     "execution_count": 9,
     "metadata": {},
     "output_type": "execute_result"
    }
   ],
   "source": [
    "ray.shutdown()\n",
    "ray.init(num_cpus=10, num_gpus=0)"
   ]
  },
  {
   "cell_type": "code",
   "execution_count": 11,
   "metadata": {},
   "outputs": [],
   "source": [
    "from os import path\n",
    "\n",
    "class TrainMNIST(tune.Trainable):\n",
    "\n",
    "    # with config, pass in hyperparameters for net + optimizer\n",
    "    def _setup(self, config):\n",
    "        # detect if cuda is availalbe as ray will assign GPUs if available and configured\n",
    "        self.device = torch.device(\"cpu\")\n",
    "\n",
    "        # In this case this will also fetch the MNIST data on first run\n",
    "        #\n",
    "        self.train_loader, self.test_loader = get_data_loaders()\n",
    "        \n",
    "        # create an instance of the network and pass it to device\n",
    "        self.model = ConvNet(\n",
    "            # pass in parameters here if we want to tune network internals\n",
    "        ).to(self.device)\n",
    "        \n",
    "        #setup the optimiser (try Adam instead and change parameters we are tuning)\n",
    "        self.optimizer = optim.SGD(\n",
    "            self.model.parameters(),\n",
    "            lr=config.get(\"lr\", 0.01),\n",
    "            momentum=config.get(\"momentum\", 0.9))\n",
    "                \n",
    "    # if applicable, pass batch size and epochs\n",
    "    def _train(self):\n",
    "        \n",
    "        train(self.model, self.optimizer, self.train_loader, device=self.device)\n",
    "        \n",
    "        acc = test(self.model, self.test_loader, self.device)\n",
    "        \n",
    "        return {\"mean_accuracy\": acc}\n",
    "    \n",
    "    \n",
    "    def _save(self, checkpoint_dir):\n",
    "        checkpoint_path = path.join(checkpoint_dir, \"model.pth\")\n",
    "        torch.save(self.model.state_dict(), checkpoint_path)\n",
    "        return checkpoint_path\n",
    "    \n",
    "    \n",
    "    def _restore(self, checkpoint_path):\n",
    "        self.model.load_state_dict(torch.load(checkpoint_path))"
   ]
  },
  {
   "cell_type": "code",
   "execution_count": 12,
   "metadata": {
    "scrolled": true
   },
   "outputs": [
    {
     "data": {
      "text/plain": "<IPython.core.display.HTML object>",
      "text/html": "== Status ==<br>Memory usage on this node: 6.5/7.5 GiB<br>Using FIFO scheduling algorithm.<br>Resources requested: 2/10 CPUs, 0/0 GPUs, 0.0/1.03 GiB heap, 0.0/0.34 GiB objects<br>Result logdir: /home/lena/ray_results/torch_mnist/TrainMNIST<br>Number of trials: 3 (2 PENDING, 1 RUNNING)<br><table>\n<thead>\n<tr><th>Trial name            </th><th>status  </th><th>loc  </th><th style=\"text-align: right;\">       lr</th><th style=\"text-align: right;\">  momentum</th></tr>\n</thead>\n<tbody>\n<tr><td>TrainMNIST_7f89a_00000</td><td>RUNNING </td><td>     </td><td style=\"text-align: right;\">0.0314558</td><td style=\"text-align: right;\">  0.891798</td></tr>\n<tr><td>TrainMNIST_7f89a_00001</td><td>PENDING </td><td>     </td><td style=\"text-align: right;\">0.0938618</td><td style=\"text-align: right;\">  0.652903</td></tr>\n<tr><td>TrainMNIST_7f89a_00002</td><td>PENDING </td><td>     </td><td style=\"text-align: right;\">0.0353234</td><td style=\"text-align: right;\">  0.283825</td></tr>\n</tbody>\n</table><br><br>"
     },
     "metadata": {},
     "output_type": "display_data"
    },
    {
     "name": "stderr",
     "output_type": "stream",
     "text": [
      "\u001B[2m\u001B[36m(pid=7989)\u001B[0m 2020-11-10 16:36:29,393\tWARNING trainable.py:860 -- Trainable._setup is deprecated and will be removed in a future version of Ray. Override Trainable.setup instead.\n",
      "\u001B[2m\u001B[36m(pid=7994)\u001B[0m 2020-11-10 16:36:29,418\tWARNING trainable.py:860 -- Trainable._setup is deprecated and will be removed in a future version of Ray. Override Trainable.setup instead.\n",
      "\u001B[2m\u001B[36m(pid=7992)\u001B[0m 2020-11-10 16:36:29,466\tWARNING trainable.py:860 -- Trainable._setup is deprecated and will be removed in a future version of Ray. Override Trainable.setup instead.\n",
      "\u001B[2m\u001B[36m(pid=7989)\u001B[0m 2020-11-10 16:36:29,902\tWARNING trainable.py:728 -- Trainable._train is deprecated and will be removed in a future version of Ray. Override Trainable.step instead.\n",
      "\u001B[2m\u001B[36m(pid=7994)\u001B[0m 2020-11-10 16:36:29,886\tWARNING trainable.py:728 -- Trainable._train is deprecated and will be removed in a future version of Ray. Override Trainable.step instead.\n",
      "\u001B[2m\u001B[36m(pid=7992)\u001B[0m 2020-11-10 16:36:29,898\tWARNING trainable.py:728 -- Trainable._train is deprecated and will be removed in a future version of Ray. Override Trainable.step instead.\n",
      "\u001B[2m\u001B[36m(pid=7994)\u001B[0m 2020-11-10 16:36:32,722\tWARNING trainable.py:779 -- Trainable._save is deprecated and will be removed in a future version of Ray. Override Trainable.save_checkpoint instead.\n",
      "\u001B[2m\u001B[36m(pid=7989)\u001B[0m 2020-11-10 16:36:32,787\tWARNING trainable.py:779 -- Trainable._save is deprecated and will be removed in a future version of Ray. Override Trainable.save_checkpoint instead.\n",
      "\u001B[2m\u001B[36m(pid=7992)\u001B[0m 2020-11-10 16:36:32,865\tWARNING trainable.py:779 -- Trainable._save is deprecated and will be removed in a future version of Ray. Override Trainable.save_checkpoint instead.\n"
     ]
    },
    {
     "name": "stdout",
     "output_type": "stream",
     "text": [
      "Result for TrainMNIST_7f89a_00000:\n",
      "  date: 2020-11-10_16-36-29\n",
      "  done: false\n",
      "  experiment_id: 36c84d11c60c4b8b8bcf351f66a3c684\n",
      "  experiment_tag: 0_lr=0.031456,momentum=0.8918\n",
      "  hostname: Schlepptop\n",
      "  iterations_since_restore: 1\n",
      "  mean_accuracy: 0.4875\n",
      "  node_ip: 192.168.123.68\n",
      "  pid: 7994\n",
      "  time_since_restore: 0.4162588119506836\n",
      "  time_this_iter_s: 0.4162588119506836\n",
      "  time_total_s: 0.4162588119506836\n",
      "  timestamp: 1605022589\n",
      "  timesteps_since_restore: 0\n",
      "  training_iteration: 1\n",
      "  trial_id: 7f89a_00000\n",
      "  \n",
      "Result for TrainMNIST_7f89a_00001:\n",
      "  date: 2020-11-10_16-36-29\n",
      "  done: false\n",
      "  experiment_id: b772fb74b1e5461b961b4e90c63f58aa\n",
      "  experiment_tag: 1_lr=0.093862,momentum=0.6529\n",
      "  hostname: Schlepptop\n",
      "  iterations_since_restore: 1\n",
      "  mean_accuracy: 0.665625\n",
      "  node_ip: 192.168.123.68\n",
      "  pid: 7992\n",
      "  time_since_restore: 0.42832469940185547\n",
      "  time_this_iter_s: 0.42832469940185547\n",
      "  time_total_s: 0.42832469940185547\n",
      "  timestamp: 1605022589\n",
      "  timesteps_since_restore: 0\n",
      "  training_iteration: 1\n",
      "  trial_id: 7f89a_00001\n",
      "  \n",
      "Result for TrainMNIST_7f89a_00002:\n",
      "  date: 2020-11-10_16-36-29\n",
      "  done: false\n",
      "  experiment_id: b0c421c278b24a0aa6f2f3ca3e858bf0\n",
      "  experiment_tag: 2_lr=0.035323,momentum=0.28383\n",
      "  hostname: Schlepptop\n",
      "  iterations_since_restore: 1\n",
      "  mean_accuracy: 0.3125\n",
      "  node_ip: 192.168.123.68\n",
      "  pid: 7989\n",
      "  time_since_restore: 0.43352293968200684\n",
      "  time_this_iter_s: 0.43352293968200684\n",
      "  time_total_s: 0.43352293968200684\n",
      "  timestamp: 1605022589\n",
      "  timesteps_since_restore: 0\n",
      "  training_iteration: 1\n",
      "  trial_id: 7f89a_00002\n",
      "  \n",
      "Result for TrainMNIST_7f89a_00001:\n",
      "  date: 2020-11-10_16-36-35\n",
      "  done: false\n",
      "  experiment_id: b772fb74b1e5461b961b4e90c63f58aa\n",
      "  experiment_tag: 1_lr=0.093862,momentum=0.6529\n",
      "  hostname: Schlepptop\n",
      "  iterations_since_restore: 16\n",
      "  mean_accuracy: 0.953125\n",
      "  node_ip: 192.168.123.68\n",
      "  pid: 7992\n",
      "  time_since_restore: 5.494307994842529\n",
      "  time_this_iter_s: 0.370974063873291\n",
      "  time_total_s: 5.494307994842529\n",
      "  timestamp: 1605022595\n",
      "  timesteps_since_restore: 0\n",
      "  training_iteration: 16\n",
      "  trial_id: 7f89a_00001\n",
      "  \n",
      "Result for TrainMNIST_7f89a_00000:\n",
      "  date: 2020-11-10_16-36-35\n",
      "  done: false\n",
      "  experiment_id: 36c84d11c60c4b8b8bcf351f66a3c684\n",
      "  experiment_tag: 0_lr=0.031456,momentum=0.8918\n",
      "  hostname: Schlepptop\n",
      "  iterations_since_restore: 17\n",
      "  mean_accuracy: 0.9\n",
      "  node_ip: 192.168.123.68\n",
      "  pid: 7994\n",
      "  time_since_restore: 5.6120524406433105\n",
      "  time_this_iter_s: 0.34401416778564453\n",
      "  time_total_s: 5.6120524406433105\n",
      "  timestamp: 1605022595\n",
      "  timesteps_since_restore: 0\n",
      "  training_iteration: 17\n",
      "  trial_id: 7f89a_00000\n",
      "  \n",
      "Result for TrainMNIST_7f89a_00002:\n",
      "  date: 2020-11-10_16-36-35\n",
      "  done: false\n",
      "  experiment_id: b0c421c278b24a0aa6f2f3ca3e858bf0\n",
      "  experiment_tag: 2_lr=0.035323,momentum=0.28383\n",
      "  hostname: Schlepptop\n",
      "  iterations_since_restore: 17\n",
      "  mean_accuracy: 0.859375\n",
      "  node_ip: 192.168.123.68\n",
      "  pid: 7989\n",
      "  time_since_restore: 5.684443235397339\n",
      "  time_this_iter_s: 0.34244561195373535\n",
      "  time_total_s: 5.684443235397339\n",
      "  timestamp: 1605022595\n",
      "  timesteps_since_restore: 0\n",
      "  training_iteration: 17\n",
      "  trial_id: 7f89a_00002\n",
      "  \n",
      "Result for TrainMNIST_7f89a_00000:\n",
      "  date: 2020-11-10_16-36-40\n",
      "  done: false\n",
      "  experiment_id: 36c84d11c60c4b8b8bcf351f66a3c684\n",
      "  experiment_tag: 0_lr=0.031456,momentum=0.8918\n",
      "  hostname: Schlepptop\n",
      "  iterations_since_restore: 33\n",
      "  mean_accuracy: 0.94375\n",
      "  node_ip: 192.168.123.68\n",
      "  pid: 7994\n",
      "  time_since_restore: 10.596029281616211\n",
      "  time_this_iter_s: 0.34082531929016113\n",
      "  time_total_s: 10.596029281616211\n",
      "  timestamp: 1605022600\n",
      "  timesteps_since_restore: 0\n",
      "  training_iteration: 33\n",
      "  trial_id: 7f89a_00000\n",
      "  \n",
      "Result for TrainMNIST_7f89a_00002:\n",
      "  date: 2020-11-10_16-36-40\n",
      "  done: false\n",
      "  experiment_id: b0c421c278b24a0aa6f2f3ca3e858bf0\n",
      "  experiment_tag: 2_lr=0.035323,momentum=0.28383\n",
      "  hostname: Schlepptop\n",
      "  iterations_since_restore: 32\n",
      "  mean_accuracy: 0.89375\n",
      "  node_ip: 192.168.123.68\n",
      "  pid: 7989\n",
      "  time_since_restore: 10.650390625\n",
      "  time_this_iter_s: 0.37616491317749023\n",
      "  time_total_s: 10.650390625\n",
      "  timestamp: 1605022600\n",
      "  timesteps_since_restore: 0\n",
      "  training_iteration: 32\n",
      "  trial_id: 7f89a_00002\n",
      "  \n",
      "Result for TrainMNIST_7f89a_00001:\n",
      "  date: 2020-11-10_16-36-40\n",
      "  done: false\n",
      "  experiment_id: b772fb74b1e5461b961b4e90c63f58aa\n",
      "  experiment_tag: 1_lr=0.093862,momentum=0.6529\n",
      "  hostname: Schlepptop\n",
      "  iterations_since_restore: 32\n",
      "  mean_accuracy: 0.95625\n",
      "  node_ip: 192.168.123.68\n",
      "  pid: 7992\n",
      "  time_since_restore: 10.711580991744995\n",
      "  time_this_iter_s: 0.32074642181396484\n",
      "  time_total_s: 10.711580991744995\n",
      "  timestamp: 1605022600\n",
      "  timesteps_since_restore: 0\n",
      "  training_iteration: 32\n",
      "  trial_id: 7f89a_00001\n",
      "  \n",
      "Result for TrainMNIST_7f89a_00000:\n",
      "  date: 2020-11-10_16-36-45\n",
      "  done: false\n",
      "  experiment_id: 36c84d11c60c4b8b8bcf351f66a3c684\n",
      "  experiment_tag: 0_lr=0.031456,momentum=0.8918\n",
      "  hostname: Schlepptop\n",
      "  iterations_since_restore: 49\n",
      "  mean_accuracy: 0.953125\n",
      "  node_ip: 192.168.123.68\n",
      "  pid: 7994\n",
      "  time_since_restore: 15.587796449661255\n",
      "  time_this_iter_s: 0.3813467025756836\n",
      "  time_total_s: 15.587796449661255\n",
      "  timestamp: 1605022605\n",
      "  timesteps_since_restore: 0\n",
      "  training_iteration: 49\n",
      "  trial_id: 7f89a_00000\n",
      "  \n",
      "Result for TrainMNIST_7f89a_00002:\n",
      "  date: 2020-11-10_16-36-45\n",
      "  done: false\n",
      "  experiment_id: b0c421c278b24a0aa6f2f3ca3e858bf0\n",
      "  experiment_tag: 2_lr=0.035323,momentum=0.28383\n",
      "  hostname: Schlepptop\n",
      "  iterations_since_restore: 49\n",
      "  mean_accuracy: 0.8875\n",
      "  node_ip: 192.168.123.68\n",
      "  pid: 7989\n",
      "  time_since_restore: 15.85918140411377\n",
      "  time_this_iter_s: 0.275043249130249\n",
      "  time_total_s: 15.85918140411377\n",
      "  timestamp: 1605022605\n",
      "  timesteps_since_restore: 0\n",
      "  training_iteration: 49\n",
      "  trial_id: 7f89a_00002\n",
      "  \n",
      "Result for TrainMNIST_7f89a_00001:\n",
      "  date: 2020-11-10_16-36-45\n",
      "  done: false\n",
      "  experiment_id: b772fb74b1e5461b961b4e90c63f58aa\n",
      "  experiment_tag: 1_lr=0.093862,momentum=0.6529\n",
      "  hostname: Schlepptop\n",
      "  iterations_since_restore: 49\n",
      "  mean_accuracy: 0.94375\n",
      "  node_ip: 192.168.123.68\n",
      "  pid: 7992\n",
      "  time_since_restore: 15.93089246749878\n",
      "  time_this_iter_s: 0.2960076332092285\n",
      "  time_total_s: 15.93089246749878\n",
      "  timestamp: 1605022605\n",
      "  timesteps_since_restore: 0\n",
      "  training_iteration: 49\n",
      "  trial_id: 7f89a_00001\n",
      "  \n",
      "Result for TrainMNIST_7f89a_00000:\n",
      "  date: 2020-11-10_16-36-50\n",
      "  done: false\n",
      "  experiment_id: 36c84d11c60c4b8b8bcf351f66a3c684\n",
      "  experiment_tag: 0_lr=0.031456,momentum=0.8918\n",
      "  hostname: Schlepptop\n",
      "  iterations_since_restore: 64\n",
      "  mean_accuracy: 0.934375\n",
      "  node_ip: 192.168.123.68\n",
      "  pid: 7994\n",
      "  time_since_restore: 20.5743088722229\n",
      "  time_this_iter_s: 0.3609025478363037\n",
      "  time_total_s: 20.5743088722229\n",
      "  timestamp: 1605022610\n",
      "  timesteps_since_restore: 0\n",
      "  training_iteration: 64\n",
      "  trial_id: 7f89a_00000\n",
      "  \n",
      "Result for TrainMNIST_7f89a_00002:\n",
      "  date: 2020-11-10_16-36-50\n",
      "  done: false\n",
      "  experiment_id: b0c421c278b24a0aa6f2f3ca3e858bf0\n",
      "  experiment_tag: 2_lr=0.035323,momentum=0.28383\n",
      "  hostname: Schlepptop\n",
      "  iterations_since_restore: 66\n",
      "  mean_accuracy: 0.91875\n",
      "  node_ip: 192.168.123.68\n",
      "  pid: 7989\n",
      "  time_since_restore: 20.860114336013794\n",
      "  time_this_iter_s: 0.3109610080718994\n",
      "  time_total_s: 20.860114336013794\n",
      "  timestamp: 1605022610\n",
      "  timesteps_since_restore: 0\n",
      "  training_iteration: 66\n",
      "  trial_id: 7f89a_00002\n",
      "  \n",
      "Result for TrainMNIST_7f89a_00001:\n",
      "  date: 2020-11-10_16-36-50\n",
      "  done: false\n",
      "  experiment_id: b772fb74b1e5461b961b4e90c63f58aa\n",
      "  experiment_tag: 1_lr=0.093862,momentum=0.6529\n",
      "  hostname: Schlepptop\n",
      "  iterations_since_restore: 63\n",
      "  mean_accuracy: 0.959375\n",
      "  node_ip: 192.168.123.68\n",
      "  pid: 7992\n",
      "  time_since_restore: 20.89049196243286\n",
      "  time_this_iter_s: 0.34363770484924316\n",
      "  time_total_s: 20.89049196243286\n",
      "  timestamp: 1605022610\n",
      "  timesteps_since_restore: 0\n",
      "  training_iteration: 63\n",
      "  trial_id: 7f89a_00001\n",
      "  \n",
      "Result for TrainMNIST_7f89a_00000:\n",
      "  date: 2020-11-10_16-36-55\n",
      "  done: false\n",
      "  experiment_id: 36c84d11c60c4b8b8bcf351f66a3c684\n",
      "  experiment_tag: 0_lr=0.031456,momentum=0.8918\n",
      "  hostname: Schlepptop\n",
      "  iterations_since_restore: 79\n",
      "  mean_accuracy: 0.953125\n",
      "  node_ip: 192.168.123.68\n",
      "  pid: 7994\n",
      "  time_since_restore: 25.575891971588135\n",
      "  time_this_iter_s: 0.3276634216308594\n",
      "  time_total_s: 25.575891971588135\n",
      "  timestamp: 1605022615\n",
      "  timesteps_since_restore: 0\n",
      "  training_iteration: 79\n",
      "  trial_id: 7f89a_00000\n",
      "  \n",
      "Result for TrainMNIST_7f89a_00002:\n",
      "  date: 2020-11-10_16-36-55\n",
      "  done: false\n",
      "  experiment_id: b0c421c278b24a0aa6f2f3ca3e858bf0\n",
      "  experiment_tag: 2_lr=0.035323,momentum=0.28383\n",
      "  hostname: Schlepptop\n",
      "  iterations_since_restore: 83\n",
      "  mean_accuracy: 0.878125\n",
      "  node_ip: 192.168.123.68\n",
      "  pid: 7989\n",
      "  time_since_restore: 25.877933263778687\n",
      "  time_this_iter_s: 0.28241729736328125\n",
      "  time_total_s: 25.877933263778687\n",
      "  timestamp: 1605022615\n",
      "  timesteps_since_restore: 0\n",
      "  training_iteration: 83\n",
      "  trial_id: 7f89a_00002\n",
      "  \n",
      "Result for TrainMNIST_7f89a_00001:\n",
      "  date: 2020-11-10_16-36-55\n",
      "  done: false\n",
      "  experiment_id: b772fb74b1e5461b961b4e90c63f58aa\n",
      "  experiment_tag: 1_lr=0.093862,momentum=0.6529\n",
      "  hostname: Schlepptop\n",
      "  iterations_since_restore: 80\n",
      "  mean_accuracy: 0.95625\n",
      "  node_ip: 192.168.123.68\n",
      "  pid: 7992\n",
      "  time_since_restore: 26.02106809616089\n",
      "  time_this_iter_s: 0.2850618362426758\n",
      "  time_total_s: 26.02106809616089\n",
      "  timestamp: 1605022615\n",
      "  timesteps_since_restore: 0\n",
      "  training_iteration: 80\n",
      "  trial_id: 7f89a_00001\n",
      "  \n",
      "Result for TrainMNIST_7f89a_00000:\n",
      "  date: 2020-11-10_16-37-00\n",
      "  done: false\n",
      "  experiment_id: 36c84d11c60c4b8b8bcf351f66a3c684\n",
      "  experiment_tag: 0_lr=0.031456,momentum=0.8918\n",
      "  hostname: Schlepptop\n",
      "  iterations_since_restore: 95\n",
      "  mean_accuracy: 0.953125\n",
      "  node_ip: 192.168.123.68\n",
      "  pid: 7994\n",
      "  time_since_restore: 30.784801483154297\n",
      "  time_this_iter_s: 0.3271751403808594\n",
      "  time_total_s: 30.784801483154297\n",
      "  timestamp: 1605022620\n",
      "  timesteps_since_restore: 0\n",
      "  training_iteration: 95\n",
      "  trial_id: 7f89a_00000\n",
      "  \n",
      "Result for TrainMNIST_7f89a_00002:\n",
      "  date: 2020-11-10_16-37-00\n",
      "  done: true\n",
      "  experiment_id: b0c421c278b24a0aa6f2f3ca3e858bf0\n",
      "  experiment_tag: 2_lr=0.035323,momentum=0.28383\n",
      "  hostname: Schlepptop\n",
      "  iterations_since_restore: 100\n",
      "  mean_accuracy: 0.925\n",
      "  node_ip: 192.168.123.68\n",
      "  pid: 7989\n",
      "  time_since_restore: 30.894251108169556\n",
      "  time_this_iter_s: 0.2860095500946045\n",
      "  time_total_s: 30.894251108169556\n",
      "  timestamp: 1605022620\n",
      "  timesteps_since_restore: 0\n",
      "  training_iteration: 100\n",
      "  trial_id: 7f89a_00002\n",
      "  \n",
      "Result for TrainMNIST_7f89a_00001:\n",
      "  date: 2020-11-10_16-37-01\n",
      "  done: false\n",
      "  experiment_id: b772fb74b1e5461b961b4e90c63f58aa\n",
      "  experiment_tag: 1_lr=0.093862,momentum=0.6529\n",
      "  hostname: Schlepptop\n",
      "  iterations_since_restore: 96\n",
      "  mean_accuracy: 0.94375\n",
      "  node_ip: 192.168.123.68\n",
      "  pid: 7992\n",
      "  time_since_restore: 31.198638916015625\n",
      "  time_this_iter_s: 0.31931519508361816\n",
      "  time_total_s: 31.198638916015625\n",
      "  timestamp: 1605022621\n",
      "  timesteps_since_restore: 0\n",
      "  training_iteration: 96\n",
      "  trial_id: 7f89a_00001\n",
      "  \n",
      "Result for TrainMNIST_7f89a_00000:\n",
      "  date: 2020-11-10_16-37-02\n",
      "  done: true\n",
      "  experiment_id: 36c84d11c60c4b8b8bcf351f66a3c684\n",
      "  experiment_tag: 0_lr=0.031456,momentum=0.8918\n",
      "  hostname: Schlepptop\n",
      "  iterations_since_restore: 100\n",
      "  mean_accuracy: 0.925\n",
      "  node_ip: 192.168.123.68\n",
      "  pid: 7994\n",
      "  time_since_restore: 32.30641508102417\n",
      "  time_this_iter_s: 0.29268932342529297\n",
      "  time_total_s: 32.30641508102417\n",
      "  timestamp: 1605022622\n",
      "  timesteps_since_restore: 0\n",
      "  training_iteration: 100\n",
      "  trial_id: 7f89a_00000\n",
      "  \n",
      "Result for TrainMNIST_7f89a_00001:\n",
      "  date: 2020-11-10_16-37-02\n",
      "  done: true\n",
      "  experiment_id: b772fb74b1e5461b961b4e90c63f58aa\n",
      "  experiment_tag: 1_lr=0.093862,momentum=0.6529\n",
      "  hostname: Schlepptop\n",
      "  iterations_since_restore: 100\n",
      "  mean_accuracy: 0.946875\n",
      "  node_ip: 192.168.123.68\n",
      "  pid: 7992\n",
      "  time_since_restore: 32.41263294219971\n",
      "  time_this_iter_s: 0.3072826862335205\n",
      "  time_total_s: 32.41263294219971\n",
      "  timestamp: 1605022622\n",
      "  timesteps_since_restore: 0\n",
      "  training_iteration: 100\n",
      "  trial_id: 7f89a_00001\n",
      "  \n"
     ]
    },
    {
     "data": {
      "text/plain": "<IPython.core.display.HTML object>",
      "text/html": "== Status ==<br>Memory usage on this node: 6.9/7.5 GiB: ***LOW MEMORY*** less than 10% of the memory on this node is available for use. This can cause unexpected crashes. Consider reducing the memory used by your application or reducing the Ray object store size by setting `object_store_memory` when calling `ray.init`.<br>Using FIFO scheduling algorithm.<br>Resources requested: 6/10 CPUs, 0/0 GPUs, 0.0/1.03 GiB heap, 0.0/0.34 GiB objects<br>Result logdir: /home/lena/ray_results/torch_mnist/TrainMNIST<br>Number of trials: 3 (3 RUNNING)<br><table>\n<thead>\n<tr><th>Trial name            </th><th>status  </th><th>loc                </th><th style=\"text-align: right;\">       lr</th><th style=\"text-align: right;\">  momentum</th><th style=\"text-align: right;\">     acc</th><th style=\"text-align: right;\">  iter</th><th style=\"text-align: right;\">  total time (s)</th></tr>\n</thead>\n<tbody>\n<tr><td>TrainMNIST_7f89a_00000</td><td>RUNNING </td><td>192.168.123.68:7994</td><td style=\"text-align: right;\">0.0314558</td><td style=\"text-align: right;\">  0.891798</td><td style=\"text-align: right;\">0.928125</td><td style=\"text-align: right;\">    11</td><td style=\"text-align: right;\">         3.50817</td></tr>\n<tr><td>TrainMNIST_7f89a_00001</td><td>RUNNING </td><td>192.168.123.68:7992</td><td style=\"text-align: right;\">0.0938618</td><td style=\"text-align: right;\">  0.652903</td><td style=\"text-align: right;\">0.8875  </td><td style=\"text-align: right;\">    10</td><td style=\"text-align: right;\">         3.3598 </td></tr>\n<tr><td>TrainMNIST_7f89a_00002</td><td>RUNNING </td><td>192.168.123.68:7989</td><td style=\"text-align: right;\">0.0353234</td><td style=\"text-align: right;\">  0.283825</td><td style=\"text-align: right;\">0.86875 </td><td style=\"text-align: right;\">    10</td><td style=\"text-align: right;\">         3.27625</td></tr>\n</tbody>\n</table><br><br>"
     },
     "metadata": {},
     "output_type": "display_data"
    },
    {
     "data": {
      "text/plain": "<IPython.core.display.HTML object>",
      "text/html": "== Status ==<br>Memory usage on this node: 6.8/7.5 GiB: ***LOW MEMORY*** less than 10% of the memory on this node is available for use. This can cause unexpected crashes. Consider reducing the memory used by your application or reducing the Ray object store size by setting `object_store_memory` when calling `ray.init`.<br>Using FIFO scheduling algorithm.<br>Resources requested: 6/10 CPUs, 0/0 GPUs, 0.0/1.03 GiB heap, 0.0/0.34 GiB objects<br>Result logdir: /home/lena/ray_results/torch_mnist/TrainMNIST<br>Number of trials: 3 (3 RUNNING)<br><table>\n<thead>\n<tr><th>Trial name            </th><th>status  </th><th>loc                </th><th style=\"text-align: right;\">       lr</th><th style=\"text-align: right;\">  momentum</th><th style=\"text-align: right;\">     acc</th><th style=\"text-align: right;\">  iter</th><th style=\"text-align: right;\">  total time (s)</th></tr>\n</thead>\n<tbody>\n<tr><td>TrainMNIST_7f89a_00000</td><td>RUNNING </td><td>192.168.123.68:7994</td><td style=\"text-align: right;\">0.0314558</td><td style=\"text-align: right;\">  0.891798</td><td style=\"text-align: right;\">0.95625 </td><td style=\"text-align: right;\">    26</td><td style=\"text-align: right;\">         8.4144 </td></tr>\n<tr><td>TrainMNIST_7f89a_00001</td><td>RUNNING </td><td>192.168.123.68:7992</td><td style=\"text-align: right;\">0.0938618</td><td style=\"text-align: right;\">  0.652903</td><td style=\"text-align: right;\">0.953125</td><td style=\"text-align: right;\">    24</td><td style=\"text-align: right;\">         8.10746</td></tr>\n<tr><td>TrainMNIST_7f89a_00002</td><td>RUNNING </td><td>192.168.123.68:7989</td><td style=\"text-align: right;\">0.0353234</td><td style=\"text-align: right;\">  0.283825</td><td style=\"text-align: right;\">0.878125</td><td style=\"text-align: right;\">    25</td><td style=\"text-align: right;\">         8.46382</td></tr>\n</tbody>\n</table><br><br>"
     },
     "metadata": {},
     "output_type": "display_data"
    },
    {
     "data": {
      "text/plain": "<IPython.core.display.HTML object>",
      "text/html": "== Status ==<br>Memory usage on this node: 6.9/7.5 GiB: ***LOW MEMORY*** less than 10% of the memory on this node is available for use. This can cause unexpected crashes. Consider reducing the memory used by your application or reducing the Ray object store size by setting `object_store_memory` when calling `ray.init`.<br>Using FIFO scheduling algorithm.<br>Resources requested: 6/10 CPUs, 0/0 GPUs, 0.0/1.03 GiB heap, 0.0/0.34 GiB objects<br>Result logdir: /home/lena/ray_results/torch_mnist/TrainMNIST<br>Number of trials: 3 (3 RUNNING)<br><table>\n<thead>\n<tr><th>Trial name            </th><th>status  </th><th>loc                </th><th style=\"text-align: right;\">       lr</th><th style=\"text-align: right;\">  momentum</th><th style=\"text-align: right;\">     acc</th><th style=\"text-align: right;\">  iter</th><th style=\"text-align: right;\">  total time (s)</th></tr>\n</thead>\n<tbody>\n<tr><td>TrainMNIST_7f89a_00000</td><td>RUNNING </td><td>192.168.123.68:7994</td><td style=\"text-align: right;\">0.0314558</td><td style=\"text-align: right;\">  0.891798</td><td style=\"text-align: right;\">0.94375 </td><td style=\"text-align: right;\">    42</td><td style=\"text-align: right;\">         13.3247</td></tr>\n<tr><td>TrainMNIST_7f89a_00001</td><td>RUNNING </td><td>192.168.123.68:7992</td><td style=\"text-align: right;\">0.0938618</td><td style=\"text-align: right;\">  0.652903</td><td style=\"text-align: right;\">0.9625  </td><td style=\"text-align: right;\">    40</td><td style=\"text-align: right;\">         13.1684</td></tr>\n<tr><td>TrainMNIST_7f89a_00002</td><td>RUNNING </td><td>192.168.123.68:7989</td><td style=\"text-align: right;\">0.0353234</td><td style=\"text-align: right;\">  0.283825</td><td style=\"text-align: right;\">0.890625</td><td style=\"text-align: right;\">    41</td><td style=\"text-align: right;\">         13.4389</td></tr>\n</tbody>\n</table><br><br>"
     },
     "metadata": {},
     "output_type": "display_data"
    },
    {
     "data": {
      "text/plain": "<IPython.core.display.HTML object>",
      "text/html": "== Status ==<br>Memory usage on this node: 6.8/7.5 GiB: ***LOW MEMORY*** less than 10% of the memory on this node is available for use. This can cause unexpected crashes. Consider reducing the memory used by your application or reducing the Ray object store size by setting `object_store_memory` when calling `ray.init`.<br>Using FIFO scheduling algorithm.<br>Resources requested: 6/10 CPUs, 0/0 GPUs, 0.0/1.03 GiB heap, 0.0/0.34 GiB objects<br>Result logdir: /home/lena/ray_results/torch_mnist/TrainMNIST<br>Number of trials: 3 (3 RUNNING)<br><table>\n<thead>\n<tr><th>Trial name            </th><th>status  </th><th>loc                </th><th style=\"text-align: right;\">       lr</th><th style=\"text-align: right;\">  momentum</th><th style=\"text-align: right;\">     acc</th><th style=\"text-align: right;\">  iter</th><th style=\"text-align: right;\">  total time (s)</th></tr>\n</thead>\n<tbody>\n<tr><td>TrainMNIST_7f89a_00000</td><td>RUNNING </td><td>192.168.123.68:7994</td><td style=\"text-align: right;\">0.0314558</td><td style=\"text-align: right;\">  0.891798</td><td style=\"text-align: right;\">0.928125</td><td style=\"text-align: right;\">    58</td><td style=\"text-align: right;\">         18.4538</td></tr>\n<tr><td>TrainMNIST_7f89a_00001</td><td>RUNNING </td><td>192.168.123.68:7992</td><td style=\"text-align: right;\">0.0938618</td><td style=\"text-align: right;\">  0.652903</td><td style=\"text-align: right;\">0.946875</td><td style=\"text-align: right;\">    56</td><td style=\"text-align: right;\">         18.3573</td></tr>\n<tr><td>TrainMNIST_7f89a_00002</td><td>RUNNING </td><td>192.168.123.68:7989</td><td style=\"text-align: right;\">0.0353234</td><td style=\"text-align: right;\">  0.283825</td><td style=\"text-align: right;\">0.896875</td><td style=\"text-align: right;\">    57</td><td style=\"text-align: right;\">         18.2515</td></tr>\n</tbody>\n</table><br><br>"
     },
     "metadata": {},
     "output_type": "display_data"
    },
    {
     "data": {
      "text/plain": "<IPython.core.display.HTML object>",
      "text/html": "== Status ==<br>Memory usage on this node: 6.8/7.5 GiB: ***LOW MEMORY*** less than 10% of the memory on this node is available for use. This can cause unexpected crashes. Consider reducing the memory used by your application or reducing the Ray object store size by setting `object_store_memory` when calling `ray.init`.<br>Using FIFO scheduling algorithm.<br>Resources requested: 6/10 CPUs, 0/0 GPUs, 0.0/1.03 GiB heap, 0.0/0.34 GiB objects<br>Result logdir: /home/lena/ray_results/torch_mnist/TrainMNIST<br>Number of trials: 3 (3 RUNNING)<br><table>\n<thead>\n<tr><th>Trial name            </th><th>status  </th><th>loc                </th><th style=\"text-align: right;\">       lr</th><th style=\"text-align: right;\">  momentum</th><th style=\"text-align: right;\">     acc</th><th style=\"text-align: right;\">  iter</th><th style=\"text-align: right;\">  total time (s)</th></tr>\n</thead>\n<tbody>\n<tr><td>TrainMNIST_7f89a_00000</td><td>RUNNING </td><td>192.168.123.68:7994</td><td style=\"text-align: right;\">0.0314558</td><td style=\"text-align: right;\">  0.891798</td><td style=\"text-align: right;\">0.94375 </td><td style=\"text-align: right;\">    72</td><td style=\"text-align: right;\">         23.2255</td></tr>\n<tr><td>TrainMNIST_7f89a_00001</td><td>RUNNING </td><td>192.168.123.68:7992</td><td style=\"text-align: right;\">0.0938618</td><td style=\"text-align: right;\">  0.652903</td><td style=\"text-align: right;\">0.95    </td><td style=\"text-align: right;\">    71</td><td style=\"text-align: right;\">         23.2431</td></tr>\n<tr><td>TrainMNIST_7f89a_00002</td><td>RUNNING </td><td>192.168.123.68:7989</td><td style=\"text-align: right;\">0.0353234</td><td style=\"text-align: right;\">  0.283825</td><td style=\"text-align: right;\">0.915625</td><td style=\"text-align: right;\">    75</td><td style=\"text-align: right;\">         23.4894</td></tr>\n</tbody>\n</table><br><br>"
     },
     "metadata": {},
     "output_type": "display_data"
    },
    {
     "data": {
      "text/plain": "<IPython.core.display.HTML object>",
      "text/html": "== Status ==<br>Memory usage on this node: 6.8/7.5 GiB: ***LOW MEMORY*** less than 10% of the memory on this node is available for use. This can cause unexpected crashes. Consider reducing the memory used by your application or reducing the Ray object store size by setting `object_store_memory` when calling `ray.init`.<br>Using FIFO scheduling algorithm.<br>Resources requested: 6/10 CPUs, 0/0 GPUs, 0.0/1.03 GiB heap, 0.0/0.34 GiB objects<br>Result logdir: /home/lena/ray_results/torch_mnist/TrainMNIST<br>Number of trials: 3 (3 RUNNING)<br><table>\n<thead>\n<tr><th>Trial name            </th><th>status  </th><th>loc                </th><th style=\"text-align: right;\">       lr</th><th style=\"text-align: right;\">  momentum</th><th style=\"text-align: right;\">     acc</th><th style=\"text-align: right;\">  iter</th><th style=\"text-align: right;\">  total time (s)</th></tr>\n</thead>\n<tbody>\n<tr><td>TrainMNIST_7f89a_00000</td><td>RUNNING </td><td>192.168.123.68:7994</td><td style=\"text-align: right;\">0.0314558</td><td style=\"text-align: right;\">  0.891798</td><td style=\"text-align: right;\">0.946875</td><td style=\"text-align: right;\">    88</td><td style=\"text-align: right;\">         28.4589</td></tr>\n<tr><td>TrainMNIST_7f89a_00001</td><td>RUNNING </td><td>192.168.123.68:7992</td><td style=\"text-align: right;\">0.0938618</td><td style=\"text-align: right;\">  0.652903</td><td style=\"text-align: right;\">0.940625</td><td style=\"text-align: right;\">    87</td><td style=\"text-align: right;\">         28.3333</td></tr>\n<tr><td>TrainMNIST_7f89a_00002</td><td>RUNNING </td><td>192.168.123.68:7989</td><td style=\"text-align: right;\">0.0353234</td><td style=\"text-align: right;\">  0.283825</td><td style=\"text-align: right;\">0.928125</td><td style=\"text-align: right;\">    91</td><td style=\"text-align: right;\">         28.2679</td></tr>\n</tbody>\n</table><br><br>"
     },
     "metadata": {},
     "output_type": "display_data"
    },
    {
     "data": {
      "text/plain": "<IPython.core.display.HTML object>",
      "text/html": "== Status ==<br>Memory usage on this node: 6.7/7.5 GiB<br>Using FIFO scheduling algorithm.<br>Resources requested: 0/10 CPUs, 0/0 GPUs, 0.0/1.03 GiB heap, 0.0/0.34 GiB objects<br>Result logdir: /home/lena/ray_results/torch_mnist/TrainMNIST<br>Number of trials: 3 (3 TERMINATED)<br><table>\n<thead>\n<tr><th>Trial name            </th><th>status    </th><th>loc  </th><th style=\"text-align: right;\">       lr</th><th style=\"text-align: right;\">  momentum</th><th style=\"text-align: right;\">     acc</th><th style=\"text-align: right;\">  iter</th><th style=\"text-align: right;\">  total time (s)</th></tr>\n</thead>\n<tbody>\n<tr><td>TrainMNIST_7f89a_00000</td><td>TERMINATED</td><td>     </td><td style=\"text-align: right;\">0.0314558</td><td style=\"text-align: right;\">  0.891798</td><td style=\"text-align: right;\">0.925   </td><td style=\"text-align: right;\">   100</td><td style=\"text-align: right;\">         32.3064</td></tr>\n<tr><td>TrainMNIST_7f89a_00001</td><td>TERMINATED</td><td>     </td><td style=\"text-align: right;\">0.0938618</td><td style=\"text-align: right;\">  0.652903</td><td style=\"text-align: right;\">0.946875</td><td style=\"text-align: right;\">   100</td><td style=\"text-align: right;\">         32.4126</td></tr>\n<tr><td>TrainMNIST_7f89a_00002</td><td>TERMINATED</td><td>     </td><td style=\"text-align: right;\">0.0353234</td><td style=\"text-align: right;\">  0.283825</td><td style=\"text-align: right;\">0.925   </td><td style=\"text-align: right;\">   100</td><td style=\"text-align: right;\">         30.8943</td></tr>\n</tbody>\n</table><br><br>"
     },
     "metadata": {},
     "output_type": "display_data"
    }
   ],
   "source": [
    "config = {\n",
    "        \"lr\": tune.uniform(0.001, 0.1),\n",
    "        \"momentum\": tune.uniform(0.1, 0.9),\n",
    "    }\n",
    "\n",
    "\n",
    "analysis = tune.run(\n",
    "    TrainMNIST,\n",
    "    config=config,\n",
    "    local_dir=\"~/ray_results/torch_mnist\",\n",
    "    mode='max',\n",
    "    resources_per_trial={\n",
    "        \"cpu\": 2,\n",
    "        \"gpu\": 0\n",
    "    },\n",
    "    num_samples=3,\n",
    "    checkpoint_at_end=True,\n",
    "    checkpoint_freq=10,\n",
    "#     keep_checkpoints_num=3, # only keep n best checkpoints\n",
    "    stop={\n",
    "        \"mean_accuracy\": 0.99,\n",
    "        \"training_iteration\": 100,\n",
    "    })\n",
    "\n"
   ]
  },
  {
   "cell_type": "code",
   "execution_count": 18,
   "metadata": {},
   "outputs": [
    {
     "name": "stdout",
     "output_type": "stream",
     "text": [
      "Best config is:\n",
      "TrainMNIST_7f89a_00001\n",
      "{'lr': 0.0938618490320079, 'momentum': 0.6529032733476126}\n"
     ]
    }
   ],
   "source": [
    "from pprint import pprint\n",
    "print(\"Best config is:\")\n",
    "pprint(analysis.get_best_trial(metric=\"mean_accuracy\"))\n",
    "pprint(analysis.get_best_config(metric=\"mean_accuracy\"))"
   ]
  },
  {
   "cell_type": "code",
   "execution_count": 14,
   "outputs": [
    {
     "data": {
      "text/plain": "Launching TensorBoard..."
     },
     "metadata": {},
     "output_type": "display_data"
    }
   ],
   "source": [
    "%load_ext tensorboard\n",
    "from tensorboard import notebook\n",
    "%tensorboard --logdir \"~/ray_results/torch_mnist\""
   ],
   "metadata": {
    "collapsed": false,
    "pycharm": {
     "name": "#%%\n"
    }
   }
  },
  {
   "cell_type": "markdown",
   "metadata": {},
   "source": [
    "## Load a model and check results"
   ]
  },
  {
   "cell_type": "code",
   "execution_count": 20,
   "metadata": {},
   "outputs": [],
   "source": [
    "train_loader, test_loader = get_data_loaders()"
   ]
  },
  {
   "cell_type": "code",
   "execution_count": 21,
   "metadata": {
    "scrolled": false
   },
   "outputs": [],
   "source": [
    "X, y = list(test_loader)[np.random.randint(0, len(test_loader))]"
   ]
  },
  {
   "cell_type": "markdown",
   "metadata": {},
   "source": [
    "#### Find the model checkpoint you want to load"
   ]
  },
  {
   "cell_type": "code",
   "execution_count": 23,
   "metadata": {},
   "outputs": [
    {
     "name": "stdout",
     "output_type": "stream",
     "text": [
      "True\n",
      "/home/lena/ray_results/torch_mnist/TrainMNIST/TrainMNIST_f5e1d_00000_0_lr=0.061562,momentum=0.72127_2020-11-09_17-45-23/checkpoint_100/model.pth\n"
     ]
    }
   ],
   "source": [
    "# select model with highest accuracy according to tensorboard\n",
    "# TrainMNIST_f5e1d_00000_0_lr=0.061562,momentum=0.72127_2020-11-09_17-45-23\n",
    "# (weirdly it's not the same as best_config\n",
    "\n",
    "# create path to model file\n",
    "checkpoint_path = path.join(path.expanduser('~'),'ray_results','torch_mnist','TrainMNIST',\n",
    "                          'TrainMNIST_f5e1d_00000_0_lr=0.061562,momentum=0.72127_2020-11-09_17-45-23',\n",
    "                         'checkpoint_100', 'model.pth')\n",
    "print(path.exists(checkpoint_path))\n",
    "print(checkpoint_path)"
   ]
  },
  {
   "cell_type": "code",
   "execution_count": 26,
   "metadata": {},
   "outputs": [],
   "source": [
    "device = torch.device(\"cpu\")\n",
    "\n",
    "with torch.set_grad_enabled(False):\n",
    "    model = ConvNet()\n",
    "    model.load_state_dict(torch.load(checkpoint_path))\n",
    "    \n",
    "    model.to(device)\n",
    "    \n",
    "    y_ = model(X.to(device)).cpu()\n",
    "    \n",
    "    _, predicted = torch.max(y_, 1)"
   ]
  },
  {
   "cell_type": "code",
   "execution_count": 27,
   "metadata": {
    "scrolled": false
   },
   "outputs": [
    {
     "data": {
      "text/plain": "<Figure size 1440x1440 with 64 Axes>",
      "image/png": "[encoded data removed]"
     },
     "metadata": {},
     "output_type": "display_data"
    }
   ],
   "source": [
    "fig, axs = plt.subplots(8,8, figsize=(20,20))\n",
    "axsf = [item for s in axs for item in s]\n",
    "\n",
    "for n,ax in enumerate(axsf):\n",
    "    ax.imshow(X[n].squeeze().numpy())\n",
    "    ax.axis('off')\n",
    "    ax.set_title(predicted[n].item())\n",
    "    \n",
    "plt.show()"
   ]
  },
  {
   "cell_type": "code",
   "execution_count": 28,
   "metadata": {},
   "outputs": [],
   "source": [
    "ray.shutdown()\n"
   ]
  },
  {
   "cell_type": "code",
   "execution_count": null,
   "metadata": {},
   "outputs": [],
   "source": [
    "# https://github.com/ray-project/ray/issues/4569"
   ]
  },
  {
   "cell_type": "code",
   "execution_count": null,
   "metadata": {},
   "outputs": [],
   "source": [
    "# Exercises\n",
    "# - change out the optimiser for adam\n",
    "# - add network hyperparameters"
   ]
  }
 ],
 "metadata": {
  "kernelspec": {
   "display_name": "Python 3",
   "language": "python",
   "name": "python3"
  },
  "language_info": {
   "codemirror_mode": {
    "name": "ipython",
    "version": 3
   },
   "file_extension": ".py",
   "mimetype": "text/x-python",
   "name": "python",
   "nbconvert_exporter": "python",
   "pygments_lexer": "ipython3",
   "version": "3.8.3"
  }
 },
 "nbformat": 4,
 "nbformat_minor": 4
}