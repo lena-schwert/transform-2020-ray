{
 "cells": [
  {
   "cell_type": "markdown",
   "metadata": {},
   "source": [
    "# Trainable MNIST\n",
    "\n",
    "Raytune has a great collection of [examples](https://github.com/ray-project/ray/tree/master/python/ray/tune/examples) and I have picked a simple one to impement in a notebook. This is godo to play with if you are within a GPU or want to try a *big* parameter search as it's relatively quick and easy to train.\n",
    "\n",
    "\n",
    "## What is MNIST?\n",
    "\n",
    "In case you are unfamilar MNIST is a standard handwritten character dataset used widely in Machine Learning examples. The dataset consists of 70,000 28x28 images (60,000 training and 10,000 test)\n",
    "\n",
    "\n",
    "Here are some examples from the dataset [source: wikipedia](https://en.wikipedia.org/wiki/MNIST_database#/media/File:MnistExamples.png)\n",
    "\n",
    "![MNIST Examples](MnistExamples.png)\n",
    "\n"
   ]
  },
  {
   "cell_type": "markdown",
   "metadata": {},
   "source": [
    "### Load Dependencies\n",
    "\n",
    "We load the usual deps and also load [PyTorch](https://pytorch.org/docs/stable/index.html) so that we can define a small Neural Network to train as a classifer"
   ]
  },
  {
   "cell_type": "code",
   "execution_count": 1,
   "metadata": {},
   "outputs": [
    {
     "name": "stdout",
     "output_type": "stream",
     "text": [
      "Loading dependencies we have already seen...\n",
      "Importing ray...\n",
      "Done...\n"
     ]
    }
   ],
   "source": [
    "%load_ext autoreload\n",
    "%autoreload 2\n",
    "\n",
    "from dependencies import *"
   ]
  },
  {
   "cell_type": "code",
   "execution_count": 2,
   "metadata": {},
   "outputs": [],
   "source": [
    "import torch\n",
    "import torch.nn as nn\n",
    "import torch.optim as optim\n",
    "import torch.nn.functional as F"
   ]
  },
  {
   "cell_type": "markdown",
   "metadata": {},
   "source": [
    "## Dataloaders\n",
    "\n",
    "We'll re-use some standard dataloaders from the ray examples. This function returns 2 pytorch dataloaders, one for train and one for test"
   ]
  },
  {
   "cell_type": "code",
   "execution_count": 3,
   "metadata": {},
   "outputs": [],
   "source": [
    "from mnist_pytorch import get_data_loaders"
   ]
  },
  {
   "cell_type": "markdown",
   "metadata": {},
   "source": [
    "## Network\n",
    "\n",
    "We define a very small ConvNET with a single Conv2D layer and single Linear Layer\n",
    "\n",
    "Things to Try:\n",
    " - Try building up larger networks to see if performance improves\n",
    " - Try adding options to the `__init__()` function to vary layer properties or the number of layers and tune these new parameters"
   ]
  },
  {
   "cell_type": "code",
   "execution_count": 4,
   "metadata": {},
   "outputs": [],
   "source": [
    "class ConvNet(nn.Module):\n",
    "    def __init__(self, width=3):\n",
    "        super(ConvNet, self).__init__()       \n",
    "        self.width=width\n",
    "        \n",
    "        self.conv1 = nn.Conv2d(1, width, kernel_size=3)\n",
    "        self.fc = nn.Linear(width*8*8, 10)\n",
    "\n",
    "    def forward(self, x):\n",
    "        x = F.relu(F.max_pool2d(self.conv1(x), 3))\n",
    "        x = x.view(-1, self.width*8*8)\n",
    "        x = self.fc(x)\n",
    "        return F.log_softmax(x, dim=1)"
   ]
  },
  {
   "cell_type": "markdown",
   "metadata": {},
   "source": [
    "## Train & Test Functions\n",
    "\n",
    "We define some functions for out training and testing loops\n",
    "\n",
    "During training, we iterate over examples while calculating losses, backpropagating and optimising the network"
   ]
  },
  {
   "cell_type": "code",
   "execution_count": 5,
   "metadata": {},
   "outputs": [],
   "source": [
    "EPOCH_SIZE = 512\n",
    "\n",
    "def train(model, optimizer, train_loader, device=None):\n",
    "    device = device or torch.device(\"cpu\")\n",
    "    \n",
    "    model.train()\n",
    "    for batch_idx, (data, target) in enumerate(train_loader):\n",
    "        if batch_idx * len(data) > EPOCH_SIZE:\n",
    "            return\n",
    "        data, target = data.to(device), target.to(device)\n",
    "        optimizer.zero_grad()\n",
    "        output = model(data)\n",
    "        loss = F.nll_loss(output, target)\n",
    "        loss.backward()\n",
    "        optimizer.step()"
   ]
  },
  {
   "cell_type": "markdown",
   "metadata": {},
   "source": [
    "During test time we iterate over the test set and calculate performance metrics"
   ]
  },
  {
   "cell_type": "code",
   "execution_count": 6,
   "metadata": {},
   "outputs": [],
   "source": [
    "TEST_SIZE=256\n",
    "\n",
    "def test(model, data_loader, device=None):\n",
    "    device = device or torch.device(\"cpu\")\n",
    "    model.eval()\n",
    "    correct = 0\n",
    "    total = 0\n",
    "    with torch.no_grad():\n",
    "        for batch_idx, (data, target) in enumerate(data_loader):\n",
    "            if batch_idx * len(data) > TEST_SIZE:\n",
    "                break\n",
    "            data, target = data.to(device), target.to(device)\n",
    "            outputs = model(data)\n",
    "            _, predicted = torch.max(outputs, 1)\n",
    "            total += target.size(0)\n",
    "            correct += (predicted == target).sum().item()\n",
    "\n",
    "    return correct / total"
   ]
  },
  {
   "cell_type": "markdown",
   "metadata": {},
   "source": [
    "## Check for CUDA"
   ]
  },
  {
   "cell_type": "code",
   "execution_count": 7,
   "metadata": {},
   "outputs": [
    {
     "name": "stdout",
     "output_type": "stream",
     "text": [
      "CUDA Available :D\n"
     ]
    }
   ],
   "source": [
    "print('CUDA Available :D') if torch.cuda.is_available() else print('CPU Only :O')"
   ]
  },
  {
   "cell_type": "markdown",
   "metadata": {},
   "source": [
    "## Start Ray"
   ]
  },
  {
   "cell_type": "code",
   "execution_count": null,
   "metadata": {
    "scrolled": true
   },
   "outputs": [],
   "source": [
    "ray.shutdown()\n",
    "ray.init(num_cpus=10, num_gpus=1)"
   ]
  },
  {
   "cell_type": "code",
   "execution_count": 8,
   "metadata": {},
   "outputs": [],
   "source": [
    "from os import path\n",
    "\n",
    "class TrainMNIST(tune.Trainable):\n",
    "    \n",
    "    def _setup(self, config):\n",
    "        # detect if cuda is availalbe as ray will assign GPUs if available and configured\n",
    "        self.device = torch.device(\"cpu\")\n",
    "        \n",
    "        #\n",
    "        # In this case this will also fetch the MNIST data on first run\n",
    "        #\n",
    "        self.train_loader, self.test_loader = get_data_loaders()\n",
    "        \n",
    "        # create the network\n",
    "        self.model = ConvNet(\n",
    "            # pass in parameters here if we want to tune network internals\n",
    "        ).to(self.device)\n",
    "        \n",
    "        #setup the optimiser (try Adam instead and change parameters we are tuning)\n",
    "        self.optimizer = optim.SGD(\n",
    "            self.model.parameters(),\n",
    "            lr=config.get(\"lr\", 0.01),\n",
    "            momentum=config.get(\"momentum\", 0.9))\n",
    "                \n",
    "\n",
    "    def _train(self):\n",
    "        \n",
    "        train(self.model, self.optimizer, self.train_loader, device=self.device)\n",
    "        \n",
    "        acc = test(self.model, self.test_loader, self.device)\n",
    "        \n",
    "        return {\"mean_accuracy\": acc}\n",
    "    \n",
    "    \n",
    "    def _save(self, checkpoint_dir):\n",
    "        checkpoint_path = path.join(checkpoint_dir, \"model.pth\")\n",
    "        torch.save(self.model.state_dict(), checkpoint_path)\n",
    "        return checkpoint_path\n",
    "    \n",
    "    \n",
    "    def _restore(self, checkpoint_path):\n",
    "        self.model.load_state_dict(torch.load(checkpoint_path))"
   ]
  },
  {
   "cell_type": "code",
   "execution_count": 9,
   "metadata": {
    "scrolled": true
   },
   "outputs": [
    {
     "name": "stderr",
     "output_type": "stream",
     "text": [
      "2020-11-09 18:04:22,815\tINFO services.py:1164 -- View the Ray dashboard at \u001B[1m\u001B[32mhttp://127.0.0.1:8265\u001B[39m\u001B[22m\n",
      "\u001B[2m\u001B[36m(pid=8801)\u001B[0m 2020-11-09 18:04:25,965\tWARNING trainable.py:860 -- Trainable._setup is deprecated and will be removed in a future version of Ray. Override Trainable.setup instead.\n",
      "\u001B[2m\u001B[36m(pid=8803)\u001B[0m 2020-11-09 18:04:25,971\tWARNING trainable.py:860 -- Trainable._setup is deprecated and will be removed in a future version of Ray. Override Trainable.setup instead.\n",
      "\u001B[2m\u001B[36m(pid=8802)\u001B[0m 2020-11-09 18:04:26,034\tWARNING trainable.py:860 -- Trainable._setup is deprecated and will be removed in a future version of Ray. Override Trainable.setup instead.\n",
      "\u001B[2m\u001B[36m(pid=8801)\u001B[0m 2020-11-09 18:04:26,363\tWARNING trainable.py:728 -- Trainable._train is deprecated and will be removed in a future version of Ray. Override Trainable.step instead.\n",
      "\u001B[2m\u001B[36m(pid=8803)\u001B[0m 2020-11-09 18:04:26,354\tWARNING trainable.py:728 -- Trainable._train is deprecated and will be removed in a future version of Ray. Override Trainable.step instead.\n",
      "\u001B[2m\u001B[36m(pid=8802)\u001B[0m 2020-11-09 18:04:26,427\tWARNING trainable.py:728 -- Trainable._train is deprecated and will be removed in a future version of Ray. Override Trainable.step instead.\n",
      "\u001B[2m\u001B[36m(pid=8801)\u001B[0m 2020-11-09 18:04:29,466\tWARNING trainable.py:779 -- Trainable._save is deprecated and will be removed in a future version of Ray. Override Trainable.save_checkpoint instead.\n",
      "\u001B[2m\u001B[36m(pid=8802)\u001B[0m 2020-11-09 18:04:29,463\tWARNING trainable.py:779 -- Trainable._save is deprecated and will be removed in a future version of Ray. Override Trainable.save_checkpoint instead.\n",
      "\u001B[2m\u001B[36m(pid=8803)\u001B[0m 2020-11-09 18:04:29,456\tWARNING trainable.py:779 -- Trainable._save is deprecated and will be removed in a future version of Ray. Override Trainable.save_checkpoint instead.\n"
     ]
    },
    {
     "data": {
      "text/plain": "<IPython.core.display.HTML object>",
      "text/html": "== Status ==<br>Memory usage on this node: 6.1/7.5 GiB<br>Using FIFO scheduling algorithm.<br>Resources requested: 2/8 CPUs, 0/1 GPUs, 0.0/1.46 GiB heap, 0.0/0.49 GiB objects<br>Result logdir: /home/lena/ray_results/torch_mnist/TrainMNIST<br>Number of trials: 3 (2 PENDING, 1 RUNNING)<br><table>\n<thead>\n<tr><th>Trial name            </th><th>status  </th><th>loc  </th><th style=\"text-align: right;\">       lr</th><th style=\"text-align: right;\">  momentum</th></tr>\n</thead>\n<tbody>\n<tr><td>TrainMNIST_9e8f1_00000</td><td>RUNNING </td><td>     </td><td style=\"text-align: right;\">0.0469921</td><td style=\"text-align: right;\">  0.490219</td></tr>\n<tr><td>TrainMNIST_9e8f1_00001</td><td>PENDING </td><td>     </td><td style=\"text-align: right;\">0.0920939</td><td style=\"text-align: right;\">  0.800545</td></tr>\n<tr><td>TrainMNIST_9e8f1_00002</td><td>PENDING </td><td>     </td><td style=\"text-align: right;\">0.0311037</td><td style=\"text-align: right;\">  0.12874 </td></tr>\n</tbody>\n</table><br><br>"
     },
     "metadata": {},
     "output_type": "display_data"
    },
    {
     "name": "stdout",
     "output_type": "stream",
     "text": [
      "Result for TrainMNIST_9e8f1_00002:\n",
      "  date: 2020-11-09_18-04-26\n",
      "  done: false\n",
      "  experiment_id: 937abac09fa74c4988e7d49efbcd75fc\n",
      "  experiment_tag: 2_lr=0.031104,momentum=0.12874\n",
      "  hostname: Schlepptop\n",
      "  iterations_since_restore: 1\n",
      "  mean_accuracy: 0.1625\n",
      "  node_ip: 192.168.123.68\n",
      "  pid: 8803\n",
      "  time_since_restore: 0.3307211399078369\n",
      "  time_this_iter_s: 0.3307211399078369\n",
      "  time_total_s: 0.3307211399078369\n",
      "  timestamp: 1604941466\n",
      "  timesteps_since_restore: 0\n",
      "  training_iteration: 1\n",
      "  trial_id: 9e8f1_00002\n",
      "  \n",
      "Result for TrainMNIST_9e8f1_00000:\n",
      "  date: 2020-11-09_18-04-26\n",
      "  done: false\n",
      "  experiment_id: ee158f9e055d4b18939eaac9458ffbf9\n",
      "  experiment_tag: 0_lr=0.046992,momentum=0.49022\n",
      "  hostname: Schlepptop\n",
      "  iterations_since_restore: 1\n",
      "  mean_accuracy: 0.4875\n",
      "  node_ip: 192.168.123.68\n",
      "  pid: 8801\n",
      "  time_since_restore: 0.3922460079193115\n",
      "  time_this_iter_s: 0.3922460079193115\n",
      "  time_total_s: 0.3922460079193115\n",
      "  timestamp: 1604941466\n",
      "  timesteps_since_restore: 0\n",
      "  training_iteration: 1\n",
      "  trial_id: 9e8f1_00000\n",
      "  \n",
      "Result for TrainMNIST_9e8f1_00001:\n",
      "  date: 2020-11-09_18-04-26\n",
      "  done: false\n",
      "  experiment_id: 8cb4a4ce45af4713bd9d9bf50a2bb2c2\n",
      "  experiment_tag: 1_lr=0.092094,momentum=0.80055\n",
      "  hostname: Schlepptop\n",
      "  iterations_since_restore: 1\n",
      "  mean_accuracy: 0.59375\n",
      "  node_ip: 192.168.123.68\n",
      "  pid: 8802\n",
      "  time_since_restore: 0.3909890651702881\n",
      "  time_this_iter_s: 0.3909890651702881\n",
      "  time_total_s: 0.3909890651702881\n",
      "  timestamp: 1604941466\n",
      "  timesteps_since_restore: 0\n",
      "  training_iteration: 1\n",
      "  trial_id: 9e8f1_00001\n",
      "  \n",
      "Result for TrainMNIST_9e8f1_00000:\n",
      "  date: 2020-11-09_18-04-31\n",
      "  done: false\n",
      "  experiment_id: ee158f9e055d4b18939eaac9458ffbf9\n",
      "  experiment_tag: 0_lr=0.046992,momentum=0.49022\n",
      "  hostname: Schlepptop\n",
      "  iterations_since_restore: 16\n",
      "  mean_accuracy: 0.890625\n",
      "  node_ip: 192.168.123.68\n",
      "  pid: 8801\n",
      "  time_since_restore: 5.372719764709473\n",
      "  time_this_iter_s: 0.326829195022583\n",
      "  time_total_s: 5.372719764709473\n",
      "  timestamp: 1604941471\n",
      "  timesteps_since_restore: 0\n",
      "  training_iteration: 16\n",
      "  trial_id: 9e8f1_00000\n",
      "  \n",
      "Result for TrainMNIST_9e8f1_00002:\n",
      "  date: 2020-11-09_18-04-31\n",
      "  done: false\n",
      "  experiment_id: 937abac09fa74c4988e7d49efbcd75fc\n",
      "  experiment_tag: 2_lr=0.031104,momentum=0.12874\n",
      "  hostname: Schlepptop\n",
      "  iterations_since_restore: 17\n",
      "  mean_accuracy: 0.88125\n",
      "  node_ip: 192.168.123.68\n",
      "  pid: 8803\n",
      "  time_since_restore: 5.5313849449157715\n",
      "  time_this_iter_s: 0.28165364265441895\n",
      "  time_total_s: 5.5313849449157715\n",
      "  timestamp: 1604941471\n",
      "  timesteps_since_restore: 0\n",
      "  training_iteration: 17\n",
      "  trial_id: 9e8f1_00002\n",
      "  \n",
      "Result for TrainMNIST_9e8f1_00001:\n",
      "  date: 2020-11-09_18-04-31\n",
      "  done: false\n",
      "  experiment_id: 8cb4a4ce45af4713bd9d9bf50a2bb2c2\n",
      "  experiment_tag: 1_lr=0.092094,momentum=0.80055\n",
      "  hostname: Schlepptop\n",
      "  iterations_since_restore: 17\n",
      "  mean_accuracy: 0.91875\n",
      "  node_ip: 192.168.123.68\n",
      "  pid: 8802\n",
      "  time_since_restore: 5.6168835163116455\n",
      "  time_this_iter_s: 0.30860352516174316\n",
      "  time_total_s: 5.6168835163116455\n",
      "  timestamp: 1604941471\n",
      "  timesteps_since_restore: 0\n",
      "  training_iteration: 17\n",
      "  trial_id: 9e8f1_00001\n",
      "  \n",
      "Result for TrainMNIST_9e8f1_00000:\n",
      "  date: 2020-11-09_18-04-36\n",
      "  done: false\n",
      "  experiment_id: ee158f9e055d4b18939eaac9458ffbf9\n",
      "  experiment_tag: 0_lr=0.046992,momentum=0.49022\n",
      "  hostname: Schlepptop\n",
      "  iterations_since_restore: 32\n",
      "  mean_accuracy: 0.921875\n",
      "  node_ip: 192.168.123.68\n",
      "  pid: 8801\n",
      "  time_since_restore: 10.361548662185669\n",
      "  time_this_iter_s: 0.3245887756347656\n",
      "  time_total_s: 10.361548662185669\n",
      "  timestamp: 1604941476\n",
      "  timesteps_since_restore: 0\n",
      "  training_iteration: 32\n",
      "  trial_id: 9e8f1_00000\n",
      "  \n",
      "Result for TrainMNIST_9e8f1_00002:\n",
      "  date: 2020-11-09_18-04-36\n",
      "  done: false\n",
      "  experiment_id: 937abac09fa74c4988e7d49efbcd75fc\n",
      "  experiment_tag: 2_lr=0.031104,momentum=0.12874\n",
      "  hostname: Schlepptop\n",
      "  iterations_since_restore: 33\n",
      "  mean_accuracy: 0.890625\n",
      "  node_ip: 192.168.123.68\n",
      "  pid: 8803\n",
      "  time_since_restore: 10.54748272895813\n",
      "  time_this_iter_s: 0.28414273262023926\n",
      "  time_total_s: 10.54748272895813\n",
      "  timestamp: 1604941476\n",
      "  timesteps_since_restore: 0\n",
      "  training_iteration: 33\n",
      "  trial_id: 9e8f1_00002\n",
      "  \n",
      "Result for TrainMNIST_9e8f1_00001:\n",
      "  date: 2020-11-09_18-04-36\n",
      "  done: false\n",
      "  experiment_id: 8cb4a4ce45af4713bd9d9bf50a2bb2c2\n",
      "  experiment_tag: 1_lr=0.092094,momentum=0.80055\n",
      "  hostname: Schlepptop\n",
      "  iterations_since_restore: 33\n",
      "  mean_accuracy: 0.925\n",
      "  node_ip: 192.168.123.68\n",
      "  pid: 8802\n",
      "  time_since_restore: 10.69842791557312\n",
      "  time_this_iter_s: 0.2981588840484619\n",
      "  time_total_s: 10.69842791557312\n",
      "  timestamp: 1604941476\n",
      "  timesteps_since_restore: 0\n",
      "  training_iteration: 33\n",
      "  trial_id: 9e8f1_00001\n",
      "  \n",
      "Result for TrainMNIST_9e8f1_00002:\n",
      "  date: 2020-11-09_18-04-41\n",
      "  done: false\n",
      "  experiment_id: 937abac09fa74c4988e7d49efbcd75fc\n",
      "  experiment_tag: 2_lr=0.031104,momentum=0.12874\n",
      "  hostname: Schlepptop\n",
      "  iterations_since_restore: 49\n",
      "  mean_accuracy: 0.8875\n",
      "  node_ip: 192.168.123.68\n",
      "  pid: 8803\n",
      "  time_since_restore: 15.521254777908325\n",
      "  time_this_iter_s: 0.34818434715270996\n",
      "  time_total_s: 15.521254777908325\n",
      "  timestamp: 1604941481\n",
      "  timesteps_since_restore: 0\n",
      "  training_iteration: 49\n",
      "  trial_id: 9e8f1_00002\n",
      "  \n",
      "Result for TrainMNIST_9e8f1_00000:\n",
      "  date: 2020-11-09_18-04-41\n",
      "  done: false\n",
      "  experiment_id: ee158f9e055d4b18939eaac9458ffbf9\n",
      "  experiment_tag: 0_lr=0.046992,momentum=0.49022\n",
      "  hostname: Schlepptop\n",
      "  iterations_since_restore: 48\n",
      "  mean_accuracy: 0.909375\n",
      "  node_ip: 192.168.123.68\n",
      "  pid: 8801\n",
      "  time_since_restore: 15.639886140823364\n",
      "  time_this_iter_s: 0.34621691703796387\n",
      "  time_total_s: 15.639886140823364\n",
      "  timestamp: 1604941481\n",
      "  timesteps_since_restore: 0\n",
      "  training_iteration: 48\n",
      "  trial_id: 9e8f1_00000\n",
      "  \n",
      "Result for TrainMNIST_9e8f1_00001:\n",
      "  date: 2020-11-09_18-04-42\n",
      "  done: false\n",
      "  experiment_id: 8cb4a4ce45af4713bd9d9bf50a2bb2c2\n",
      "  experiment_tag: 1_lr=0.092094,momentum=0.80055\n",
      "  hostname: Schlepptop\n",
      "  iterations_since_restore: 49\n",
      "  mean_accuracy: 0.925\n",
      "  node_ip: 192.168.123.68\n",
      "  pid: 8802\n",
      "  time_since_restore: 15.868985414505005\n",
      "  time_this_iter_s: 0.39715051651000977\n",
      "  time_total_s: 15.868985414505005\n",
      "  timestamp: 1604941482\n",
      "  timesteps_since_restore: 0\n",
      "  training_iteration: 49\n",
      "  trial_id: 9e8f1_00001\n",
      "  \n",
      "Result for TrainMNIST_9e8f1_00002:\n",
      "  date: 2020-11-09_18-04-46\n",
      "  done: false\n",
      "  experiment_id: 937abac09fa74c4988e7d49efbcd75fc\n",
      "  experiment_tag: 2_lr=0.031104,momentum=0.12874\n",
      "  hostname: Schlepptop\n",
      "  iterations_since_restore: 64\n",
      "  mean_accuracy: 0.9125\n",
      "  node_ip: 192.168.123.68\n",
      "  pid: 8803\n",
      "  time_since_restore: 20.503939628601074\n",
      "  time_this_iter_s: 0.29058313369750977\n",
      "  time_total_s: 20.503939628601074\n",
      "  timestamp: 1604941486\n",
      "  timesteps_since_restore: 0\n",
      "  training_iteration: 64\n",
      "  trial_id: 9e8f1_00002\n",
      "  \n",
      "Result for TrainMNIST_9e8f1_00000:\n",
      "  date: 2020-11-09_18-04-46\n",
      "  done: false\n",
      "  experiment_id: ee158f9e055d4b18939eaac9458ffbf9\n",
      "  experiment_tag: 0_lr=0.046992,momentum=0.49022\n",
      "  hostname: Schlepptop\n",
      "  iterations_since_restore: 63\n",
      "  mean_accuracy: 0.93125\n",
      "  node_ip: 192.168.123.68\n",
      "  pid: 8801\n",
      "  time_since_restore: 20.7479465007782\n",
      "  time_this_iter_s: 0.31051039695739746\n",
      "  time_total_s: 20.7479465007782\n",
      "  timestamp: 1604941486\n",
      "  timesteps_since_restore: 0\n",
      "  training_iteration: 63\n",
      "  trial_id: 9e8f1_00000\n",
      "  \n",
      "Result for TrainMNIST_9e8f1_00001:\n",
      "  date: 2020-11-09_18-04-47\n",
      "  done: false\n",
      "  experiment_id: 8cb4a4ce45af4713bd9d9bf50a2bb2c2\n",
      "  experiment_tag: 1_lr=0.092094,momentum=0.80055\n",
      "  hostname: Schlepptop\n",
      "  iterations_since_restore: 65\n",
      "  mean_accuracy: 0.93125\n",
      "  node_ip: 192.168.123.68\n",
      "  pid: 8802\n",
      "  time_since_restore: 21.167789697647095\n",
      "  time_this_iter_s: 0.4273231029510498\n",
      "  time_total_s: 21.167789697647095\n",
      "  timestamp: 1604941487\n",
      "  timesteps_since_restore: 0\n",
      "  training_iteration: 65\n",
      "  trial_id: 9e8f1_00001\n",
      "  \n",
      "Result for TrainMNIST_9e8f1_00002:\n",
      "  date: 2020-11-09_18-04-52\n",
      "  done: false\n",
      "  experiment_id: 937abac09fa74c4988e7d49efbcd75fc\n",
      "  experiment_tag: 2_lr=0.031104,momentum=0.12874\n",
      "  hostname: Schlepptop\n",
      "  iterations_since_restore: 80\n",
      "  mean_accuracy: 0.9125\n",
      "  node_ip: 192.168.123.68\n",
      "  pid: 8803\n",
      "  time_since_restore: 25.816616535186768\n",
      "  time_this_iter_s: 0.38154172897338867\n",
      "  time_total_s: 25.816616535186768\n",
      "  timestamp: 1604941492\n",
      "  timesteps_since_restore: 0\n",
      "  training_iteration: 80\n",
      "  trial_id: 9e8f1_00002\n",
      "  \n",
      "Result for TrainMNIST_9e8f1_00000:\n",
      "  date: 2020-11-09_18-04-52\n",
      "  done: false\n",
      "  experiment_id: ee158f9e055d4b18939eaac9458ffbf9\n",
      "  experiment_tag: 0_lr=0.046992,momentum=0.49022\n",
      "  hostname: Schlepptop\n",
      "  iterations_since_restore: 78\n",
      "  mean_accuracy: 0.94375\n",
      "  node_ip: 192.168.123.68\n",
      "  pid: 8801\n",
      "  time_since_restore: 25.97985553741455\n",
      "  time_this_iter_s: 0.34147191047668457\n",
      "  time_total_s: 25.97985553741455\n",
      "  timestamp: 1604941492\n",
      "  timesteps_since_restore: 0\n",
      "  training_iteration: 78\n",
      "  trial_id: 9e8f1_00000\n",
      "  \n",
      "Result for TrainMNIST_9e8f1_00001:\n",
      "  date: 2020-11-09_18-04-52\n",
      "  done: false\n",
      "  experiment_id: 8cb4a4ce45af4713bd9d9bf50a2bb2c2\n",
      "  experiment_tag: 1_lr=0.092094,momentum=0.80055\n",
      "  hostname: Schlepptop\n",
      "  iterations_since_restore: 80\n",
      "  mean_accuracy: 0.925\n",
      "  node_ip: 192.168.123.68\n",
      "  pid: 8802\n",
      "  time_since_restore: 26.268706798553467\n",
      "  time_this_iter_s: 0.36243128776550293\n",
      "  time_total_s: 26.268706798553467\n",
      "  timestamp: 1604941492\n",
      "  timesteps_since_restore: 0\n",
      "  training_iteration: 80\n",
      "  trial_id: 9e8f1_00001\n",
      "  \n",
      "Result for TrainMNIST_9e8f1_00002:\n",
      "  date: 2020-11-09_18-04-57\n",
      "  done: false\n",
      "  experiment_id: 937abac09fa74c4988e7d49efbcd75fc\n",
      "  experiment_tag: 2_lr=0.031104,momentum=0.12874\n",
      "  hostname: Schlepptop\n",
      "  iterations_since_restore: 96\n",
      "  mean_accuracy: 0.915625\n",
      "  node_ip: 192.168.123.68\n",
      "  pid: 8803\n",
      "  time_since_restore: 30.867111682891846\n",
      "  time_this_iter_s: 0.28098201751708984\n",
      "  time_total_s: 30.867111682891846\n",
      "  timestamp: 1604941497\n",
      "  timesteps_since_restore: 0\n",
      "  training_iteration: 96\n",
      "  trial_id: 9e8f1_00002\n",
      "  \n",
      "Result for TrainMNIST_9e8f1_00000:\n",
      "  date: 2020-11-09_18-04-57\n",
      "  done: false\n",
      "  experiment_id: ee158f9e055d4b18939eaac9458ffbf9\n",
      "  experiment_tag: 0_lr=0.046992,momentum=0.49022\n",
      "  hostname: Schlepptop\n",
      "  iterations_since_restore: 94\n",
      "  mean_accuracy: 0.95\n",
      "  node_ip: 192.168.123.68\n",
      "  pid: 8801\n",
      "  time_since_restore: 31.099624156951904\n",
      "  time_this_iter_s: 0.28824329376220703\n",
      "  time_total_s: 31.099624156951904\n",
      "  timestamp: 1604941497\n",
      "  timesteps_since_restore: 0\n",
      "  training_iteration: 94\n",
      "  trial_id: 9e8f1_00000\n",
      "  \n",
      "Result for TrainMNIST_9e8f1_00001:\n",
      "  date: 2020-11-09_18-04-57\n",
      "  done: false\n",
      "  experiment_id: 8cb4a4ce45af4713bd9d9bf50a2bb2c2\n",
      "  experiment_tag: 1_lr=0.092094,momentum=0.80055\n",
      "  hostname: Schlepptop\n",
      "  iterations_since_restore: 97\n",
      "  mean_accuracy: 0.940625\n",
      "  node_ip: 192.168.123.68\n",
      "  pid: 8802\n",
      "  time_since_restore: 31.477118015289307\n",
      "  time_this_iter_s: 0.28651857376098633\n",
      "  time_total_s: 31.477118015289307\n",
      "  timestamp: 1604941497\n",
      "  timesteps_since_restore: 0\n",
      "  training_iteration: 97\n",
      "  trial_id: 9e8f1_00001\n",
      "  \n",
      "Result for TrainMNIST_9e8f1_00002:\n",
      "  date: 2020-11-09_18-04-58\n",
      "  done: true\n",
      "  experiment_id: 937abac09fa74c4988e7d49efbcd75fc\n",
      "  experiment_tag: 2_lr=0.031104,momentum=0.12874\n",
      "  hostname: Schlepptop\n",
      "  iterations_since_restore: 100\n",
      "  mean_accuracy: 0.953125\n",
      "  node_ip: 192.168.123.68\n",
      "  pid: 8803\n",
      "  time_since_restore: 32.08686137199402\n",
      "  time_this_iter_s: 0.293201208114624\n",
      "  time_total_s: 32.08686137199402\n",
      "  timestamp: 1604941498\n",
      "  timesteps_since_restore: 0\n",
      "  training_iteration: 100\n",
      "  trial_id: 9e8f1_00002\n",
      "  \n",
      "Result for TrainMNIST_9e8f1_00001:\n",
      "  date: 2020-11-09_18-04-58\n",
      "  done: true\n",
      "  experiment_id: 8cb4a4ce45af4713bd9d9bf50a2bb2c2\n",
      "  experiment_tag: 1_lr=0.092094,momentum=0.80055\n",
      "  hostname: Schlepptop\n",
      "  iterations_since_restore: 100\n",
      "  mean_accuracy: 0.921875\n",
      "  node_ip: 192.168.123.68\n",
      "  pid: 8802\n",
      "  time_since_restore: 32.4402539730072\n",
      "  time_this_iter_s: 0.31241393089294434\n",
      "  time_total_s: 32.4402539730072\n",
      "  timestamp: 1604941498\n",
      "  timesteps_since_restore: 0\n",
      "  training_iteration: 100\n",
      "  trial_id: 9e8f1_00001\n",
      "  \n",
      "Result for TrainMNIST_9e8f1_00000:\n",
      "  date: 2020-11-09_18-04-59\n",
      "  done: true\n",
      "  experiment_id: ee158f9e055d4b18939eaac9458ffbf9\n",
      "  experiment_tag: 0_lr=0.046992,momentum=0.49022\n",
      "  hostname: Schlepptop\n",
      "  iterations_since_restore: 100\n",
      "  mean_accuracy: 0.971875\n",
      "  node_ip: 192.168.123.68\n",
      "  pid: 8801\n",
      "  time_since_restore: 33.01601552963257\n",
      "  time_this_iter_s: 0.28063297271728516\n",
      "  time_total_s: 33.01601552963257\n",
      "  timestamp: 1604941499\n",
      "  timesteps_since_restore: 0\n",
      "  training_iteration: 100\n",
      "  trial_id: 9e8f1_00000\n",
      "  \n"
     ]
    },
    {
     "data": {
      "text/plain": "<IPython.core.display.HTML object>",
      "text/html": "== Status ==<br>Memory usage on this node: 6.5/7.5 GiB<br>Using FIFO scheduling algorithm.<br>Resources requested: 6/8 CPUs, 0/1 GPUs, 0.0/1.46 GiB heap, 0.0/0.49 GiB objects<br>Result logdir: /home/lena/ray_results/torch_mnist/TrainMNIST<br>Number of trials: 3 (3 RUNNING)<br><table>\n<thead>\n<tr><th>Trial name            </th><th>status  </th><th>loc                </th><th style=\"text-align: right;\">       lr</th><th style=\"text-align: right;\">  momentum</th><th style=\"text-align: right;\">    acc</th><th style=\"text-align: right;\">  iter</th><th style=\"text-align: right;\">  total time (s)</th></tr>\n</thead>\n<tbody>\n<tr><td>TrainMNIST_9e8f1_00000</td><td>RUNNING </td><td>192.168.123.68:8801</td><td style=\"text-align: right;\">0.0469921</td><td style=\"text-align: right;\">  0.490219</td><td style=\"text-align: right;\">0.875  </td><td style=\"text-align: right;\">    11</td><td style=\"text-align: right;\">         3.77106</td></tr>\n<tr><td>TrainMNIST_9e8f1_00001</td><td>RUNNING </td><td>192.168.123.68:8802</td><td style=\"text-align: right;\">0.0920939</td><td style=\"text-align: right;\">  0.800545</td><td style=\"text-align: right;\">0.8625 </td><td style=\"text-align: right;\">    11</td><td style=\"text-align: right;\">         3.70851</td></tr>\n<tr><td>TrainMNIST_9e8f1_00002</td><td>RUNNING </td><td>192.168.123.68:8803</td><td style=\"text-align: right;\">0.0311037</td><td style=\"text-align: right;\">  0.12874 </td><td style=\"text-align: right;\">0.85625</td><td style=\"text-align: right;\">    12</td><td style=\"text-align: right;\">         4.00706</td></tr>\n</tbody>\n</table><br><br>"
     },
     "metadata": {},
     "output_type": "display_data"
    },
    {
     "data": {
      "text/plain": "<IPython.core.display.HTML object>",
      "text/html": "== Status ==<br>Memory usage on this node: 6.5/7.5 GiB<br>Using FIFO scheduling algorithm.<br>Resources requested: 6/8 CPUs, 0/1 GPUs, 0.0/1.46 GiB heap, 0.0/0.49 GiB objects<br>Result logdir: /home/lena/ray_results/torch_mnist/TrainMNIST<br>Number of trials: 3 (3 RUNNING)<br><table>\n<thead>\n<tr><th>Trial name            </th><th>status  </th><th>loc                </th><th style=\"text-align: right;\">       lr</th><th style=\"text-align: right;\">  momentum</th><th style=\"text-align: right;\">     acc</th><th style=\"text-align: right;\">  iter</th><th style=\"text-align: right;\">  total time (s)</th></tr>\n</thead>\n<tbody>\n<tr><td>TrainMNIST_9e8f1_00000</td><td>RUNNING </td><td>192.168.123.68:8801</td><td style=\"text-align: right;\">0.0469921</td><td style=\"text-align: right;\">  0.490219</td><td style=\"text-align: right;\">0.9125  </td><td style=\"text-align: right;\">    27</td><td style=\"text-align: right;\">         8.81664</td></tr>\n<tr><td>TrainMNIST_9e8f1_00001</td><td>RUNNING </td><td>192.168.123.68:8802</td><td style=\"text-align: right;\">0.0920939</td><td style=\"text-align: right;\">  0.800545</td><td style=\"text-align: right;\">0.915625</td><td style=\"text-align: right;\">    27</td><td style=\"text-align: right;\">         8.79603</td></tr>\n<tr><td>TrainMNIST_9e8f1_00002</td><td>RUNNING </td><td>192.168.123.68:8803</td><td style=\"text-align: right;\">0.0311037</td><td style=\"text-align: right;\">  0.12874 </td><td style=\"text-align: right;\">0.93125 </td><td style=\"text-align: right;\">    28</td><td style=\"text-align: right;\">         9.01744</td></tr>\n</tbody>\n</table><br><br>"
     },
     "metadata": {},
     "output_type": "display_data"
    },
    {
     "data": {
      "text/plain": "<IPython.core.display.HTML object>",
      "text/html": "== Status ==<br>Memory usage on this node: 6.5/7.5 GiB<br>Using FIFO scheduling algorithm.<br>Resources requested: 6/8 CPUs, 0/1 GPUs, 0.0/1.46 GiB heap, 0.0/0.49 GiB objects<br>Result logdir: /home/lena/ray_results/torch_mnist/TrainMNIST<br>Number of trials: 3 (3 RUNNING)<br><table>\n<thead>\n<tr><th>Trial name            </th><th>status  </th><th>loc                </th><th style=\"text-align: right;\">       lr</th><th style=\"text-align: right;\">  momentum</th><th style=\"text-align: right;\">     acc</th><th style=\"text-align: right;\">  iter</th><th style=\"text-align: right;\">  total time (s)</th></tr>\n</thead>\n<tbody>\n<tr><td>TrainMNIST_9e8f1_00000</td><td>RUNNING </td><td>192.168.123.68:8801</td><td style=\"text-align: right;\">0.0469921</td><td style=\"text-align: right;\">  0.490219</td><td style=\"text-align: right;\">0.915625</td><td style=\"text-align: right;\">    43</td><td style=\"text-align: right;\">         14.0079</td></tr>\n<tr><td>TrainMNIST_9e8f1_00001</td><td>RUNNING </td><td>192.168.123.68:8802</td><td style=\"text-align: right;\">0.0920939</td><td style=\"text-align: right;\">  0.800545</td><td style=\"text-align: right;\">0.934375</td><td style=\"text-align: right;\">    44</td><td style=\"text-align: right;\">         14.2103</td></tr>\n<tr><td>TrainMNIST_9e8f1_00002</td><td>RUNNING </td><td>192.168.123.68:8803</td><td style=\"text-align: right;\">0.0311037</td><td style=\"text-align: right;\">  0.12874 </td><td style=\"text-align: right;\">0.89375 </td><td style=\"text-align: right;\">    44</td><td style=\"text-align: right;\">         13.922 </td></tr>\n</tbody>\n</table><br><br>"
     },
     "metadata": {},
     "output_type": "display_data"
    },
    {
     "data": {
      "text/plain": "<IPython.core.display.HTML object>",
      "text/html": "== Status ==<br>Memory usage on this node: 6.5/7.5 GiB<br>Using FIFO scheduling algorithm.<br>Resources requested: 6/8 CPUs, 0/1 GPUs, 0.0/1.46 GiB heap, 0.0/0.49 GiB objects<br>Result logdir: /home/lena/ray_results/torch_mnist/TrainMNIST<br>Number of trials: 3 (3 RUNNING)<br><table>\n<thead>\n<tr><th>Trial name            </th><th>status  </th><th>loc                </th><th style=\"text-align: right;\">       lr</th><th style=\"text-align: right;\">  momentum</th><th style=\"text-align: right;\">     acc</th><th style=\"text-align: right;\">  iter</th><th style=\"text-align: right;\">  total time (s)</th></tr>\n</thead>\n<tbody>\n<tr><td>TrainMNIST_9e8f1_00000</td><td>RUNNING </td><td>192.168.123.68:8801</td><td style=\"text-align: right;\">0.0469921</td><td style=\"text-align: right;\">  0.490219</td><td style=\"text-align: right;\">0.946875</td><td style=\"text-align: right;\">    58</td><td style=\"text-align: right;\">         19.0229</td></tr>\n<tr><td>TrainMNIST_9e8f1_00001</td><td>RUNNING </td><td>192.168.123.68:8802</td><td style=\"text-align: right;\">0.0920939</td><td style=\"text-align: right;\">  0.800545</td><td style=\"text-align: right;\">0.946875</td><td style=\"text-align: right;\">    59</td><td style=\"text-align: right;\">         19.1478</td></tr>\n<tr><td>TrainMNIST_9e8f1_00002</td><td>RUNNING </td><td>192.168.123.68:8803</td><td style=\"text-align: right;\">0.0311037</td><td style=\"text-align: right;\">  0.12874 </td><td style=\"text-align: right;\">0.925   </td><td style=\"text-align: right;\">    60</td><td style=\"text-align: right;\">         19.2009</td></tr>\n</tbody>\n</table><br><br>"
     },
     "metadata": {},
     "output_type": "display_data"
    },
    {
     "data": {
      "text/plain": "<IPython.core.display.HTML object>",
      "text/html": "== Status ==<br>Memory usage on this node: 6.5/7.5 GiB<br>Using FIFO scheduling algorithm.<br>Resources requested: 6/8 CPUs, 0/1 GPUs, 0.0/1.46 GiB heap, 0.0/0.49 GiB objects<br>Result logdir: /home/lena/ray_results/torch_mnist/TrainMNIST<br>Number of trials: 3 (3 RUNNING)<br><table>\n<thead>\n<tr><th>Trial name            </th><th>status  </th><th>loc                </th><th style=\"text-align: right;\">       lr</th><th style=\"text-align: right;\">  momentum</th><th style=\"text-align: right;\">     acc</th><th style=\"text-align: right;\">  iter</th><th style=\"text-align: right;\">  total time (s)</th></tr>\n</thead>\n<tbody>\n<tr><td>TrainMNIST_9e8f1_00000</td><td>RUNNING </td><td>192.168.123.68:8801</td><td style=\"text-align: right;\">0.0469921</td><td style=\"text-align: right;\">  0.490219</td><td style=\"text-align: right;\">0.909375</td><td style=\"text-align: right;\">    73</td><td style=\"text-align: right;\">         24.2677</td></tr>\n<tr><td>TrainMNIST_9e8f1_00001</td><td>RUNNING </td><td>192.168.123.68:8802</td><td style=\"text-align: right;\">0.0920939</td><td style=\"text-align: right;\">  0.800545</td><td style=\"text-align: right;\">0.940625</td><td style=\"text-align: right;\">    73</td><td style=\"text-align: right;\">         23.9264</td></tr>\n<tr><td>TrainMNIST_9e8f1_00002</td><td>RUNNING </td><td>192.168.123.68:8803</td><td style=\"text-align: right;\">0.0311037</td><td style=\"text-align: right;\">  0.12874 </td><td style=\"text-align: right;\">0.921875</td><td style=\"text-align: right;\">    75</td><td style=\"text-align: right;\">         24.0689</td></tr>\n</tbody>\n</table><br><br>"
     },
     "metadata": {},
     "output_type": "display_data"
    },
    {
     "data": {
      "text/plain": "<IPython.core.display.HTML object>",
      "text/html": "== Status ==<br>Memory usage on this node: 6.5/7.5 GiB<br>Using FIFO scheduling algorithm.<br>Resources requested: 6/8 CPUs, 0/1 GPUs, 0.0/1.46 GiB heap, 0.0/0.49 GiB objects<br>Result logdir: /home/lena/ray_results/torch_mnist/TrainMNIST<br>Number of trials: 3 (3 RUNNING)<br><table>\n<thead>\n<tr><th>Trial name            </th><th>status  </th><th>loc                </th><th style=\"text-align: right;\">       lr</th><th style=\"text-align: right;\">  momentum</th><th style=\"text-align: right;\">     acc</th><th style=\"text-align: right;\">  iter</th><th style=\"text-align: right;\">  total time (s)</th></tr>\n</thead>\n<tbody>\n<tr><td>TrainMNIST_9e8f1_00000</td><td>RUNNING </td><td>192.168.123.68:8801</td><td style=\"text-align: right;\">0.0469921</td><td style=\"text-align: right;\">  0.490219</td><td style=\"text-align: right;\">0.93125 </td><td style=\"text-align: right;\">    88</td><td style=\"text-align: right;\">         29.1328</td></tr>\n<tr><td>TrainMNIST_9e8f1_00001</td><td>RUNNING </td><td>192.168.123.68:8802</td><td style=\"text-align: right;\">0.0920939</td><td style=\"text-align: right;\">  0.800545</td><td style=\"text-align: right;\">0.915625</td><td style=\"text-align: right;\">    90</td><td style=\"text-align: right;\">         29.2737</td></tr>\n<tr><td>TrainMNIST_9e8f1_00002</td><td>RUNNING </td><td>192.168.123.68:8803</td><td style=\"text-align: right;\">0.0311037</td><td style=\"text-align: right;\">  0.12874 </td><td style=\"text-align: right;\">0.94375 </td><td style=\"text-align: right;\">    90</td><td style=\"text-align: right;\">         29.0021</td></tr>\n</tbody>\n</table><br><br>"
     },
     "metadata": {},
     "output_type": "display_data"
    },
    {
     "data": {
      "text/plain": "<IPython.core.display.HTML object>",
      "text/html": "== Status ==<br>Memory usage on this node: 6.1/7.5 GiB<br>Using FIFO scheduling algorithm.<br>Resources requested: 0/8 CPUs, 0/1 GPUs, 0.0/1.46 GiB heap, 0.0/0.49 GiB objects<br>Result logdir: /home/lena/ray_results/torch_mnist/TrainMNIST<br>Number of trials: 3 (3 TERMINATED)<br><table>\n<thead>\n<tr><th>Trial name            </th><th>status    </th><th>loc  </th><th style=\"text-align: right;\">       lr</th><th style=\"text-align: right;\">  momentum</th><th style=\"text-align: right;\">     acc</th><th style=\"text-align: right;\">  iter</th><th style=\"text-align: right;\">  total time (s)</th></tr>\n</thead>\n<tbody>\n<tr><td>TrainMNIST_9e8f1_00000</td><td>TERMINATED</td><td>     </td><td style=\"text-align: right;\">0.0469921</td><td style=\"text-align: right;\">  0.490219</td><td style=\"text-align: right;\">0.971875</td><td style=\"text-align: right;\">   100</td><td style=\"text-align: right;\">         33.016 </td></tr>\n<tr><td>TrainMNIST_9e8f1_00001</td><td>TERMINATED</td><td>     </td><td style=\"text-align: right;\">0.0920939</td><td style=\"text-align: right;\">  0.800545</td><td style=\"text-align: right;\">0.921875</td><td style=\"text-align: right;\">   100</td><td style=\"text-align: right;\">         32.4403</td></tr>\n<tr><td>TrainMNIST_9e8f1_00002</td><td>TERMINATED</td><td>     </td><td style=\"text-align: right;\">0.0311037</td><td style=\"text-align: right;\">  0.12874 </td><td style=\"text-align: right;\">0.953125</td><td style=\"text-align: right;\">   100</td><td style=\"text-align: right;\">         32.0869</td></tr>\n</tbody>\n</table><br><br>"
     },
     "metadata": {},
     "output_type": "display_data"
    }
   ],
   "source": [
    "config = {\n",
    "        \"lr\": tune.uniform(0.001, 0.1),\n",
    "        \"momentum\": tune.uniform(0.1, 0.9),\n",
    "    }\n",
    "\n",
    "\n",
    "analysis = tune.run(\n",
    "    TrainMNIST,\n",
    "    config=config,\n",
    "    local_dir=\"~/ray_results/torch_mnist\",\n",
    "    mode='max',\n",
    "    resources_per_trial={\n",
    "        \"cpu\": 2,\n",
    "        \"gpu\": 0\n",
    "    },\n",
    "    num_samples=3,\n",
    "    checkpoint_at_end=True,\n",
    "    checkpoint_freq=10,\n",
    "#     keep_checkpoints_num=3, # only keep n best checkpoints\n",
    "    stop={\n",
    "        \"mean_accuracy\": 0.99,\n",
    "        \"training_iteration\": 100,\n",
    "    })\n",
    "\n"
   ]
  },
  {
   "cell_type": "code",
   "execution_count": 10,
   "metadata": {},
   "outputs": [
    {
     "name": "stdout",
     "output_type": "stream",
     "text": [
      "Best config is:\n",
      "TrainMNIST_9e8f1_00000\n",
      "{'lr': 0.046992089578200634, 'momentum': 0.49021888849247197}\n"
     ]
    }
   ],
   "source": [
    "from pprint import pprint\n",
    "print(\"Best config is:\")\n",
    "pprint(analysis.get_best_trial(metric=\"mean_accuracy\"))\n",
    "pprint(analysis.get_best_config(metric=\"mean_accuracy\"))"
   ]
  },
  {
   "cell_type": "code",
   "execution_count": 11,
   "outputs": [
    {
     "data": {
      "text/plain": "Launching TensorBoard..."
     },
     "metadata": {},
     "output_type": "display_data"
    }
   ],
   "source": [
    "%load_ext tensorboard\n",
    "from tensorboard import notebook\n",
    "%tensorboard --logdir \"~/ray_results/torch_mnist\""
   ],
   "metadata": {
    "collapsed": false,
    "pycharm": {
     "name": "#%%\n"
    }
   }
  },
  {
   "cell_type": "markdown",
   "metadata": {},
   "source": [
    "## Load a model and check results"
   ]
  },
  {
   "cell_type": "code",
   "execution_count": null,
   "metadata": {},
   "outputs": [],
   "source": [
    "train_loader, test_loader = get_data_loaders()"
   ]
  },
  {
   "cell_type": "code",
   "execution_count": null,
   "metadata": {
    "scrolled": false
   },
   "outputs": [],
   "source": [
    "X, y = list(test_loader)[np.random.randint(0, len(test_loader))]"
   ]
  },
  {
   "cell_type": "markdown",
   "metadata": {},
   "source": [
    "#### Find the model checkpoint you want to load"
   ]
  },
  {
   "cell_type": "code",
   "execution_count": null,
   "metadata": {},
   "outputs": [],
   "source": [
    "checkpoint_path = path.join(path.expanduser('~'),'ray_results','torch_mnist','TrainMNIST',\n",
    "                          'TrainMNIST_1_lr=0.02837,momentum=0.40653_2020-06-12_11-27-558a5m3jyk',\n",
    "                         'checkpoint_100', 'model.pth')\n",
    "print(path.exists(checkpoint_path))"
   ]
  },
  {
   "cell_type": "code",
   "execution_count": null,
   "metadata": {},
   "outputs": [],
   "source": [
    "device = torch.device(\"cuda\" if torch.cuda.is_available() else \"cpu\")\n",
    "\n",
    "with torch.set_grad_enabled(False):\n",
    "    model = ConvNet()\n",
    "    model.load_state_dict(torch.load(checkpoint_path))\n",
    "    \n",
    "    model.to(device)\n",
    "    \n",
    "    y_ = model(X.to(device)).cpu()\n",
    "    \n",
    "    _, predicted = torch.max(y_, 1)"
   ]
  },
  {
   "cell_type": "code",
   "execution_count": null,
   "metadata": {
    "scrolled": false
   },
   "outputs": [],
   "source": [
    "fig, axs = plt.subplots(8,8, figsize=(20,20))\n",
    "axsf = [item for s in axs for item in s]\n",
    "\n",
    "for n,ax in enumerate(axsf):\n",
    "    ax.imshow(X[n].squeeze().numpy())\n",
    "    ax.axis('off')\n",
    "    ax.set_title(predicted[n].item())\n",
    "    \n",
    "plt.show()"
   ]
  },
  {
   "cell_type": "code",
   "execution_count": null,
   "metadata": {},
   "outputs": [],
   "source": [
    "ray.shutdown()\n"
   ]
  },
  {
   "cell_type": "code",
   "execution_count": null,
   "metadata": {},
   "outputs": [],
   "source": [
    "# https://github.com/ray-project/ray/issues/4569"
   ]
  },
  {
   "cell_type": "code",
   "execution_count": null,
   "metadata": {},
   "outputs": [],
   "source": [
    "# Exercises\n",
    "# - change out the optimiser for adam\n",
    "# - add network hyperparameters"
   ]
  }
 ],
 "metadata": {
  "kernelspec": {
   "display_name": "Python 3",
   "language": "python",
   "name": "python3"
  },
  "language_info": {
   "codemirror_mode": {
    "name": "ipython",
    "version": 3
   },
   "file_extension": ".py",
   "mimetype": "text/x-python",
   "name": "python",
   "nbconvert_exporter": "python",
   "pygments_lexer": "ipython3",
   "version": "3.8.3"
  }
 },
 "nbformat": 4,
 "nbformat_minor": 4
}