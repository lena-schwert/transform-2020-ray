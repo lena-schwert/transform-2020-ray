{
 "cells": [
  {
   "cell_type": "markdown",
   "metadata": {},
   "source": [
    "# FossilNET Classification\n",
    "\n",
    "In this notebook, we are going to update a pre-trained ResNet network to target the FossilNET image dataset.\n",
    "\n",
    "\n",
    "## What is FossilNET?\n",
    "\n",
    "FossilNET is an image dataset collected and curated by [Matt Hall](https://github.com/kwinkunks). the dataset is mde available under [CC-0 License](../datsasets/fossilnet/fossilnet-copyright-info.md)\n",
    "\n",
    "The dataset consists of 3000 128x128 color images acrosss 10 classes. The full dataset is available for experimentation. \n",
    "\n",
    "In the tutorial we just target 4 classes:\n",
    "\n",
    "|  dinosaurs |  fishes  |  forams  |  trilobites\n",
    "|:---:|:---:|:---:|:---:\n",
    "| ![dino](../datasets/fossilnet/tvt_split/4/train/dinosaurs/00949.png) | ![fish](../datasets/fossilnet/tvt_split/4/train/fishes/01603.png) | ![forams](../datasets/fossilnet/tvt_split/4/train/forams/01923.png) | ![trilobites](../datasets/fossilnet/tvt_split/4/train/trilobites/02866.png)| | \n",
    "\n",
    "\n",
    "\n",
    "\n"
   ]
  },
  {
   "cell_type": "markdown",
   "metadata": {},
   "source": [
    "### Load Dependencies\n",
    "\n",
    "We load the usual deps and also load [PyTorch](https://pytorch.org/docs/stable/index.html) and the [TorchVision](https://pytorch.org/docs/stable/torchvision/index.html) helper library to get access to pretrained models, dataloaders & transformers for image problems"
   ]
  },
  {
   "cell_type": "code",
   "execution_count": 18,
   "metadata": {},
   "outputs": [
    {
     "name": "stdout",
     "output_type": "stream",
     "text": [
      "The autoreload extension is already loaded. To reload it, use:\n",
      "  %reload_ext autoreload\n"
     ]
    }
   ],
   "source": [
    "%load_ext autoreload\n",
    "%autoreload 2\n",
    "\n",
    "from dependencies import *"
   ]
  },
  {
   "cell_type": "code",
   "execution_count": 19,
   "metadata": {},
   "outputs": [],
   "source": [
    "import torch\n",
    "import torch.nn as nn\n",
    "import torch.optim as optim\n",
    "import torch.nn.functional as F"
   ]
  },
  {
   "cell_type": "code",
   "execution_count": 20,
   "metadata": {},
   "outputs": [],
   "source": [
    "from torch.utils.data import DataLoader\n",
    "import torchvision\n",
    "from torchvision import datasets, transforms"
   ]
  },
  {
   "cell_type": "markdown",
   "metadata": {},
   "source": [
    "## Loading Data\n",
    "\n",
    "FossilNET is nicely organised on disk into train / val / test folders each of which contains a subfolder for each class with the appropraite images therein.\n",
    "\n",
    "This means we cna use a torchvision.dataset.ImageFolder to take care of loading and inject torchvision.transforms to pre-process and augment the dataset on the fly.\n",
    "\n",
    "So create a function to set that up for the train and val splits and return dataloaders ready for use"
   ]
  },
  {
   "cell_type": "code",
   "execution_count": 21,
   "metadata": {},
   "outputs": [],
   "source": [
    "def get_data_loaders(fossilnet_path,\n",
    "                     batch_size=16,\n",
    "                     augment_flip=True,\n",
    "                     use_grayscale=True):\n",
    "    \n",
    "    #\n",
    "    # We define an array (pipeline) of transformers that we then use Compose to present to the dataset\n",
    "    #\n",
    "    txs = []\n",
    "    \n",
    "    if use_grayscale:\n",
    "        # convert to gray but maintain 3 channels for resnet\n",
    "        txs.append(transforms.Grayscale(3))\n",
    "    \n",
    "    if augment_flip:\n",
    "        txs.extend([\n",
    "            transforms.RandomHorizontalFlip(),\n",
    "            transforms.RandomVerticalFlip()\n",
    "        ])\n",
    "    \n",
    "    txs.append(transforms.ToTensor())\n",
    "    \n",
    "    if use_grayscale:\n",
    "        txs.append(transforms.Normalize(0.0, 1.0))\n",
    "\n",
    "    \n",
    "    #\n",
    "    # Use the torchvision ImageFolder Dataset class\n",
    "    #\n",
    "    train_dataset = datasets.ImageFolder(\n",
    "                            root=path.join(fossilnet_path, 'train'),\n",
    "                            transform=transforms.Compose(txs)\n",
    "                        )\n",
    "    \n",
    "    #\n",
    "    # Setup a DataLoader to get batches of images for training\n",
    "    #\n",
    "    train_loader = DataLoader(train_dataset, \n",
    "                              batch_size=batch_size,\n",
    "                              shuffle=True,\n",
    "                              num_workers=3,\n",
    "                              pin_memory=True)\n",
    "    \n",
    "    \n",
    "    #\n",
    "    # Setup a DataSet and Loader for the test data. This time without shuffle or\n",
    "    # augmentations enabled\n",
    "    #\n",
    "    val_txs = []\n",
    "    \n",
    "    if use_grayscale:\n",
    "        val_txs.extend([\n",
    "            transforms.Grayscale(3),\n",
    "            transforms.ToTensor(),\n",
    "            transforms.Normalize(0.0, 1.0)\n",
    "        ])\n",
    "    else:\n",
    "        val_txs.append(transforms.ToTensor())\n",
    "    \n",
    "    val_dataset = datasets.ImageFolder(\n",
    "                            root=path.join(fossilnet_path, 'test'),\n",
    "                            transform=transforms.Compose(val_txs)\n",
    "                        )\n",
    "    \n",
    "    val_loader = DataLoader(val_dataset,\n",
    "                            batch_size=batch_size,\n",
    "                            shuffle=False,\n",
    "                            num_workers=1,\n",
    "                            pin_memory=True)\n",
    "    \n",
    "    return train_loader, val_loader\n",
    "            "
   ]
  },
  {
   "cell_type": "markdown",
   "metadata": {},
   "source": [
    "### Define a Neural Network - We'll use ResNet18\n",
    "\n",
    "We setup a simple pytorch module, load the weights and reset the last layer only, which we will retrain for our targets\n",
    "\n",
    "[About ResNet18 Architecture](https://www.researchgate.net/figure/ResNet-18-Architecture_tbl1_322476121)"
   ]
  },
  {
   "cell_type": "code",
   "execution_count": 22,
   "metadata": {},
   "outputs": [],
   "source": [
    "# cue cool name\n",
    "class FossilResNet(nn.Module):\n",
    "    \n",
    "    def __init__(self, num_outputs=10):\n",
    "        super(FossilResNet, self).__init__()\n",
    "        \n",
    "        # this will pull the weights down to a local cache on first execution\n",
    "        self.model_conv = torchvision.models.resnet18(pretrained=True)\n",
    "\n",
    "        # the pretrained convolutional layers are used!\n",
    "        # we turn of gradients on all layers, so the optimiser will ignore them during backward\n",
    "        for param in self.model_conv.parameters():\n",
    "            param.requires_grad = False\n",
    "\n",
    "        # we replace the last layer with a freshly initialised one, targeting the correct number of outputs,\n",
    "        # which will be optimised\n",
    "        num_ftrs = self.model_conv.fc.in_features\n",
    "        self.model_conv.fc = nn.Linear(num_ftrs, num_outputs)\n",
    "        \n",
    "    def forward(self, x):\n",
    "        return self.model_conv(x)\n",
    "        "
   ]
  },
  {
   "cell_type": "markdown",
   "metadata": {},
   "source": [
    "## Train & Validate functions\n",
    "\n",
    "We have seen train and test/validate functions a few times now, where we just loop over the datasets, calculate losses and metrics and return.\n",
    "\n",
    "This time train & Validate are called once per epoch and return f1_score over all examples"
   ]
  },
  {
   "cell_type": "code",
   "execution_count": 23,
   "metadata": {},
   "outputs": [],
   "source": [
    "from tqdm.notebook import tqdm\n",
    "from sklearn.metrics import f1_score\n",
    "\n",
    "def train(model, optimizer, train_loader, device=None):\n",
    "    device = device or torch.device(\"cpu\")\n",
    "\n",
    "    #\n",
    "    # Accumulate labels and predicitons manually over all batches\n",
    "    #\n",
    "    y_all = []\n",
    "    y_class = []\n",
    "    \n",
    "    # iterate over all training batches\n",
    "    model.train()\n",
    "    for X, y in tqdm(train_loader, desc=\"Training...\"):\n",
    "\n",
    "        # send data to the gpu\n",
    "        X, y = X.to(device), y.to(device)\n",
    "        \n",
    "        # zero gradients from last step\n",
    "        optimizer.zero_grad()\n",
    "        \n",
    "        # run forward pass\n",
    "        y_pred = model(X)\n",
    "        \n",
    "        # compute the loss\n",
    "        loss = F.nll_loss(y_pred, y)\n",
    "        \n",
    "        # backpropagate\n",
    "        loss.backward()\n",
    "        \n",
    "        # step the optimiser\n",
    "        optimizer.step()\n",
    "        \n",
    "        # keep hold of target and compute y_class for metrics\n",
    "        y_all.extend(y.tolist())   \n",
    "        _, c = torch.max(y_pred, 1)\n",
    "        y_class.extend(c.tolist())\n",
    "        \n",
    "    #\n",
    "    # Compute f1 on all examples\n",
    "    #\n",
    "    return f1_score(y_all, y_class, average='micro')"
   ]
  },
  {
   "cell_type": "code",
   "execution_count": 24,
   "metadata": {},
   "outputs": [],
   "source": [
    "def validate(model, data_loader, device=None):\n",
    "    device = device or torch.device(\"cpu\")\n",
    "    \n",
    "    #\n",
    "    # Accumulate labels and predicitons manually over all batches\n",
    "    #\n",
    "    y_all = []\n",
    "    y_class = []\n",
    "        \n",
    "    model.eval()\n",
    "    with torch.no_grad():\n",
    "        for X, y in tqdm(data_loader, desc=\"Testing...\"):\n",
    "            X, y = X.to(device), y.to(device)\n",
    "            \n",
    "            y_pred = model(X).cpu()\n",
    "            \n",
    "            # keep hold of target and compute y_class for metrics\n",
    "            y_all.extend(y.tolist())   \n",
    "            _, c = torch.max(y_pred, 1)\n",
    "            y_class.extend(c.tolist())\n",
    "            \n",
    "    #\n",
    "    # Compute f1 on all examples\n",
    "    #\n",
    "\n",
    "    return f1_score(y_all, y_class, average='micro')"
   ]
  },
  {
   "cell_type": "markdown",
   "metadata": {},
   "source": [
    "## Create the Trainable Class\n",
    "\n",
    "We create a ray Trainable wrapper class as before.\n"
   ]
  },
  {
   "cell_type": "code",
   "execution_count": 26,
   "metadata": {},
   "outputs": [],
   "source": [
    "from os import path\n",
    "\n",
    "class FossilTrainable(tune.Trainable):\n",
    "    \n",
    "    def _setup(self, config):\n",
    "        # detect if cuda is availalbe as ray will assign GPUs if available and configured\n",
    "        self.device = torch.device(\"cuda\" if torch.cuda.is_available() else \"cpu\")\n",
    "        \n",
    "        self.train_loader, self.test_loader = get_data_loaders(\n",
    "            #\n",
    "            # This path needs to be right for your local system\n",
    "            #\n",
    "            path.expanduser('~/git/tutorial-raytune-hyper/datasets/fossilnet/tvt_split/4'),\n",
    "            # access entries from config dict\n",
    "            batch_size=int(config.get(\"batch_size\", 16)),\n",
    "            augment_flip=config.get(\"augment_flip\", True),\n",
    "            use_grayscale=config.get(\"use_grayscale\", True)\n",
    "        )\n",
    "        \n",
    "        #\n",
    "        # Create the network\n",
    "        #\n",
    "        self.model = FossilResNet(num_outputs=4).to(self.device)\n",
    "        \n",
    "        #\n",
    "        # Setup the optimiser\n",
    "        #\n",
    "        self.optimizer = optim.Adam(\n",
    "            self.model.parameters(),\n",
    "            lr=config.get(\"lr\", 0.01),\n",
    "            weight_decay=config.get(\"weight_decay\", 1e-5)\n",
    "        )\n",
    "\n",
    "        #\n",
    "        # Use Trainable state to keep track of best scores\n",
    "        #\n",
    "        self._best_train_f1_score = 0.\n",
    "        self._best_val_f1_score = 0.\n",
    "        \n",
    "    def _train(self):\n",
    "        train_f1_score = train(self.model,\n",
    "                               self.optimizer,\n",
    "                               self.train_loader,\n",
    "                               device=self.device)\n",
    "        \n",
    "        val_f1_score = validate(self.model,\n",
    "                                self.test_loader,\n",
    "                                self.device)\n",
    "        \n",
    "        if (train_f1_score > self._best_train_f1_score):\n",
    "            self._best_train_f1_score = train_f1_score\n",
    "        \n",
    "        if (val_f1_score > self._best_val_f1_score):\n",
    "            self._best_val_f1_score = val_f1_score\n",
    "        \n",
    "        #\n",
    "        # Really we should return losses here too and we\n",
    "        # are free to extend the return dict with anything we want to track\n",
    "        #\n",
    "        return dict(\n",
    "            train_f1_score=train_f1_score,\n",
    "            best_train_f1_score = self._best_train_f1_score,\n",
    "            val_f1_score=val_f1_score,\n",
    "            best_val_f1_score=self._best_val_f1_score\n",
    "        )\n",
    "\n",
    "    def _save(self, checkpoint_dir):\n",
    "        checkpoint_path = path.join(checkpoint_dir, \"model.pth\")\n",
    "        torch.save(self.model.state_dict(), checkpoint_path)\n",
    "        return checkpoint_path\n",
    "    \n",
    "    def _restore(self, checkpoint_path):\n",
    "        self.model.load_state_dict(torch.load(checkpoint_path))"
   ]
  },
  {
   "cell_type": "markdown",
   "metadata": {},
   "source": [
    "### Check for Cuda"
   ]
  },
  {
   "cell_type": "code",
   "execution_count": 9,
   "metadata": {},
   "outputs": [
    {
     "name": "stdout",
     "output_type": "stream",
     "text": [
      "CUDA Available\n"
     ]
    }
   ],
   "source": [
    "print('CUDA Available') if torch.cuda.is_available() else print('CPU Only')"
   ]
  },
  {
   "cell_type": "markdown",
   "metadata": {},
   "source": [
    "### Start Ray"
   ]
  },
  {
   "cell_type": "code",
   "execution_count": 16,
   "metadata": {},
   "outputs": [
    {
     "name": "stderr",
     "output_type": "stream",
     "text": [
      "2020-11-10 17:24:38,090\tINFO services.py:1164 -- View the Ray dashboard at \u001B[1m\u001B[32mhttp://127.0.0.1:8265\u001B[39m\u001B[22m\n"
     ]
    },
    {
     "data": {
      "text/plain": "{'node_ip_address': '192.168.123.68',\n 'raylet_ip_address': '192.168.123.68',\n 'redis_address': '192.168.123.68:6379',\n 'object_store_address': '/tmp/ray/session_2020-11-10_17-24-37_646794_9908/sockets/plasma_store',\n 'raylet_socket_name': '/tmp/ray/session_2020-11-10_17-24-37_646794_9908/sockets/raylet',\n 'webui_url': '127.0.0.1:8265',\n 'session_dir': '/tmp/ray/session_2020-11-10_17-24-37_646794_9908',\n 'metrics_export_port': 47294}"
     },
     "execution_count": 16,
     "metadata": {},
     "output_type": "execute_result"
    }
   ],
   "source": [
    "ray.shutdown()\n",
    "ray.init(num_cpus=3, num_gpus=0)"
   ]
  },
  {
   "cell_type": "code",
   "execution_count": 28,
   "metadata": {
    "scrolled": true
   },
   "outputs": [
    {
     "data": {
      "text/plain": "<IPython.core.display.HTML object>",
      "text/html": "== Status ==<br>Memory usage on this node: 6.7/7.5 GiB<br>Using FIFO scheduling algorithm.<br>Resources requested: 3/3 CPUs, 0/0 GPUs, 0.0/0.88 GiB heap, 0.0/0.29 GiB objects<br>Result logdir: /home/lena/ray_results/torch_fossilnet/FossilTrainable<br>Number of trials: 10 (9 PENDING, 1 RUNNING)<br><table>\n<thead>\n<tr><th>Trial name                 </th><th>status  </th><th>loc  </th><th>augment_flip  </th><th style=\"text-align: right;\">  batch_size</th><th style=\"text-align: right;\">        lr</th><th>use_grayscale  </th><th style=\"text-align: right;\">  weight_decay</th></tr>\n</thead>\n<tbody>\n<tr><td>FossilTrainable_bc0ed_00000</td><td>RUNNING </td><td>     </td><td>False         </td><td style=\"text-align: right;\">          32</td><td style=\"text-align: right;\">0.0171927 </td><td>False          </td><td style=\"text-align: right;\">   2.87096e-05</td></tr>\n<tr><td>FossilTrainable_bc0ed_00001</td><td>PENDING </td><td>     </td><td>False         </td><td style=\"text-align: right;\">          64</td><td style=\"text-align: right;\">0.0878842 </td><td>True           </td><td style=\"text-align: right;\">   3.59351e-06</td></tr>\n<tr><td>FossilTrainable_bc0ed_00002</td><td>PENDING </td><td>     </td><td>True          </td><td style=\"text-align: right;\">           8</td><td style=\"text-align: right;\">0.0429277 </td><td>False          </td><td style=\"text-align: right;\">   0.000557793</td></tr>\n<tr><td>FossilTrainable_bc0ed_00003</td><td>PENDING </td><td>     </td><td>False         </td><td style=\"text-align: right;\">           8</td><td style=\"text-align: right;\">0.0781111 </td><td>False          </td><td style=\"text-align: right;\">   5.82524e-07</td></tr>\n<tr><td>FossilTrainable_bc0ed_00004</td><td>PENDING </td><td>     </td><td>True          </td><td style=\"text-align: right;\">          16</td><td style=\"text-align: right;\">0.0713129 </td><td>True           </td><td style=\"text-align: right;\">   0.00082175 </td></tr>\n<tr><td>FossilTrainable_bc0ed_00005</td><td>PENDING </td><td>     </td><td>True          </td><td style=\"text-align: right;\">          32</td><td style=\"text-align: right;\">0.0983239 </td><td>True           </td><td style=\"text-align: right;\">   3.58953e-07</td></tr>\n<tr><td>FossilTrainable_bc0ed_00006</td><td>PENDING </td><td>     </td><td>False         </td><td style=\"text-align: right;\">          64</td><td style=\"text-align: right;\">0.0594824 </td><td>True           </td><td style=\"text-align: right;\">   4.22807e-06</td></tr>\n<tr><td>FossilTrainable_bc0ed_00007</td><td>PENDING </td><td>     </td><td>True          </td><td style=\"text-align: right;\">          16</td><td style=\"text-align: right;\">0.0928984 </td><td>False          </td><td style=\"text-align: right;\">   2.77803e-05</td></tr>\n<tr><td>FossilTrainable_bc0ed_00008</td><td>PENDING </td><td>     </td><td>True          </td><td style=\"text-align: right;\">          64</td><td style=\"text-align: right;\">0.0660453 </td><td>False          </td><td style=\"text-align: right;\">   1.79897e-06</td></tr>\n<tr><td>FossilTrainable_bc0ed_00009</td><td>PENDING </td><td>     </td><td>False         </td><td style=\"text-align: right;\">           8</td><td style=\"text-align: right;\">0.00606845</td><td>False          </td><td style=\"text-align: right;\">   5.20831e-05</td></tr>\n</tbody>\n</table><br><br>"
     },
     "metadata": {},
     "output_type": "display_data"
    },
    {
     "name": "stdout",
     "output_type": "stream",
     "text": [
      "\u001B[2m\u001B[36m(pid=13381)\u001B[0m HBox(children=(HTML(value='Training...'), FloatProgress(value=0.0, max=25.0), HTML(value='')))\n",
      "\u001B[2m\u001B[36m(pid=13381)\u001B[0m \n",
      "\u001B[2m\u001B[36m(pid=13381)\u001B[0m HBox(children=(HTML(value='Testing...'), FloatProgress(value=0.0, max=7.0), HTML(value='')))\n",
      "Result for FossilTrainable_bc0ed_00000:\n",
      "  best_train_f1_score: 0.37\n",
      "  best_val_f1_score: 0.335\n",
      "  date: 2020-11-10_17-35-55\n",
      "  done: true\n",
      "  experiment_id: 4057574a0f094886a8784f5e49af2b65\n",
      "  experiment_tag: 0_augment_flip=False,batch_size=32,lr=0.017193,use_grayscale=False,weight_decay=2.871e-05\n",
      "  hostname: Schlepptop\n",
      "  iterations_since_restore: 1\n",
      "  node_ip: 192.168.123.68\n",
      "  pid: 13381\n",
      "  time_since_restore: 27.249120950698853\n",
      "  time_this_iter_s: 27.249120950698853\n",
      "  time_total_s: 27.249120950698853\n",
      "  timestamp: 1605026155\n",
      "  timesteps_since_restore: 0\n",
      "  train_f1_score: 0.37\n",
      "  training_iteration: 1\n",
      "  trial_id: bc0ed_00000\n",
      "  val_f1_score: 0.335\n",
      "  \n",
      "\u001B[2m\u001B[36m(pid=13381)\u001B[0m \n",
      "\u001B[2m\u001B[36m(pid=13475)\u001B[0m HBox(children=(HTML(value='Training...'), FloatProgress(value=0.0, max=13.0), HTML(value='')))\n",
      "\u001B[2m\u001B[36m(pid=13475)\u001B[0m \n",
      "\u001B[2m\u001B[36m(pid=13475)\u001B[0m HBox(children=(HTML(value='Testing...'), FloatProgress(value=0.0, max=4.0), HTML(value='')))\n",
      "Result for FossilTrainable_bc0ed_00001:\n",
      "  best_train_f1_score: 0.3025\n",
      "  best_val_f1_score: 0.335\n",
      "  date: 2020-11-10_17-36-27\n",
      "  done: true\n",
      "  experiment_id: c2c5110eaf9f4ff388a623cd474b5554\n",
      "  experiment_tag: 1_augment_flip=False,batch_size=64,lr=0.087884,use_grayscale=True,weight_decay=3.5935e-06\n",
      "  hostname: Schlepptop\n",
      "  iterations_since_restore: 1\n",
      "  node_ip: 192.168.123.68\n",
      "  pid: 13475\n",
      "  time_since_restore: 28.900100469589233\n",
      "  time_this_iter_s: 28.900100469589233\n",
      "  time_total_s: 28.900100469589233\n",
      "  timestamp: 1605026187\n",
      "  timesteps_since_restore: 0\n",
      "  train_f1_score: 0.3025\n",
      "  training_iteration: 1\n",
      "  trial_id: bc0ed_00001\n",
      "  val_f1_score: 0.335\n",
      "  \n",
      "\u001B[2m\u001B[36m(pid=13475)\u001B[0m \n",
      "\u001B[2m\u001B[36m(pid=13536)\u001B[0m HBox(children=(HTML(value='Training...'), FloatProgress(value=0.0), HTML(value='')))\n",
      "\u001B[2m\u001B[36m(pid=13536)\u001B[0m \n",
      "\u001B[2m\u001B[36m(pid=13536)\u001B[0m HBox(children=(HTML(value='Testing...'), FloatProgress(value=0.0, max=25.0), HTML(value='')))\n",
      "Result for FossilTrainable_bc0ed_00002:\n",
      "  best_train_f1_score: 0.38499999999999995\n",
      "  best_val_f1_score: 0.36\n",
      "  date: 2020-11-10_17-37-01\n",
      "  done: true\n",
      "  experiment_id: 71128d736474453ea1da7994b59976f9\n",
      "  experiment_tag: 2_augment_flip=True,batch_size=8,lr=0.042928,use_grayscale=False,weight_decay=0.00055779\n",
      "  hostname: Schlepptop\n",
      "  iterations_since_restore: 1\n",
      "  node_ip: 192.168.123.68\n",
      "  pid: 13536\n",
      "  time_since_restore: 30.251760005950928\n",
      "  time_this_iter_s: 30.251760005950928\n",
      "  time_total_s: 30.251760005950928\n",
      "  timestamp: 1605026221\n",
      "  timesteps_since_restore: 0\n",
      "  train_f1_score: 0.38499999999999995\n",
      "  training_iteration: 1\n",
      "  trial_id: bc0ed_00002\n",
      "  val_f1_score: 0.36\n",
      "  \n",
      "\u001B[2m\u001B[36m(pid=13536)\u001B[0m \n",
      "\u001B[2m\u001B[36m(pid=13581)\u001B[0m HBox(children=(HTML(value='Training...'), FloatProgress(value=0.0), HTML(value='')))\n",
      "\u001B[2m\u001B[36m(pid=13581)\u001B[0m \n",
      "\u001B[2m\u001B[36m(pid=13581)\u001B[0m HBox(children=(HTML(value='Testing...'), FloatProgress(value=0.0, max=25.0), HTML(value='')))\n",
      "Result for FossilTrainable_bc0ed_00003:\n",
      "  best_train_f1_score: 0.36875\n",
      "  best_val_f1_score: 0.605\n",
      "  date: 2020-11-10_17-37-35\n",
      "  done: true\n",
      "  experiment_id: 326e2a469bfd473fb0e2f84d6719a828\n",
      "  experiment_tag: 3_augment_flip=False,batch_size=8,lr=0.078111,use_grayscale=False,weight_decay=5.8252e-07\n",
      "  hostname: Schlepptop\n",
      "  iterations_since_restore: 1\n",
      "  node_ip: 192.168.123.68\n",
      "  pid: 13581\n",
      "  time_since_restore: 31.291541814804077\n",
      "  time_this_iter_s: 31.291541814804077\n",
      "  time_total_s: 31.291541814804077\n",
      "  timestamp: 1605026255\n",
      "  timesteps_since_restore: 0\n",
      "  train_f1_score: 0.36875\n",
      "  training_iteration: 1\n",
      "  trial_id: bc0ed_00003\n",
      "  val_f1_score: 0.605\n",
      "  \n",
      "\u001B[2m\u001B[36m(pid=13581)\u001B[0m \n",
      "\u001B[2m\u001B[36m(pid=13669)\u001B[0m HBox(children=(HTML(value='Training...'), FloatProgress(value=0.0, max=50.0), HTML(value='')))\n",
      "\u001B[2m\u001B[36m(pid=13669)\u001B[0m \n",
      "\u001B[2m\u001B[36m(pid=13669)\u001B[0m HBox(children=(HTML(value='Testing...'), FloatProgress(value=0.0, max=13.0), HTML(value='')))\n",
      "Result for FossilTrainable_bc0ed_00004:\n",
      "  best_train_f1_score: 0.4025\n",
      "  best_val_f1_score: 0.36499999999999994\n",
      "  date: 2020-11-10_17-38-07\n",
      "  done: true\n",
      "  experiment_id: 1d5c9473edaa48789ac242c9ae30a242\n",
      "  experiment_tag: 4_augment_flip=True,batch_size=16,lr=0.071313,use_grayscale=True,weight_decay=0.00082175\n",
      "  hostname: Schlepptop\n",
      "  iterations_since_restore: 1\n",
      "  node_ip: 192.168.123.68\n",
      "  pid: 13669\n",
      "  time_since_restore: 29.341076850891113\n",
      "  time_this_iter_s: 29.341076850891113\n",
      "  time_total_s: 29.341076850891113\n",
      "  timestamp: 1605026287\n",
      "  timesteps_since_restore: 0\n",
      "  train_f1_score: 0.4025\n",
      "  training_iteration: 1\n",
      "  trial_id: bc0ed_00004\n",
      "  val_f1_score: 0.36499999999999994\n",
      "  \n",
      "\u001B[2m\u001B[36m(pid=13669)\u001B[0m \n",
      "\u001B[2m\u001B[36m(pid=13770)\u001B[0m HBox(children=(HTML(value='Training...'), FloatProgress(value=0.0, max=25.0), HTML(value='')))\n",
      "\u001B[2m\u001B[36m(pid=13770)\u001B[0m \n",
      "\u001B[2m\u001B[36m(pid=13770)\u001B[0m HBox(children=(HTML(value='Testing...'), FloatProgress(value=0.0, max=7.0), HTML(value='')))\n",
      "Result for FossilTrainable_bc0ed_00005:\n",
      "  best_train_f1_score: 0.30375\n",
      "  best_val_f1_score: 0.46\n",
      "  date: 2020-11-10_17-38-38\n",
      "  done: true\n",
      "  experiment_id: c195345e91834dca8be1dc97d19bb692\n",
      "  experiment_tag: 5_augment_flip=True,batch_size=32,lr=0.098324,use_grayscale=True,weight_decay=3.5895e-07\n",
      "  hostname: Schlepptop\n",
      "  iterations_since_restore: 1\n",
      "  node_ip: 192.168.123.68\n",
      "  pid: 13770\n",
      "  time_since_restore: 27.72372055053711\n",
      "  time_this_iter_s: 27.72372055053711\n",
      "  time_total_s: 27.72372055053711\n",
      "  timestamp: 1605026318\n",
      "  timesteps_since_restore: 0\n",
      "  train_f1_score: 0.30375\n",
      "  training_iteration: 1\n",
      "  trial_id: bc0ed_00005\n",
      "  val_f1_score: 0.46\n",
      "  \n",
      "\u001B[2m\u001B[36m(pid=13770)\u001B[0m \n",
      "\u001B[2m\u001B[36m(pid=13833)\u001B[0m HBox(children=(HTML(value='Training...'), FloatProgress(value=0.0, max=13.0), HTML(value='')))\n",
      "\u001B[2m\u001B[36m(pid=13833)\u001B[0m \n",
      "\u001B[2m\u001B[36m(pid=13833)\u001B[0m HBox(children=(HTML(value='Testing...'), FloatProgress(value=0.0, max=4.0), HTML(value='')))\n",
      "Result for FossilTrainable_bc0ed_00006:\n",
      "  best_train_f1_score: 0.315\n",
      "  best_val_f1_score: 0.565\n",
      "  date: 2020-11-10_17-39-08\n",
      "  done: true\n",
      "  experiment_id: 37f063479ac04f38bf7d605112611503\n",
      "  experiment_tag: 6_augment_flip=False,batch_size=64,lr=0.059482,use_grayscale=True,weight_decay=4.2281e-06\n",
      "  hostname: Schlepptop\n",
      "  iterations_since_restore: 1\n",
      "  node_ip: 192.168.123.68\n",
      "  pid: 13833\n",
      "  time_since_restore: 27.47223401069641\n",
      "  time_this_iter_s: 27.47223401069641\n",
      "  time_total_s: 27.47223401069641\n",
      "  timestamp: 1605026348\n",
      "  timesteps_since_restore: 0\n",
      "  train_f1_score: 0.315\n",
      "  training_iteration: 1\n",
      "  trial_id: bc0ed_00006\n",
      "  val_f1_score: 0.565\n",
      "  \n",
      "\u001B[2m\u001B[36m(pid=13833)\u001B[0m \n",
      "\u001B[2m\u001B[36m(pid=13911)\u001B[0m HBox(children=(HTML(value='Training...'), FloatProgress(value=0.0, max=50.0), HTML(value='')))\n",
      "\u001B[2m\u001B[36m(pid=13911)\u001B[0m \n",
      "\u001B[2m\u001B[36m(pid=13911)\u001B[0m HBox(children=(HTML(value='Testing...'), FloatProgress(value=0.0, max=13.0), HTML(value='')))\n",
      "Result for FossilTrainable_bc0ed_00007:\n",
      "  best_train_f1_score: 0.30375\n",
      "  best_val_f1_score: 0.25\n",
      "  date: 2020-11-10_17-39-41\n",
      "  done: true\n",
      "  experiment_id: 962ecdede0704fcf8a1e028b37d0326f\n",
      "  experiment_tag: 7_augment_flip=True,batch_size=16,lr=0.092898,use_grayscale=False,weight_decay=2.778e-05\n",
      "  hostname: Schlepptop\n",
      "  iterations_since_restore: 1\n",
      "  node_ip: 192.168.123.68\n",
      "  pid: 13911\n",
      "  time_since_restore: 28.785569429397583\n",
      "  time_this_iter_s: 28.785569429397583\n",
      "  time_total_s: 28.785569429397583\n",
      "  timestamp: 1605026381\n",
      "  timesteps_since_restore: 0\n",
      "  train_f1_score: 0.30375\n",
      "  training_iteration: 1\n",
      "  trial_id: bc0ed_00007\n",
      "  val_f1_score: 0.25\n",
      "  \n",
      "\u001B[2m\u001B[36m(pid=13911)\u001B[0m \n",
      "\u001B[2m\u001B[36m(pid=13965)\u001B[0m HBox(children=(HTML(value='Training...'), FloatProgress(value=0.0, max=13.0), HTML(value='')))\n",
      "\u001B[2m\u001B[36m(pid=13965)\u001B[0m \n",
      "\u001B[2m\u001B[36m(pid=13965)\u001B[0m HBox(children=(HTML(value='Testing...'), FloatProgress(value=0.0, max=4.0), HTML(value='')))\n",
      "Result for FossilTrainable_bc0ed_00008:\n",
      "  best_train_f1_score: 0.3225\n",
      "  best_val_f1_score: 0.37\n",
      "  date: 2020-11-10_17-40-12\n",
      "  done: true\n",
      "  experiment_id: e5226ed480734565a6544b2ee9e87a3a\n",
      "  experiment_tag: 8_augment_flip=True,batch_size=64,lr=0.066045,use_grayscale=False,weight_decay=1.799e-06\n",
      "  hostname: Schlepptop\n",
      "  iterations_since_restore: 1\n",
      "  node_ip: 192.168.123.68\n",
      "  pid: 13965\n",
      "  time_since_restore: 27.731245279312134\n",
      "  time_this_iter_s: 27.731245279312134\n",
      "  time_total_s: 27.731245279312134\n",
      "  timestamp: 1605026412\n",
      "  timesteps_since_restore: 0\n",
      "  train_f1_score: 0.3225\n",
      "  training_iteration: 1\n",
      "  trial_id: bc0ed_00008\n",
      "  val_f1_score: 0.37\n",
      "  \n",
      "\u001B[2m\u001B[36m(pid=13965)\u001B[0m \n",
      "\u001B[2m\u001B[36m(pid=14012)\u001B[0m HBox(children=(HTML(value='Training...'), FloatProgress(value=0.0), HTML(value='')))\n",
      "\u001B[2m\u001B[36m(pid=14012)\u001B[0m \n",
      "\u001B[2m\u001B[36m(pid=14012)\u001B[0m HBox(children=(HTML(value='Testing...'), FloatProgress(value=0.0, max=25.0), HTML(value='')))\n",
      "Result for FossilTrainable_bc0ed_00009:\n",
      "  best_train_f1_score: 0.30875\n",
      "  best_val_f1_score: 0.495\n",
      "  date: 2020-11-10_17-40-44\n",
      "  done: true\n",
      "  experiment_id: 8141df5fd7bd48409b8890baabb2d72f\n",
      "  experiment_tag: 9_augment_flip=False,batch_size=8,lr=0.0060684,use_grayscale=False,weight_decay=5.2083e-05\n",
      "  hostname: Schlepptop\n",
      "  iterations_since_restore: 1\n",
      "  node_ip: 192.168.123.68\n",
      "  pid: 14012\n",
      "  time_since_restore: 29.223263263702393\n",
      "  time_this_iter_s: 29.223263263702393\n",
      "  time_total_s: 29.223263263702393\n",
      "  timestamp: 1605026444\n",
      "  timesteps_since_restore: 0\n",
      "  train_f1_score: 0.30875\n",
      "  training_iteration: 1\n",
      "  trial_id: bc0ed_00009\n",
      "  val_f1_score: 0.495\n",
      "  \n",
      "\u001B[2m\u001B[36m(pid=14012)\u001B[0m \n",
      "Best config is: {'lr': 0.07811112129723659, 'weight_decay': 5.825238816359489e-07, 'batch_size': 8, 'augment_flip': False, 'use_grayscale': False}\n"
     ]
    },
    {
     "name": "stderr",
     "output_type": "stream",
     "text": [
      "\u001B[2m\u001B[36m(pid=13381)\u001B[0m 2020-11-10 17:35:28,466\tWARNING trainable.py:860 -- Trainable._setup is deprecated and will be removed in a future version of Ray. Override Trainable.setup instead.\n",
      "\u001B[2m\u001B[36m(pid=13381)\u001B[0m 2020-11-10 17:35:55,717\tWARNING trainable.py:728 -- Trainable._train is deprecated and will be removed in a future version of Ray. Override Trainable.step instead.\n",
      "\u001B[2m\u001B[36m(pid=13381)\u001B[0m 2020-11-10 17:35:55,807\tWARNING trainable.py:779 -- Trainable._save is deprecated and will be removed in a future version of Ray. Override Trainable.save_checkpoint instead.\n",
      "\u001B[2m\u001B[36m(pid=13475)\u001B[0m 2020-11-10 17:35:58,786\tWARNING trainable.py:860 -- Trainable._setup is deprecated and will be removed in a future version of Ray. Override Trainable.setup instead.\n",
      "\u001B[2m\u001B[36m(pid=13475)\u001B[0m 2020-11-10 17:36:27,689\tWARNING trainable.py:728 -- Trainable._train is deprecated and will be removed in a future version of Ray. Override Trainable.step instead.\n",
      "\u001B[2m\u001B[36m(pid=13475)\u001B[0m 2020-11-10 17:36:27,787\tWARNING trainable.py:779 -- Trainable._save is deprecated and will be removed in a future version of Ray. Override Trainable.save_checkpoint instead.\n",
      "\u001B[2m\u001B[36m(pid=13536)\u001B[0m 2020-11-10 17:36:31,593\tWARNING trainable.py:860 -- Trainable._setup is deprecated and will be removed in a future version of Ray. Override Trainable.setup instead.\n",
      "\u001B[2m\u001B[36m(pid=13536)\u001B[0m 2020-11-10 17:37:01,847\tWARNING trainable.py:728 -- Trainable._train is deprecated and will be removed in a future version of Ray. Override Trainable.step instead.\n",
      "\u001B[2m\u001B[36m(pid=13536)\u001B[0m 2020-11-10 17:37:01,919\tWARNING trainable.py:779 -- Trainable._save is deprecated and will be removed in a future version of Ray. Override Trainable.save_checkpoint instead.\n",
      "\u001B[2m\u001B[36m(pid=13581)\u001B[0m 2020-11-10 17:37:04,311\tWARNING trainable.py:860 -- Trainable._setup is deprecated and will be removed in a future version of Ray. Override Trainable.setup instead.\n",
      "\u001B[2m\u001B[36m(pid=13581)\u001B[0m 2020-11-10 17:37:35,605\tWARNING trainable.py:728 -- Trainable._train is deprecated and will be removed in a future version of Ray. Override Trainable.step instead.\n",
      "\u001B[2m\u001B[36m(pid=13581)\u001B[0m 2020-11-10 17:37:35,682\tWARNING trainable.py:779 -- Trainable._save is deprecated and will be removed in a future version of Ray. Override Trainable.save_checkpoint instead.\n",
      "\u001B[2m\u001B[36m(pid=13669)\u001B[0m 2020-11-10 17:37:37,971\tWARNING trainable.py:860 -- Trainable._setup is deprecated and will be removed in a future version of Ray. Override Trainable.setup instead.\n",
      "\u001B[2m\u001B[36m(pid=13669)\u001B[0m 2020-11-10 17:38:07,314\tWARNING trainable.py:728 -- Trainable._train is deprecated and will be removed in a future version of Ray. Override Trainable.step instead.\n",
      "\u001B[2m\u001B[36m(pid=13669)\u001B[0m 2020-11-10 17:38:07,409\tWARNING trainable.py:779 -- Trainable._save is deprecated and will be removed in a future version of Ray. Override Trainable.save_checkpoint instead.\n",
      "\u001B[2m\u001B[36m(pid=13770)\u001B[0m 2020-11-10 17:38:10,716\tWARNING trainable.py:860 -- Trainable._setup is deprecated and will be removed in a future version of Ray. Override Trainable.setup instead.\n",
      "\u001B[2m\u001B[36m(pid=13770)\u001B[0m 2020-11-10 17:38:38,442\tWARNING trainable.py:728 -- Trainable._train is deprecated and will be removed in a future version of Ray. Override Trainable.step instead.\n",
      "\u001B[2m\u001B[36m(pid=13770)\u001B[0m 2020-11-10 17:38:38,521\tWARNING trainable.py:779 -- Trainable._save is deprecated and will be removed in a future version of Ray. Override Trainable.save_checkpoint instead.\n",
      "\u001B[2m\u001B[36m(pid=13833)\u001B[0m 2020-11-10 17:38:41,391\tWARNING trainable.py:860 -- Trainable._setup is deprecated and will be removed in a future version of Ray. Override Trainable.setup instead.\n",
      "\u001B[2m\u001B[36m(pid=13833)\u001B[0m 2020-11-10 17:39:08,865\tWARNING trainable.py:728 -- Trainable._train is deprecated and will be removed in a future version of Ray. Override Trainable.step instead.\n",
      "\u001B[2m\u001B[36m(pid=13833)\u001B[0m 2020-11-10 17:39:08,952\tWARNING trainable.py:779 -- Trainable._save is deprecated and will be removed in a future version of Ray. Override Trainable.save_checkpoint instead.\n",
      "\u001B[2m\u001B[36m(pid=13911)\u001B[0m 2020-11-10 17:39:12,853\tWARNING trainable.py:860 -- Trainable._setup is deprecated and will be removed in a future version of Ray. Override Trainable.setup instead.\n",
      "\u001B[2m\u001B[36m(pid=13911)\u001B[0m 2020-11-10 17:39:41,643\tWARNING trainable.py:728 -- Trainable._train is deprecated and will be removed in a future version of Ray. Override Trainable.step instead.\n",
      "\u001B[2m\u001B[36m(pid=13911)\u001B[0m 2020-11-10 17:39:41,725\tWARNING trainable.py:779 -- Trainable._save is deprecated and will be removed in a future version of Ray. Override Trainable.save_checkpoint instead.\n",
      "\u001B[2m\u001B[36m(pid=13965)\u001B[0m 2020-11-10 17:39:44,349\tWARNING trainable.py:860 -- Trainable._setup is deprecated and will be removed in a future version of Ray. Override Trainable.setup instead.\n",
      "\u001B[2m\u001B[36m(pid=13965)\u001B[0m 2020-11-10 17:40:12,082\tWARNING trainable.py:728 -- Trainable._train is deprecated and will be removed in a future version of Ray. Override Trainable.step instead.\n",
      "\u001B[2m\u001B[36m(pid=13965)\u001B[0m 2020-11-10 17:40:12,161\tWARNING trainable.py:779 -- Trainable._save is deprecated and will be removed in a future version of Ray. Override Trainable.save_checkpoint instead.\n",
      "\u001B[2m\u001B[36m(pid=14012)\u001B[0m 2020-11-10 17:40:15,453\tWARNING trainable.py:860 -- Trainable._setup is deprecated and will be removed in a future version of Ray. Override Trainable.setup instead.\n",
      "\u001B[2m\u001B[36m(pid=14012)\u001B[0m 2020-11-10 17:40:44,679\tWARNING trainable.py:728 -- Trainable._train is deprecated and will be removed in a future version of Ray. Override Trainable.step instead.\n",
      "\u001B[2m\u001B[36m(pid=14012)\u001B[0m 2020-11-10 17:40:44,760\tWARNING trainable.py:779 -- Trainable._save is deprecated and will be removed in a future version of Ray. Override Trainable.save_checkpoint instead.\n"
     ]
    },
    {
     "data": {
      "text/plain": "<IPython.core.display.HTML object>",
      "text/html": "== Status ==<br>Memory usage on this node: 6.9/7.5 GiB: ***LOW MEMORY*** less than 10% of the memory on this node is available for use. This can cause unexpected crashes. Consider reducing the memory used by your application or reducing the Ray object store size by setting `object_store_memory` when calling `ray.init`.<br>Using FIFO scheduling algorithm.<br>Resources requested: 3/3 CPUs, 0/0 GPUs, 0.0/0.88 GiB heap, 0.0/0.29 GiB objects<br>Result logdir: /home/lena/ray_results/torch_fossilnet/FossilTrainable<br>Number of trials: 10 (9 PENDING, 1 RUNNING)<br><table>\n<thead>\n<tr><th>Trial name                 </th><th>status  </th><th>loc                 </th><th>augment_flip  </th><th style=\"text-align: right;\">  batch_size</th><th style=\"text-align: right;\">        lr</th><th>use_grayscale  </th><th style=\"text-align: right;\">  weight_decay</th><th style=\"text-align: right;\">  iter</th><th style=\"text-align: right;\">  total time (s)</th><th style=\"text-align: right;\">  train_f1_score</th><th style=\"text-align: right;\">  best_train_f1_score</th><th style=\"text-align: right;\">  val_f1_score</th></tr>\n</thead>\n<tbody>\n<tr><td>FossilTrainable_bc0ed_00000</td><td>RUNNING </td><td>192.168.123.68:13381</td><td>False         </td><td style=\"text-align: right;\">          32</td><td style=\"text-align: right;\">0.0171927 </td><td>False          </td><td style=\"text-align: right;\">   2.87096e-05</td><td style=\"text-align: right;\">     1</td><td style=\"text-align: right;\">         27.2491</td><td style=\"text-align: right;\">            0.37</td><td style=\"text-align: right;\">                 0.37</td><td style=\"text-align: right;\">         0.335</td></tr>\n<tr><td>FossilTrainable_bc0ed_00001</td><td>PENDING </td><td>                    </td><td>False         </td><td style=\"text-align: right;\">          64</td><td style=\"text-align: right;\">0.0878842 </td><td>True           </td><td style=\"text-align: right;\">   3.59351e-06</td><td style=\"text-align: right;\">      </td><td style=\"text-align: right;\">                </td><td style=\"text-align: right;\">                </td><td style=\"text-align: right;\">                     </td><td style=\"text-align: right;\">              </td></tr>\n<tr><td>FossilTrainable_bc0ed_00002</td><td>PENDING </td><td>                    </td><td>True          </td><td style=\"text-align: right;\">           8</td><td style=\"text-align: right;\">0.0429277 </td><td>False          </td><td style=\"text-align: right;\">   0.000557793</td><td style=\"text-align: right;\">      </td><td style=\"text-align: right;\">                </td><td style=\"text-align: right;\">                </td><td style=\"text-align: right;\">                     </td><td style=\"text-align: right;\">              </td></tr>\n<tr><td>FossilTrainable_bc0ed_00003</td><td>PENDING </td><td>                    </td><td>False         </td><td style=\"text-align: right;\">           8</td><td style=\"text-align: right;\">0.0781111 </td><td>False          </td><td style=\"text-align: right;\">   5.82524e-07</td><td style=\"text-align: right;\">      </td><td style=\"text-align: right;\">                </td><td style=\"text-align: right;\">                </td><td style=\"text-align: right;\">                     </td><td style=\"text-align: right;\">              </td></tr>\n<tr><td>FossilTrainable_bc0ed_00004</td><td>PENDING </td><td>                    </td><td>True          </td><td style=\"text-align: right;\">          16</td><td style=\"text-align: right;\">0.0713129 </td><td>True           </td><td style=\"text-align: right;\">   0.00082175 </td><td style=\"text-align: right;\">      </td><td style=\"text-align: right;\">                </td><td style=\"text-align: right;\">                </td><td style=\"text-align: right;\">                     </td><td style=\"text-align: right;\">              </td></tr>\n<tr><td>FossilTrainable_bc0ed_00005</td><td>PENDING </td><td>                    </td><td>True          </td><td style=\"text-align: right;\">          32</td><td style=\"text-align: right;\">0.0983239 </td><td>True           </td><td style=\"text-align: right;\">   3.58953e-07</td><td style=\"text-align: right;\">      </td><td style=\"text-align: right;\">                </td><td style=\"text-align: right;\">                </td><td style=\"text-align: right;\">                     </td><td style=\"text-align: right;\">              </td></tr>\n<tr><td>FossilTrainable_bc0ed_00006</td><td>PENDING </td><td>                    </td><td>False         </td><td style=\"text-align: right;\">          64</td><td style=\"text-align: right;\">0.0594824 </td><td>True           </td><td style=\"text-align: right;\">   4.22807e-06</td><td style=\"text-align: right;\">      </td><td style=\"text-align: right;\">                </td><td style=\"text-align: right;\">                </td><td style=\"text-align: right;\">                     </td><td style=\"text-align: right;\">              </td></tr>\n<tr><td>FossilTrainable_bc0ed_00007</td><td>PENDING </td><td>                    </td><td>True          </td><td style=\"text-align: right;\">          16</td><td style=\"text-align: right;\">0.0928984 </td><td>False          </td><td style=\"text-align: right;\">   2.77803e-05</td><td style=\"text-align: right;\">      </td><td style=\"text-align: right;\">                </td><td style=\"text-align: right;\">                </td><td style=\"text-align: right;\">                     </td><td style=\"text-align: right;\">              </td></tr>\n<tr><td>FossilTrainable_bc0ed_00008</td><td>PENDING </td><td>                    </td><td>True          </td><td style=\"text-align: right;\">          64</td><td style=\"text-align: right;\">0.0660453 </td><td>False          </td><td style=\"text-align: right;\">   1.79897e-06</td><td style=\"text-align: right;\">      </td><td style=\"text-align: right;\">                </td><td style=\"text-align: right;\">                </td><td style=\"text-align: right;\">                     </td><td style=\"text-align: right;\">              </td></tr>\n<tr><td>FossilTrainable_bc0ed_00009</td><td>PENDING </td><td>                    </td><td>False         </td><td style=\"text-align: right;\">           8</td><td style=\"text-align: right;\">0.00606845</td><td>False          </td><td style=\"text-align: right;\">   5.20831e-05</td><td style=\"text-align: right;\">      </td><td style=\"text-align: right;\">                </td><td style=\"text-align: right;\">                </td><td style=\"text-align: right;\">                     </td><td style=\"text-align: right;\">              </td></tr>\n</tbody>\n</table><br><br>"
     },
     "metadata": {},
     "output_type": "display_data"
    },
    {
     "data": {
      "text/plain": "<IPython.core.display.HTML object>",
      "text/html": "== Status ==<br>Memory usage on this node: 6.9/7.5 GiB: ***LOW MEMORY*** less than 10% of the memory on this node is available for use. This can cause unexpected crashes. Consider reducing the memory used by your application or reducing the Ray object store size by setting `object_store_memory` when calling `ray.init`.<br>Using FIFO scheduling algorithm.<br>Resources requested: 3/3 CPUs, 0/0 GPUs, 0.0/0.88 GiB heap, 0.0/0.29 GiB objects<br>Result logdir: /home/lena/ray_results/torch_fossilnet/FossilTrainable<br>Number of trials: 10 (8 PENDING, 1 RUNNING, 1 TERMINATED)<br><table>\n<thead>\n<tr><th>Trial name                 </th><th>status    </th><th>loc                 </th><th>augment_flip  </th><th style=\"text-align: right;\">  batch_size</th><th style=\"text-align: right;\">        lr</th><th>use_grayscale  </th><th style=\"text-align: right;\">  weight_decay</th><th style=\"text-align: right;\">  iter</th><th style=\"text-align: right;\">  total time (s)</th><th style=\"text-align: right;\">  train_f1_score</th><th style=\"text-align: right;\">  best_train_f1_score</th><th style=\"text-align: right;\">  val_f1_score</th></tr>\n</thead>\n<tbody>\n<tr><td>FossilTrainable_bc0ed_00000</td><td>TERMINATED</td><td>                    </td><td>False         </td><td style=\"text-align: right;\">          32</td><td style=\"text-align: right;\">0.0171927 </td><td>False          </td><td style=\"text-align: right;\">   2.87096e-05</td><td style=\"text-align: right;\">     1</td><td style=\"text-align: right;\">         27.2491</td><td style=\"text-align: right;\">          0.37  </td><td style=\"text-align: right;\">               0.37  </td><td style=\"text-align: right;\">         0.335</td></tr>\n<tr><td>FossilTrainable_bc0ed_00001</td><td>RUNNING   </td><td>192.168.123.68:13475</td><td>False         </td><td style=\"text-align: right;\">          64</td><td style=\"text-align: right;\">0.0878842 </td><td>True           </td><td style=\"text-align: right;\">   3.59351e-06</td><td style=\"text-align: right;\">     1</td><td style=\"text-align: right;\">         28.9001</td><td style=\"text-align: right;\">          0.3025</td><td style=\"text-align: right;\">               0.3025</td><td style=\"text-align: right;\">         0.335</td></tr>\n<tr><td>FossilTrainable_bc0ed_00002</td><td>PENDING   </td><td>                    </td><td>True          </td><td style=\"text-align: right;\">           8</td><td style=\"text-align: right;\">0.0429277 </td><td>False          </td><td style=\"text-align: right;\">   0.000557793</td><td style=\"text-align: right;\">      </td><td style=\"text-align: right;\">                </td><td style=\"text-align: right;\">                </td><td style=\"text-align: right;\">                     </td><td style=\"text-align: right;\">              </td></tr>\n<tr><td>FossilTrainable_bc0ed_00003</td><td>PENDING   </td><td>                    </td><td>False         </td><td style=\"text-align: right;\">           8</td><td style=\"text-align: right;\">0.0781111 </td><td>False          </td><td style=\"text-align: right;\">   5.82524e-07</td><td style=\"text-align: right;\">      </td><td style=\"text-align: right;\">                </td><td style=\"text-align: right;\">                </td><td style=\"text-align: right;\">                     </td><td style=\"text-align: right;\">              </td></tr>\n<tr><td>FossilTrainable_bc0ed_00004</td><td>PENDING   </td><td>                    </td><td>True          </td><td style=\"text-align: right;\">          16</td><td style=\"text-align: right;\">0.0713129 </td><td>True           </td><td style=\"text-align: right;\">   0.00082175 </td><td style=\"text-align: right;\">      </td><td style=\"text-align: right;\">                </td><td style=\"text-align: right;\">                </td><td style=\"text-align: right;\">                     </td><td style=\"text-align: right;\">              </td></tr>\n<tr><td>FossilTrainable_bc0ed_00005</td><td>PENDING   </td><td>                    </td><td>True          </td><td style=\"text-align: right;\">          32</td><td style=\"text-align: right;\">0.0983239 </td><td>True           </td><td style=\"text-align: right;\">   3.58953e-07</td><td style=\"text-align: right;\">      </td><td style=\"text-align: right;\">                </td><td style=\"text-align: right;\">                </td><td style=\"text-align: right;\">                     </td><td style=\"text-align: right;\">              </td></tr>\n<tr><td>FossilTrainable_bc0ed_00006</td><td>PENDING   </td><td>                    </td><td>False         </td><td style=\"text-align: right;\">          64</td><td style=\"text-align: right;\">0.0594824 </td><td>True           </td><td style=\"text-align: right;\">   4.22807e-06</td><td style=\"text-align: right;\">      </td><td style=\"text-align: right;\">                </td><td style=\"text-align: right;\">                </td><td style=\"text-align: right;\">                     </td><td style=\"text-align: right;\">              </td></tr>\n<tr><td>FossilTrainable_bc0ed_00007</td><td>PENDING   </td><td>                    </td><td>True          </td><td style=\"text-align: right;\">          16</td><td style=\"text-align: right;\">0.0928984 </td><td>False          </td><td style=\"text-align: right;\">   2.77803e-05</td><td style=\"text-align: right;\">      </td><td style=\"text-align: right;\">                </td><td style=\"text-align: right;\">                </td><td style=\"text-align: right;\">                     </td><td style=\"text-align: right;\">              </td></tr>\n<tr><td>FossilTrainable_bc0ed_00008</td><td>PENDING   </td><td>                    </td><td>True          </td><td style=\"text-align: right;\">          64</td><td style=\"text-align: right;\">0.0660453 </td><td>False          </td><td style=\"text-align: right;\">   1.79897e-06</td><td style=\"text-align: right;\">      </td><td style=\"text-align: right;\">                </td><td style=\"text-align: right;\">                </td><td style=\"text-align: right;\">                     </td><td style=\"text-align: right;\">              </td></tr>\n<tr><td>FossilTrainable_bc0ed_00009</td><td>PENDING   </td><td>                    </td><td>False         </td><td style=\"text-align: right;\">           8</td><td style=\"text-align: right;\">0.00606845</td><td>False          </td><td style=\"text-align: right;\">   5.20831e-05</td><td style=\"text-align: right;\">      </td><td style=\"text-align: right;\">                </td><td style=\"text-align: right;\">                </td><td style=\"text-align: right;\">                     </td><td style=\"text-align: right;\">              </td></tr>\n</tbody>\n</table><br><br>"
     },
     "metadata": {},
     "output_type": "display_data"
    },
    {
     "data": {
      "text/plain": "<IPython.core.display.HTML object>",
      "text/html": "== Status ==<br>Memory usage on this node: 6.8/7.5 GiB: ***LOW MEMORY*** less than 10% of the memory on this node is available for use. This can cause unexpected crashes. Consider reducing the memory used by your application or reducing the Ray object store size by setting `object_store_memory` when calling `ray.init`.<br>Using FIFO scheduling algorithm.<br>Resources requested: 3/3 CPUs, 0/0 GPUs, 0.0/0.88 GiB heap, 0.0/0.29 GiB objects<br>Result logdir: /home/lena/ray_results/torch_fossilnet/FossilTrainable<br>Number of trials: 10 (7 PENDING, 1 RUNNING, 2 TERMINATED)<br><table>\n<thead>\n<tr><th>Trial name                 </th><th>status    </th><th>loc                 </th><th>augment_flip  </th><th style=\"text-align: right;\">  batch_size</th><th style=\"text-align: right;\">        lr</th><th>use_grayscale  </th><th style=\"text-align: right;\">  weight_decay</th><th style=\"text-align: right;\">  iter</th><th style=\"text-align: right;\">  total time (s)</th><th style=\"text-align: right;\">  train_f1_score</th><th style=\"text-align: right;\">  best_train_f1_score</th><th style=\"text-align: right;\">  val_f1_score</th></tr>\n</thead>\n<tbody>\n<tr><td>FossilTrainable_bc0ed_00000</td><td>TERMINATED</td><td>                    </td><td>False         </td><td style=\"text-align: right;\">          32</td><td style=\"text-align: right;\">0.0171927 </td><td>False          </td><td style=\"text-align: right;\">   2.87096e-05</td><td style=\"text-align: right;\">     1</td><td style=\"text-align: right;\">         27.2491</td><td style=\"text-align: right;\">          0.37  </td><td style=\"text-align: right;\">               0.37  </td><td style=\"text-align: right;\">         0.335</td></tr>\n<tr><td>FossilTrainable_bc0ed_00001</td><td>TERMINATED</td><td>                    </td><td>False         </td><td style=\"text-align: right;\">          64</td><td style=\"text-align: right;\">0.0878842 </td><td>True           </td><td style=\"text-align: right;\">   3.59351e-06</td><td style=\"text-align: right;\">     1</td><td style=\"text-align: right;\">         28.9001</td><td style=\"text-align: right;\">          0.3025</td><td style=\"text-align: right;\">               0.3025</td><td style=\"text-align: right;\">         0.335</td></tr>\n<tr><td>FossilTrainable_bc0ed_00002</td><td>RUNNING   </td><td>192.168.123.68:13536</td><td>True          </td><td style=\"text-align: right;\">           8</td><td style=\"text-align: right;\">0.0429277 </td><td>False          </td><td style=\"text-align: right;\">   0.000557793</td><td style=\"text-align: right;\">     1</td><td style=\"text-align: right;\">         30.2518</td><td style=\"text-align: right;\">          0.385 </td><td style=\"text-align: right;\">               0.385 </td><td style=\"text-align: right;\">         0.36 </td></tr>\n<tr><td>FossilTrainable_bc0ed_00003</td><td>PENDING   </td><td>                    </td><td>False         </td><td style=\"text-align: right;\">           8</td><td style=\"text-align: right;\">0.0781111 </td><td>False          </td><td style=\"text-align: right;\">   5.82524e-07</td><td style=\"text-align: right;\">      </td><td style=\"text-align: right;\">                </td><td style=\"text-align: right;\">                </td><td style=\"text-align: right;\">                     </td><td style=\"text-align: right;\">              </td></tr>\n<tr><td>FossilTrainable_bc0ed_00004</td><td>PENDING   </td><td>                    </td><td>True          </td><td style=\"text-align: right;\">          16</td><td style=\"text-align: right;\">0.0713129 </td><td>True           </td><td style=\"text-align: right;\">   0.00082175 </td><td style=\"text-align: right;\">      </td><td style=\"text-align: right;\">                </td><td style=\"text-align: right;\">                </td><td style=\"text-align: right;\">                     </td><td style=\"text-align: right;\">              </td></tr>\n<tr><td>FossilTrainable_bc0ed_00005</td><td>PENDING   </td><td>                    </td><td>True          </td><td style=\"text-align: right;\">          32</td><td style=\"text-align: right;\">0.0983239 </td><td>True           </td><td style=\"text-align: right;\">   3.58953e-07</td><td style=\"text-align: right;\">      </td><td style=\"text-align: right;\">                </td><td style=\"text-align: right;\">                </td><td style=\"text-align: right;\">                     </td><td style=\"text-align: right;\">              </td></tr>\n<tr><td>FossilTrainable_bc0ed_00006</td><td>PENDING   </td><td>                    </td><td>False         </td><td style=\"text-align: right;\">          64</td><td style=\"text-align: right;\">0.0594824 </td><td>True           </td><td style=\"text-align: right;\">   4.22807e-06</td><td style=\"text-align: right;\">      </td><td style=\"text-align: right;\">                </td><td style=\"text-align: right;\">                </td><td style=\"text-align: right;\">                     </td><td style=\"text-align: right;\">              </td></tr>\n<tr><td>FossilTrainable_bc0ed_00007</td><td>PENDING   </td><td>                    </td><td>True          </td><td style=\"text-align: right;\">          16</td><td style=\"text-align: right;\">0.0928984 </td><td>False          </td><td style=\"text-align: right;\">   2.77803e-05</td><td style=\"text-align: right;\">      </td><td style=\"text-align: right;\">                </td><td style=\"text-align: right;\">                </td><td style=\"text-align: right;\">                     </td><td style=\"text-align: right;\">              </td></tr>\n<tr><td>FossilTrainable_bc0ed_00008</td><td>PENDING   </td><td>                    </td><td>True          </td><td style=\"text-align: right;\">          64</td><td style=\"text-align: right;\">0.0660453 </td><td>False          </td><td style=\"text-align: right;\">   1.79897e-06</td><td style=\"text-align: right;\">      </td><td style=\"text-align: right;\">                </td><td style=\"text-align: right;\">                </td><td style=\"text-align: right;\">                     </td><td style=\"text-align: right;\">              </td></tr>\n<tr><td>FossilTrainable_bc0ed_00009</td><td>PENDING   </td><td>                    </td><td>False         </td><td style=\"text-align: right;\">           8</td><td style=\"text-align: right;\">0.00606845</td><td>False          </td><td style=\"text-align: right;\">   5.20831e-05</td><td style=\"text-align: right;\">      </td><td style=\"text-align: right;\">                </td><td style=\"text-align: right;\">                </td><td style=\"text-align: right;\">                     </td><td style=\"text-align: right;\">              </td></tr>\n</tbody>\n</table><br><br>"
     },
     "metadata": {},
     "output_type": "display_data"
    },
    {
     "data": {
      "text/plain": "<IPython.core.display.HTML object>",
      "text/html": "== Status ==<br>Memory usage on this node: 6.9/7.5 GiB: ***LOW MEMORY*** less than 10% of the memory on this node is available for use. This can cause unexpected crashes. Consider reducing the memory used by your application or reducing the Ray object store size by setting `object_store_memory` when calling `ray.init`.<br>Using FIFO scheduling algorithm.<br>Resources requested: 3/3 CPUs, 0/0 GPUs, 0.0/0.88 GiB heap, 0.0/0.29 GiB objects<br>Result logdir: /home/lena/ray_results/torch_fossilnet/FossilTrainable<br>Number of trials: 10 (6 PENDING, 1 RUNNING, 3 TERMINATED)<br><table>\n<thead>\n<tr><th>Trial name                 </th><th>status    </th><th>loc                 </th><th>augment_flip  </th><th style=\"text-align: right;\">  batch_size</th><th style=\"text-align: right;\">        lr</th><th>use_grayscale  </th><th style=\"text-align: right;\">  weight_decay</th><th style=\"text-align: right;\">  iter</th><th style=\"text-align: right;\">  total time (s)</th><th style=\"text-align: right;\">  train_f1_score</th><th style=\"text-align: right;\">  best_train_f1_score</th><th style=\"text-align: right;\">  val_f1_score</th></tr>\n</thead>\n<tbody>\n<tr><td>FossilTrainable_bc0ed_00000</td><td>TERMINATED</td><td>                    </td><td>False         </td><td style=\"text-align: right;\">          32</td><td style=\"text-align: right;\">0.0171927 </td><td>False          </td><td style=\"text-align: right;\">   2.87096e-05</td><td style=\"text-align: right;\">     1</td><td style=\"text-align: right;\">         27.2491</td><td style=\"text-align: right;\">         0.37   </td><td style=\"text-align: right;\">              0.37   </td><td style=\"text-align: right;\">         0.335</td></tr>\n<tr><td>FossilTrainable_bc0ed_00001</td><td>TERMINATED</td><td>                    </td><td>False         </td><td style=\"text-align: right;\">          64</td><td style=\"text-align: right;\">0.0878842 </td><td>True           </td><td style=\"text-align: right;\">   3.59351e-06</td><td style=\"text-align: right;\">     1</td><td style=\"text-align: right;\">         28.9001</td><td style=\"text-align: right;\">         0.3025 </td><td style=\"text-align: right;\">              0.3025 </td><td style=\"text-align: right;\">         0.335</td></tr>\n<tr><td>FossilTrainable_bc0ed_00002</td><td>TERMINATED</td><td>                    </td><td>True          </td><td style=\"text-align: right;\">           8</td><td style=\"text-align: right;\">0.0429277 </td><td>False          </td><td style=\"text-align: right;\">   0.000557793</td><td style=\"text-align: right;\">     1</td><td style=\"text-align: right;\">         30.2518</td><td style=\"text-align: right;\">         0.385  </td><td style=\"text-align: right;\">              0.385  </td><td style=\"text-align: right;\">         0.36 </td></tr>\n<tr><td>FossilTrainable_bc0ed_00003</td><td>RUNNING   </td><td>192.168.123.68:13581</td><td>False         </td><td style=\"text-align: right;\">           8</td><td style=\"text-align: right;\">0.0781111 </td><td>False          </td><td style=\"text-align: right;\">   5.82524e-07</td><td style=\"text-align: right;\">     1</td><td style=\"text-align: right;\">         31.2915</td><td style=\"text-align: right;\">         0.36875</td><td style=\"text-align: right;\">              0.36875</td><td style=\"text-align: right;\">         0.605</td></tr>\n<tr><td>FossilTrainable_bc0ed_00004</td><td>PENDING   </td><td>                    </td><td>True          </td><td style=\"text-align: right;\">          16</td><td style=\"text-align: right;\">0.0713129 </td><td>True           </td><td style=\"text-align: right;\">   0.00082175 </td><td style=\"text-align: right;\">      </td><td style=\"text-align: right;\">                </td><td style=\"text-align: right;\">                </td><td style=\"text-align: right;\">                     </td><td style=\"text-align: right;\">              </td></tr>\n<tr><td>FossilTrainable_bc0ed_00005</td><td>PENDING   </td><td>                    </td><td>True          </td><td style=\"text-align: right;\">          32</td><td style=\"text-align: right;\">0.0983239 </td><td>True           </td><td style=\"text-align: right;\">   3.58953e-07</td><td style=\"text-align: right;\">      </td><td style=\"text-align: right;\">                </td><td style=\"text-align: right;\">                </td><td style=\"text-align: right;\">                     </td><td style=\"text-align: right;\">              </td></tr>\n<tr><td>FossilTrainable_bc0ed_00006</td><td>PENDING   </td><td>                    </td><td>False         </td><td style=\"text-align: right;\">          64</td><td style=\"text-align: right;\">0.0594824 </td><td>True           </td><td style=\"text-align: right;\">   4.22807e-06</td><td style=\"text-align: right;\">      </td><td style=\"text-align: right;\">                </td><td style=\"text-align: right;\">                </td><td style=\"text-align: right;\">                     </td><td style=\"text-align: right;\">              </td></tr>\n<tr><td>FossilTrainable_bc0ed_00007</td><td>PENDING   </td><td>                    </td><td>True          </td><td style=\"text-align: right;\">          16</td><td style=\"text-align: right;\">0.0928984 </td><td>False          </td><td style=\"text-align: right;\">   2.77803e-05</td><td style=\"text-align: right;\">      </td><td style=\"text-align: right;\">                </td><td style=\"text-align: right;\">                </td><td style=\"text-align: right;\">                     </td><td style=\"text-align: right;\">              </td></tr>\n<tr><td>FossilTrainable_bc0ed_00008</td><td>PENDING   </td><td>                    </td><td>True          </td><td style=\"text-align: right;\">          64</td><td style=\"text-align: right;\">0.0660453 </td><td>False          </td><td style=\"text-align: right;\">   1.79897e-06</td><td style=\"text-align: right;\">      </td><td style=\"text-align: right;\">                </td><td style=\"text-align: right;\">                </td><td style=\"text-align: right;\">                     </td><td style=\"text-align: right;\">              </td></tr>\n<tr><td>FossilTrainable_bc0ed_00009</td><td>PENDING   </td><td>                    </td><td>False         </td><td style=\"text-align: right;\">           8</td><td style=\"text-align: right;\">0.00606845</td><td>False          </td><td style=\"text-align: right;\">   5.20831e-05</td><td style=\"text-align: right;\">      </td><td style=\"text-align: right;\">                </td><td style=\"text-align: right;\">                </td><td style=\"text-align: right;\">                     </td><td style=\"text-align: right;\">              </td></tr>\n</tbody>\n</table><br><br>"
     },
     "metadata": {},
     "output_type": "display_data"
    },
    {
     "data": {
      "text/plain": "<IPython.core.display.HTML object>",
      "text/html": "== Status ==<br>Memory usage on this node: 6.9/7.5 GiB: ***LOW MEMORY*** less than 10% of the memory on this node is available for use. This can cause unexpected crashes. Consider reducing the memory used by your application or reducing the Ray object store size by setting `object_store_memory` when calling `ray.init`.<br>Using FIFO scheduling algorithm.<br>Resources requested: 3/3 CPUs, 0/0 GPUs, 0.0/0.88 GiB heap, 0.0/0.29 GiB objects<br>Result logdir: /home/lena/ray_results/torch_fossilnet/FossilTrainable<br>Number of trials: 10 (5 PENDING, 1 RUNNING, 4 TERMINATED)<br><table>\n<thead>\n<tr><th>Trial name                 </th><th>status    </th><th>loc                 </th><th>augment_flip  </th><th style=\"text-align: right;\">  batch_size</th><th style=\"text-align: right;\">        lr</th><th>use_grayscale  </th><th style=\"text-align: right;\">  weight_decay</th><th style=\"text-align: right;\">  iter</th><th style=\"text-align: right;\">  total time (s)</th><th style=\"text-align: right;\">  train_f1_score</th><th style=\"text-align: right;\">  best_train_f1_score</th><th style=\"text-align: right;\">  val_f1_score</th></tr>\n</thead>\n<tbody>\n<tr><td>FossilTrainable_bc0ed_00000</td><td>TERMINATED</td><td>                    </td><td>False         </td><td style=\"text-align: right;\">          32</td><td style=\"text-align: right;\">0.0171927 </td><td>False          </td><td style=\"text-align: right;\">   2.87096e-05</td><td style=\"text-align: right;\">     1</td><td style=\"text-align: right;\">         27.2491</td><td style=\"text-align: right;\">         0.37   </td><td style=\"text-align: right;\">              0.37   </td><td style=\"text-align: right;\">         0.335</td></tr>\n<tr><td>FossilTrainable_bc0ed_00001</td><td>TERMINATED</td><td>                    </td><td>False         </td><td style=\"text-align: right;\">          64</td><td style=\"text-align: right;\">0.0878842 </td><td>True           </td><td style=\"text-align: right;\">   3.59351e-06</td><td style=\"text-align: right;\">     1</td><td style=\"text-align: right;\">         28.9001</td><td style=\"text-align: right;\">         0.3025 </td><td style=\"text-align: right;\">              0.3025 </td><td style=\"text-align: right;\">         0.335</td></tr>\n<tr><td>FossilTrainable_bc0ed_00002</td><td>TERMINATED</td><td>                    </td><td>True          </td><td style=\"text-align: right;\">           8</td><td style=\"text-align: right;\">0.0429277 </td><td>False          </td><td style=\"text-align: right;\">   0.000557793</td><td style=\"text-align: right;\">     1</td><td style=\"text-align: right;\">         30.2518</td><td style=\"text-align: right;\">         0.385  </td><td style=\"text-align: right;\">              0.385  </td><td style=\"text-align: right;\">         0.36 </td></tr>\n<tr><td>FossilTrainable_bc0ed_00003</td><td>TERMINATED</td><td>                    </td><td>False         </td><td style=\"text-align: right;\">           8</td><td style=\"text-align: right;\">0.0781111 </td><td>False          </td><td style=\"text-align: right;\">   5.82524e-07</td><td style=\"text-align: right;\">     1</td><td style=\"text-align: right;\">         31.2915</td><td style=\"text-align: right;\">         0.36875</td><td style=\"text-align: right;\">              0.36875</td><td style=\"text-align: right;\">         0.605</td></tr>\n<tr><td>FossilTrainable_bc0ed_00004</td><td>RUNNING   </td><td>192.168.123.68:13669</td><td>True          </td><td style=\"text-align: right;\">          16</td><td style=\"text-align: right;\">0.0713129 </td><td>True           </td><td style=\"text-align: right;\">   0.00082175 </td><td style=\"text-align: right;\">     1</td><td style=\"text-align: right;\">         29.3411</td><td style=\"text-align: right;\">         0.4025 </td><td style=\"text-align: right;\">              0.4025 </td><td style=\"text-align: right;\">         0.365</td></tr>\n<tr><td>FossilTrainable_bc0ed_00005</td><td>PENDING   </td><td>                    </td><td>True          </td><td style=\"text-align: right;\">          32</td><td style=\"text-align: right;\">0.0983239 </td><td>True           </td><td style=\"text-align: right;\">   3.58953e-07</td><td style=\"text-align: right;\">      </td><td style=\"text-align: right;\">                </td><td style=\"text-align: right;\">                </td><td style=\"text-align: right;\">                     </td><td style=\"text-align: right;\">              </td></tr>\n<tr><td>FossilTrainable_bc0ed_00006</td><td>PENDING   </td><td>                    </td><td>False         </td><td style=\"text-align: right;\">          64</td><td style=\"text-align: right;\">0.0594824 </td><td>True           </td><td style=\"text-align: right;\">   4.22807e-06</td><td style=\"text-align: right;\">      </td><td style=\"text-align: right;\">                </td><td style=\"text-align: right;\">                </td><td style=\"text-align: right;\">                     </td><td style=\"text-align: right;\">              </td></tr>\n<tr><td>FossilTrainable_bc0ed_00007</td><td>PENDING   </td><td>                    </td><td>True          </td><td style=\"text-align: right;\">          16</td><td style=\"text-align: right;\">0.0928984 </td><td>False          </td><td style=\"text-align: right;\">   2.77803e-05</td><td style=\"text-align: right;\">      </td><td style=\"text-align: right;\">                </td><td style=\"text-align: right;\">                </td><td style=\"text-align: right;\">                     </td><td style=\"text-align: right;\">              </td></tr>\n<tr><td>FossilTrainable_bc0ed_00008</td><td>PENDING   </td><td>                    </td><td>True          </td><td style=\"text-align: right;\">          64</td><td style=\"text-align: right;\">0.0660453 </td><td>False          </td><td style=\"text-align: right;\">   1.79897e-06</td><td style=\"text-align: right;\">      </td><td style=\"text-align: right;\">                </td><td style=\"text-align: right;\">                </td><td style=\"text-align: right;\">                     </td><td style=\"text-align: right;\">              </td></tr>\n<tr><td>FossilTrainable_bc0ed_00009</td><td>PENDING   </td><td>                    </td><td>False         </td><td style=\"text-align: right;\">           8</td><td style=\"text-align: right;\">0.00606845</td><td>False          </td><td style=\"text-align: right;\">   5.20831e-05</td><td style=\"text-align: right;\">      </td><td style=\"text-align: right;\">                </td><td style=\"text-align: right;\">                </td><td style=\"text-align: right;\">                     </td><td style=\"text-align: right;\">              </td></tr>\n</tbody>\n</table><br><br>"
     },
     "metadata": {},
     "output_type": "display_data"
    },
    {
     "data": {
      "text/plain": "<IPython.core.display.HTML object>",
      "text/html": "== Status ==<br>Memory usage on this node: 7.0/7.5 GiB: ***LOW MEMORY*** less than 10% of the memory on this node is available for use. This can cause unexpected crashes. Consider reducing the memory used by your application or reducing the Ray object store size by setting `object_store_memory` when calling `ray.init`.<br>Using FIFO scheduling algorithm.<br>Resources requested: 3/3 CPUs, 0/0 GPUs, 0.0/0.88 GiB heap, 0.0/0.29 GiB objects<br>Result logdir: /home/lena/ray_results/torch_fossilnet/FossilTrainable<br>Number of trials: 10 (4 PENDING, 1 RUNNING, 5 TERMINATED)<br><table>\n<thead>\n<tr><th>Trial name                 </th><th>status    </th><th>loc                 </th><th>augment_flip  </th><th style=\"text-align: right;\">  batch_size</th><th style=\"text-align: right;\">        lr</th><th>use_grayscale  </th><th style=\"text-align: right;\">  weight_decay</th><th style=\"text-align: right;\">  iter</th><th style=\"text-align: right;\">  total time (s)</th><th style=\"text-align: right;\">  train_f1_score</th><th style=\"text-align: right;\">  best_train_f1_score</th><th style=\"text-align: right;\">  val_f1_score</th></tr>\n</thead>\n<tbody>\n<tr><td>FossilTrainable_bc0ed_00000</td><td>TERMINATED</td><td>                    </td><td>False         </td><td style=\"text-align: right;\">          32</td><td style=\"text-align: right;\">0.0171927 </td><td>False          </td><td style=\"text-align: right;\">   2.87096e-05</td><td style=\"text-align: right;\">     1</td><td style=\"text-align: right;\">         27.2491</td><td style=\"text-align: right;\">         0.37   </td><td style=\"text-align: right;\">              0.37   </td><td style=\"text-align: right;\">         0.335</td></tr>\n<tr><td>FossilTrainable_bc0ed_00001</td><td>TERMINATED</td><td>                    </td><td>False         </td><td style=\"text-align: right;\">          64</td><td style=\"text-align: right;\">0.0878842 </td><td>True           </td><td style=\"text-align: right;\">   3.59351e-06</td><td style=\"text-align: right;\">     1</td><td style=\"text-align: right;\">         28.9001</td><td style=\"text-align: right;\">         0.3025 </td><td style=\"text-align: right;\">              0.3025 </td><td style=\"text-align: right;\">         0.335</td></tr>\n<tr><td>FossilTrainable_bc0ed_00002</td><td>TERMINATED</td><td>                    </td><td>True          </td><td style=\"text-align: right;\">           8</td><td style=\"text-align: right;\">0.0429277 </td><td>False          </td><td style=\"text-align: right;\">   0.000557793</td><td style=\"text-align: right;\">     1</td><td style=\"text-align: right;\">         30.2518</td><td style=\"text-align: right;\">         0.385  </td><td style=\"text-align: right;\">              0.385  </td><td style=\"text-align: right;\">         0.36 </td></tr>\n<tr><td>FossilTrainable_bc0ed_00003</td><td>TERMINATED</td><td>                    </td><td>False         </td><td style=\"text-align: right;\">           8</td><td style=\"text-align: right;\">0.0781111 </td><td>False          </td><td style=\"text-align: right;\">   5.82524e-07</td><td style=\"text-align: right;\">     1</td><td style=\"text-align: right;\">         31.2915</td><td style=\"text-align: right;\">         0.36875</td><td style=\"text-align: right;\">              0.36875</td><td style=\"text-align: right;\">         0.605</td></tr>\n<tr><td>FossilTrainable_bc0ed_00004</td><td>TERMINATED</td><td>                    </td><td>True          </td><td style=\"text-align: right;\">          16</td><td style=\"text-align: right;\">0.0713129 </td><td>True           </td><td style=\"text-align: right;\">   0.00082175 </td><td style=\"text-align: right;\">     1</td><td style=\"text-align: right;\">         29.3411</td><td style=\"text-align: right;\">         0.4025 </td><td style=\"text-align: right;\">              0.4025 </td><td style=\"text-align: right;\">         0.365</td></tr>\n<tr><td>FossilTrainable_bc0ed_00005</td><td>RUNNING   </td><td>192.168.123.68:13770</td><td>True          </td><td style=\"text-align: right;\">          32</td><td style=\"text-align: right;\">0.0983239 </td><td>True           </td><td style=\"text-align: right;\">   3.58953e-07</td><td style=\"text-align: right;\">     1</td><td style=\"text-align: right;\">         27.7237</td><td style=\"text-align: right;\">         0.30375</td><td style=\"text-align: right;\">              0.30375</td><td style=\"text-align: right;\">         0.46 </td></tr>\n<tr><td>FossilTrainable_bc0ed_00006</td><td>PENDING   </td><td>                    </td><td>False         </td><td style=\"text-align: right;\">          64</td><td style=\"text-align: right;\">0.0594824 </td><td>True           </td><td style=\"text-align: right;\">   4.22807e-06</td><td style=\"text-align: right;\">      </td><td style=\"text-align: right;\">                </td><td style=\"text-align: right;\">                </td><td style=\"text-align: right;\">                     </td><td style=\"text-align: right;\">              </td></tr>\n<tr><td>FossilTrainable_bc0ed_00007</td><td>PENDING   </td><td>                    </td><td>True          </td><td style=\"text-align: right;\">          16</td><td style=\"text-align: right;\">0.0928984 </td><td>False          </td><td style=\"text-align: right;\">   2.77803e-05</td><td style=\"text-align: right;\">      </td><td style=\"text-align: right;\">                </td><td style=\"text-align: right;\">                </td><td style=\"text-align: right;\">                     </td><td style=\"text-align: right;\">              </td></tr>\n<tr><td>FossilTrainable_bc0ed_00008</td><td>PENDING   </td><td>                    </td><td>True          </td><td style=\"text-align: right;\">          64</td><td style=\"text-align: right;\">0.0660453 </td><td>False          </td><td style=\"text-align: right;\">   1.79897e-06</td><td style=\"text-align: right;\">      </td><td style=\"text-align: right;\">                </td><td style=\"text-align: right;\">                </td><td style=\"text-align: right;\">                     </td><td style=\"text-align: right;\">              </td></tr>\n<tr><td>FossilTrainable_bc0ed_00009</td><td>PENDING   </td><td>                    </td><td>False         </td><td style=\"text-align: right;\">           8</td><td style=\"text-align: right;\">0.00606845</td><td>False          </td><td style=\"text-align: right;\">   5.20831e-05</td><td style=\"text-align: right;\">      </td><td style=\"text-align: right;\">                </td><td style=\"text-align: right;\">                </td><td style=\"text-align: right;\">                     </td><td style=\"text-align: right;\">              </td></tr>\n</tbody>\n</table><br><br>"
     },
     "metadata": {},
     "output_type": "display_data"
    },
    {
     "data": {
      "text/plain": "<IPython.core.display.HTML object>",
      "text/html": "== Status ==<br>Memory usage on this node: 6.9/7.5 GiB: ***LOW MEMORY*** less than 10% of the memory on this node is available for use. This can cause unexpected crashes. Consider reducing the memory used by your application or reducing the Ray object store size by setting `object_store_memory` when calling `ray.init`.<br>Using FIFO scheduling algorithm.<br>Resources requested: 3/3 CPUs, 0/0 GPUs, 0.0/0.88 GiB heap, 0.0/0.29 GiB objects<br>Result logdir: /home/lena/ray_results/torch_fossilnet/FossilTrainable<br>Number of trials: 10 (3 PENDING, 1 RUNNING, 6 TERMINATED)<br><table>\n<thead>\n<tr><th>Trial name                 </th><th>status    </th><th>loc                 </th><th>augment_flip  </th><th style=\"text-align: right;\">  batch_size</th><th style=\"text-align: right;\">        lr</th><th>use_grayscale  </th><th style=\"text-align: right;\">  weight_decay</th><th style=\"text-align: right;\">  iter</th><th style=\"text-align: right;\">  total time (s)</th><th style=\"text-align: right;\">  train_f1_score</th><th style=\"text-align: right;\">  best_train_f1_score</th><th style=\"text-align: right;\">  val_f1_score</th></tr>\n</thead>\n<tbody>\n<tr><td>FossilTrainable_bc0ed_00000</td><td>TERMINATED</td><td>                    </td><td>False         </td><td style=\"text-align: right;\">          32</td><td style=\"text-align: right;\">0.0171927 </td><td>False          </td><td style=\"text-align: right;\">   2.87096e-05</td><td style=\"text-align: right;\">     1</td><td style=\"text-align: right;\">         27.2491</td><td style=\"text-align: right;\">         0.37   </td><td style=\"text-align: right;\">              0.37   </td><td style=\"text-align: right;\">         0.335</td></tr>\n<tr><td>FossilTrainable_bc0ed_00001</td><td>TERMINATED</td><td>                    </td><td>False         </td><td style=\"text-align: right;\">          64</td><td style=\"text-align: right;\">0.0878842 </td><td>True           </td><td style=\"text-align: right;\">   3.59351e-06</td><td style=\"text-align: right;\">     1</td><td style=\"text-align: right;\">         28.9001</td><td style=\"text-align: right;\">         0.3025 </td><td style=\"text-align: right;\">              0.3025 </td><td style=\"text-align: right;\">         0.335</td></tr>\n<tr><td>FossilTrainable_bc0ed_00002</td><td>TERMINATED</td><td>                    </td><td>True          </td><td style=\"text-align: right;\">           8</td><td style=\"text-align: right;\">0.0429277 </td><td>False          </td><td style=\"text-align: right;\">   0.000557793</td><td style=\"text-align: right;\">     1</td><td style=\"text-align: right;\">         30.2518</td><td style=\"text-align: right;\">         0.385  </td><td style=\"text-align: right;\">              0.385  </td><td style=\"text-align: right;\">         0.36 </td></tr>\n<tr><td>FossilTrainable_bc0ed_00003</td><td>TERMINATED</td><td>                    </td><td>False         </td><td style=\"text-align: right;\">           8</td><td style=\"text-align: right;\">0.0781111 </td><td>False          </td><td style=\"text-align: right;\">   5.82524e-07</td><td style=\"text-align: right;\">     1</td><td style=\"text-align: right;\">         31.2915</td><td style=\"text-align: right;\">         0.36875</td><td style=\"text-align: right;\">              0.36875</td><td style=\"text-align: right;\">         0.605</td></tr>\n<tr><td>FossilTrainable_bc0ed_00004</td><td>TERMINATED</td><td>                    </td><td>True          </td><td style=\"text-align: right;\">          16</td><td style=\"text-align: right;\">0.0713129 </td><td>True           </td><td style=\"text-align: right;\">   0.00082175 </td><td style=\"text-align: right;\">     1</td><td style=\"text-align: right;\">         29.3411</td><td style=\"text-align: right;\">         0.4025 </td><td style=\"text-align: right;\">              0.4025 </td><td style=\"text-align: right;\">         0.365</td></tr>\n<tr><td>FossilTrainable_bc0ed_00005</td><td>TERMINATED</td><td>                    </td><td>True          </td><td style=\"text-align: right;\">          32</td><td style=\"text-align: right;\">0.0983239 </td><td>True           </td><td style=\"text-align: right;\">   3.58953e-07</td><td style=\"text-align: right;\">     1</td><td style=\"text-align: right;\">         27.7237</td><td style=\"text-align: right;\">         0.30375</td><td style=\"text-align: right;\">              0.30375</td><td style=\"text-align: right;\">         0.46 </td></tr>\n<tr><td>FossilTrainable_bc0ed_00006</td><td>RUNNING   </td><td>192.168.123.68:13833</td><td>False         </td><td style=\"text-align: right;\">          64</td><td style=\"text-align: right;\">0.0594824 </td><td>True           </td><td style=\"text-align: right;\">   4.22807e-06</td><td style=\"text-align: right;\">     1</td><td style=\"text-align: right;\">         27.4722</td><td style=\"text-align: right;\">         0.315  </td><td style=\"text-align: right;\">              0.315  </td><td style=\"text-align: right;\">         0.565</td></tr>\n<tr><td>FossilTrainable_bc0ed_00007</td><td>PENDING   </td><td>                    </td><td>True          </td><td style=\"text-align: right;\">          16</td><td style=\"text-align: right;\">0.0928984 </td><td>False          </td><td style=\"text-align: right;\">   2.77803e-05</td><td style=\"text-align: right;\">      </td><td style=\"text-align: right;\">                </td><td style=\"text-align: right;\">                </td><td style=\"text-align: right;\">                     </td><td style=\"text-align: right;\">              </td></tr>\n<tr><td>FossilTrainable_bc0ed_00008</td><td>PENDING   </td><td>                    </td><td>True          </td><td style=\"text-align: right;\">          64</td><td style=\"text-align: right;\">0.0660453 </td><td>False          </td><td style=\"text-align: right;\">   1.79897e-06</td><td style=\"text-align: right;\">      </td><td style=\"text-align: right;\">                </td><td style=\"text-align: right;\">                </td><td style=\"text-align: right;\">                     </td><td style=\"text-align: right;\">              </td></tr>\n<tr><td>FossilTrainable_bc0ed_00009</td><td>PENDING   </td><td>                    </td><td>False         </td><td style=\"text-align: right;\">           8</td><td style=\"text-align: right;\">0.00606845</td><td>False          </td><td style=\"text-align: right;\">   5.20831e-05</td><td style=\"text-align: right;\">      </td><td style=\"text-align: right;\">                </td><td style=\"text-align: right;\">                </td><td style=\"text-align: right;\">                     </td><td style=\"text-align: right;\">              </td></tr>\n</tbody>\n</table><br><br>"
     },
     "metadata": {},
     "output_type": "display_data"
    },
    {
     "data": {
      "text/plain": "<IPython.core.display.HTML object>",
      "text/html": "== Status ==<br>Memory usage on this node: 6.9/7.5 GiB: ***LOW MEMORY*** less than 10% of the memory on this node is available for use. This can cause unexpected crashes. Consider reducing the memory used by your application or reducing the Ray object store size by setting `object_store_memory` when calling `ray.init`.<br>Using FIFO scheduling algorithm.<br>Resources requested: 3/3 CPUs, 0/0 GPUs, 0.0/0.88 GiB heap, 0.0/0.29 GiB objects<br>Result logdir: /home/lena/ray_results/torch_fossilnet/FossilTrainable<br>Number of trials: 10 (2 PENDING, 1 RUNNING, 7 TERMINATED)<br><table>\n<thead>\n<tr><th>Trial name                 </th><th>status    </th><th>loc                 </th><th>augment_flip  </th><th style=\"text-align: right;\">  batch_size</th><th style=\"text-align: right;\">        lr</th><th>use_grayscale  </th><th style=\"text-align: right;\">  weight_decay</th><th style=\"text-align: right;\">  iter</th><th style=\"text-align: right;\">  total time (s)</th><th style=\"text-align: right;\">  train_f1_score</th><th style=\"text-align: right;\">  best_train_f1_score</th><th style=\"text-align: right;\">  val_f1_score</th></tr>\n</thead>\n<tbody>\n<tr><td>FossilTrainable_bc0ed_00000</td><td>TERMINATED</td><td>                    </td><td>False         </td><td style=\"text-align: right;\">          32</td><td style=\"text-align: right;\">0.0171927 </td><td>False          </td><td style=\"text-align: right;\">   2.87096e-05</td><td style=\"text-align: right;\">     1</td><td style=\"text-align: right;\">         27.2491</td><td style=\"text-align: right;\">         0.37   </td><td style=\"text-align: right;\">              0.37   </td><td style=\"text-align: right;\">         0.335</td></tr>\n<tr><td>FossilTrainable_bc0ed_00001</td><td>TERMINATED</td><td>                    </td><td>False         </td><td style=\"text-align: right;\">          64</td><td style=\"text-align: right;\">0.0878842 </td><td>True           </td><td style=\"text-align: right;\">   3.59351e-06</td><td style=\"text-align: right;\">     1</td><td style=\"text-align: right;\">         28.9001</td><td style=\"text-align: right;\">         0.3025 </td><td style=\"text-align: right;\">              0.3025 </td><td style=\"text-align: right;\">         0.335</td></tr>\n<tr><td>FossilTrainable_bc0ed_00002</td><td>TERMINATED</td><td>                    </td><td>True          </td><td style=\"text-align: right;\">           8</td><td style=\"text-align: right;\">0.0429277 </td><td>False          </td><td style=\"text-align: right;\">   0.000557793</td><td style=\"text-align: right;\">     1</td><td style=\"text-align: right;\">         30.2518</td><td style=\"text-align: right;\">         0.385  </td><td style=\"text-align: right;\">              0.385  </td><td style=\"text-align: right;\">         0.36 </td></tr>\n<tr><td>FossilTrainable_bc0ed_00003</td><td>TERMINATED</td><td>                    </td><td>False         </td><td style=\"text-align: right;\">           8</td><td style=\"text-align: right;\">0.0781111 </td><td>False          </td><td style=\"text-align: right;\">   5.82524e-07</td><td style=\"text-align: right;\">     1</td><td style=\"text-align: right;\">         31.2915</td><td style=\"text-align: right;\">         0.36875</td><td style=\"text-align: right;\">              0.36875</td><td style=\"text-align: right;\">         0.605</td></tr>\n<tr><td>FossilTrainable_bc0ed_00004</td><td>TERMINATED</td><td>                    </td><td>True          </td><td style=\"text-align: right;\">          16</td><td style=\"text-align: right;\">0.0713129 </td><td>True           </td><td style=\"text-align: right;\">   0.00082175 </td><td style=\"text-align: right;\">     1</td><td style=\"text-align: right;\">         29.3411</td><td style=\"text-align: right;\">         0.4025 </td><td style=\"text-align: right;\">              0.4025 </td><td style=\"text-align: right;\">         0.365</td></tr>\n<tr><td>FossilTrainable_bc0ed_00005</td><td>TERMINATED</td><td>                    </td><td>True          </td><td style=\"text-align: right;\">          32</td><td style=\"text-align: right;\">0.0983239 </td><td>True           </td><td style=\"text-align: right;\">   3.58953e-07</td><td style=\"text-align: right;\">     1</td><td style=\"text-align: right;\">         27.7237</td><td style=\"text-align: right;\">         0.30375</td><td style=\"text-align: right;\">              0.30375</td><td style=\"text-align: right;\">         0.46 </td></tr>\n<tr><td>FossilTrainable_bc0ed_00006</td><td>TERMINATED</td><td>                    </td><td>False         </td><td style=\"text-align: right;\">          64</td><td style=\"text-align: right;\">0.0594824 </td><td>True           </td><td style=\"text-align: right;\">   4.22807e-06</td><td style=\"text-align: right;\">     1</td><td style=\"text-align: right;\">         27.4722</td><td style=\"text-align: right;\">         0.315  </td><td style=\"text-align: right;\">              0.315  </td><td style=\"text-align: right;\">         0.565</td></tr>\n<tr><td>FossilTrainable_bc0ed_00007</td><td>RUNNING   </td><td>192.168.123.68:13911</td><td>True          </td><td style=\"text-align: right;\">          16</td><td style=\"text-align: right;\">0.0928984 </td><td>False          </td><td style=\"text-align: right;\">   2.77803e-05</td><td style=\"text-align: right;\">     1</td><td style=\"text-align: right;\">         28.7856</td><td style=\"text-align: right;\">         0.30375</td><td style=\"text-align: right;\">              0.30375</td><td style=\"text-align: right;\">         0.25 </td></tr>\n<tr><td>FossilTrainable_bc0ed_00008</td><td>PENDING   </td><td>                    </td><td>True          </td><td style=\"text-align: right;\">          64</td><td style=\"text-align: right;\">0.0660453 </td><td>False          </td><td style=\"text-align: right;\">   1.79897e-06</td><td style=\"text-align: right;\">      </td><td style=\"text-align: right;\">                </td><td style=\"text-align: right;\">                </td><td style=\"text-align: right;\">                     </td><td style=\"text-align: right;\">              </td></tr>\n<tr><td>FossilTrainable_bc0ed_00009</td><td>PENDING   </td><td>                    </td><td>False         </td><td style=\"text-align: right;\">           8</td><td style=\"text-align: right;\">0.00606845</td><td>False          </td><td style=\"text-align: right;\">   5.20831e-05</td><td style=\"text-align: right;\">      </td><td style=\"text-align: right;\">                </td><td style=\"text-align: right;\">                </td><td style=\"text-align: right;\">                     </td><td style=\"text-align: right;\">              </td></tr>\n</tbody>\n</table><br><br>"
     },
     "metadata": {},
     "output_type": "display_data"
    },
    {
     "data": {
      "text/plain": "<IPython.core.display.HTML object>",
      "text/html": "== Status ==<br>Memory usage on this node: 6.9/7.5 GiB: ***LOW MEMORY*** less than 10% of the memory on this node is available for use. This can cause unexpected crashes. Consider reducing the memory used by your application or reducing the Ray object store size by setting `object_store_memory` when calling `ray.init`.<br>Using FIFO scheduling algorithm.<br>Resources requested: 3/3 CPUs, 0/0 GPUs, 0.0/0.88 GiB heap, 0.0/0.29 GiB objects<br>Result logdir: /home/lena/ray_results/torch_fossilnet/FossilTrainable<br>Number of trials: 10 (1 PENDING, 1 RUNNING, 8 TERMINATED)<br><table>\n<thead>\n<tr><th>Trial name                 </th><th>status    </th><th>loc                 </th><th>augment_flip  </th><th style=\"text-align: right;\">  batch_size</th><th style=\"text-align: right;\">        lr</th><th>use_grayscale  </th><th style=\"text-align: right;\">  weight_decay</th><th style=\"text-align: right;\">  iter</th><th style=\"text-align: right;\">  total time (s)</th><th style=\"text-align: right;\">  train_f1_score</th><th style=\"text-align: right;\">  best_train_f1_score</th><th style=\"text-align: right;\">  val_f1_score</th></tr>\n</thead>\n<tbody>\n<tr><td>FossilTrainable_bc0ed_00000</td><td>TERMINATED</td><td>                    </td><td>False         </td><td style=\"text-align: right;\">          32</td><td style=\"text-align: right;\">0.0171927 </td><td>False          </td><td style=\"text-align: right;\">   2.87096e-05</td><td style=\"text-align: right;\">     1</td><td style=\"text-align: right;\">         27.2491</td><td style=\"text-align: right;\">         0.37   </td><td style=\"text-align: right;\">              0.37   </td><td style=\"text-align: right;\">         0.335</td></tr>\n<tr><td>FossilTrainable_bc0ed_00001</td><td>TERMINATED</td><td>                    </td><td>False         </td><td style=\"text-align: right;\">          64</td><td style=\"text-align: right;\">0.0878842 </td><td>True           </td><td style=\"text-align: right;\">   3.59351e-06</td><td style=\"text-align: right;\">     1</td><td style=\"text-align: right;\">         28.9001</td><td style=\"text-align: right;\">         0.3025 </td><td style=\"text-align: right;\">              0.3025 </td><td style=\"text-align: right;\">         0.335</td></tr>\n<tr><td>FossilTrainable_bc0ed_00002</td><td>TERMINATED</td><td>                    </td><td>True          </td><td style=\"text-align: right;\">           8</td><td style=\"text-align: right;\">0.0429277 </td><td>False          </td><td style=\"text-align: right;\">   0.000557793</td><td style=\"text-align: right;\">     1</td><td style=\"text-align: right;\">         30.2518</td><td style=\"text-align: right;\">         0.385  </td><td style=\"text-align: right;\">              0.385  </td><td style=\"text-align: right;\">         0.36 </td></tr>\n<tr><td>FossilTrainable_bc0ed_00003</td><td>TERMINATED</td><td>                    </td><td>False         </td><td style=\"text-align: right;\">           8</td><td style=\"text-align: right;\">0.0781111 </td><td>False          </td><td style=\"text-align: right;\">   5.82524e-07</td><td style=\"text-align: right;\">     1</td><td style=\"text-align: right;\">         31.2915</td><td style=\"text-align: right;\">         0.36875</td><td style=\"text-align: right;\">              0.36875</td><td style=\"text-align: right;\">         0.605</td></tr>\n<tr><td>FossilTrainable_bc0ed_00004</td><td>TERMINATED</td><td>                    </td><td>True          </td><td style=\"text-align: right;\">          16</td><td style=\"text-align: right;\">0.0713129 </td><td>True           </td><td style=\"text-align: right;\">   0.00082175 </td><td style=\"text-align: right;\">     1</td><td style=\"text-align: right;\">         29.3411</td><td style=\"text-align: right;\">         0.4025 </td><td style=\"text-align: right;\">              0.4025 </td><td style=\"text-align: right;\">         0.365</td></tr>\n<tr><td>FossilTrainable_bc0ed_00005</td><td>TERMINATED</td><td>                    </td><td>True          </td><td style=\"text-align: right;\">          32</td><td style=\"text-align: right;\">0.0983239 </td><td>True           </td><td style=\"text-align: right;\">   3.58953e-07</td><td style=\"text-align: right;\">     1</td><td style=\"text-align: right;\">         27.7237</td><td style=\"text-align: right;\">         0.30375</td><td style=\"text-align: right;\">              0.30375</td><td style=\"text-align: right;\">         0.46 </td></tr>\n<tr><td>FossilTrainable_bc0ed_00006</td><td>TERMINATED</td><td>                    </td><td>False         </td><td style=\"text-align: right;\">          64</td><td style=\"text-align: right;\">0.0594824 </td><td>True           </td><td style=\"text-align: right;\">   4.22807e-06</td><td style=\"text-align: right;\">     1</td><td style=\"text-align: right;\">         27.4722</td><td style=\"text-align: right;\">         0.315  </td><td style=\"text-align: right;\">              0.315  </td><td style=\"text-align: right;\">         0.565</td></tr>\n<tr><td>FossilTrainable_bc0ed_00007</td><td>TERMINATED</td><td>                    </td><td>True          </td><td style=\"text-align: right;\">          16</td><td style=\"text-align: right;\">0.0928984 </td><td>False          </td><td style=\"text-align: right;\">   2.77803e-05</td><td style=\"text-align: right;\">     1</td><td style=\"text-align: right;\">         28.7856</td><td style=\"text-align: right;\">         0.30375</td><td style=\"text-align: right;\">              0.30375</td><td style=\"text-align: right;\">         0.25 </td></tr>\n<tr><td>FossilTrainable_bc0ed_00008</td><td>RUNNING   </td><td>192.168.123.68:13965</td><td>True          </td><td style=\"text-align: right;\">          64</td><td style=\"text-align: right;\">0.0660453 </td><td>False          </td><td style=\"text-align: right;\">   1.79897e-06</td><td style=\"text-align: right;\">     1</td><td style=\"text-align: right;\">         27.7312</td><td style=\"text-align: right;\">         0.3225 </td><td style=\"text-align: right;\">              0.3225 </td><td style=\"text-align: right;\">         0.37 </td></tr>\n<tr><td>FossilTrainable_bc0ed_00009</td><td>PENDING   </td><td>                    </td><td>False         </td><td style=\"text-align: right;\">           8</td><td style=\"text-align: right;\">0.00606845</td><td>False          </td><td style=\"text-align: right;\">   5.20831e-05</td><td style=\"text-align: right;\">      </td><td style=\"text-align: right;\">                </td><td style=\"text-align: right;\">                </td><td style=\"text-align: right;\">                     </td><td style=\"text-align: right;\">              </td></tr>\n</tbody>\n</table><br><br>"
     },
     "metadata": {},
     "output_type": "display_data"
    },
    {
     "data": {
      "text/plain": "<IPython.core.display.HTML object>",
      "text/html": "== Status ==<br>Memory usage on this node: 6.7/7.5 GiB<br>Using FIFO scheduling algorithm.<br>Resources requested: 3/3 CPUs, 0/0 GPUs, 0.0/0.88 GiB heap, 0.0/0.29 GiB objects<br>Result logdir: /home/lena/ray_results/torch_fossilnet/FossilTrainable<br>Number of trials: 10 (1 RUNNING, 9 TERMINATED)<br><table>\n<thead>\n<tr><th>Trial name                 </th><th>status    </th><th>loc                 </th><th>augment_flip  </th><th style=\"text-align: right;\">  batch_size</th><th style=\"text-align: right;\">        lr</th><th>use_grayscale  </th><th style=\"text-align: right;\">  weight_decay</th><th style=\"text-align: right;\">  iter</th><th style=\"text-align: right;\">  total time (s)</th><th style=\"text-align: right;\">  train_f1_score</th><th style=\"text-align: right;\">  best_train_f1_score</th><th style=\"text-align: right;\">  val_f1_score</th></tr>\n</thead>\n<tbody>\n<tr><td>FossilTrainable_bc0ed_00000</td><td>TERMINATED</td><td>                    </td><td>False         </td><td style=\"text-align: right;\">          32</td><td style=\"text-align: right;\">0.0171927 </td><td>False          </td><td style=\"text-align: right;\">   2.87096e-05</td><td style=\"text-align: right;\">     1</td><td style=\"text-align: right;\">         27.2491</td><td style=\"text-align: right;\">         0.37   </td><td style=\"text-align: right;\">              0.37   </td><td style=\"text-align: right;\">         0.335</td></tr>\n<tr><td>FossilTrainable_bc0ed_00001</td><td>TERMINATED</td><td>                    </td><td>False         </td><td style=\"text-align: right;\">          64</td><td style=\"text-align: right;\">0.0878842 </td><td>True           </td><td style=\"text-align: right;\">   3.59351e-06</td><td style=\"text-align: right;\">     1</td><td style=\"text-align: right;\">         28.9001</td><td style=\"text-align: right;\">         0.3025 </td><td style=\"text-align: right;\">              0.3025 </td><td style=\"text-align: right;\">         0.335</td></tr>\n<tr><td>FossilTrainable_bc0ed_00002</td><td>TERMINATED</td><td>                    </td><td>True          </td><td style=\"text-align: right;\">           8</td><td style=\"text-align: right;\">0.0429277 </td><td>False          </td><td style=\"text-align: right;\">   0.000557793</td><td style=\"text-align: right;\">     1</td><td style=\"text-align: right;\">         30.2518</td><td style=\"text-align: right;\">         0.385  </td><td style=\"text-align: right;\">              0.385  </td><td style=\"text-align: right;\">         0.36 </td></tr>\n<tr><td>FossilTrainable_bc0ed_00003</td><td>TERMINATED</td><td>                    </td><td>False         </td><td style=\"text-align: right;\">           8</td><td style=\"text-align: right;\">0.0781111 </td><td>False          </td><td style=\"text-align: right;\">   5.82524e-07</td><td style=\"text-align: right;\">     1</td><td style=\"text-align: right;\">         31.2915</td><td style=\"text-align: right;\">         0.36875</td><td style=\"text-align: right;\">              0.36875</td><td style=\"text-align: right;\">         0.605</td></tr>\n<tr><td>FossilTrainable_bc0ed_00004</td><td>TERMINATED</td><td>                    </td><td>True          </td><td style=\"text-align: right;\">          16</td><td style=\"text-align: right;\">0.0713129 </td><td>True           </td><td style=\"text-align: right;\">   0.00082175 </td><td style=\"text-align: right;\">     1</td><td style=\"text-align: right;\">         29.3411</td><td style=\"text-align: right;\">         0.4025 </td><td style=\"text-align: right;\">              0.4025 </td><td style=\"text-align: right;\">         0.365</td></tr>\n<tr><td>FossilTrainable_bc0ed_00005</td><td>TERMINATED</td><td>                    </td><td>True          </td><td style=\"text-align: right;\">          32</td><td style=\"text-align: right;\">0.0983239 </td><td>True           </td><td style=\"text-align: right;\">   3.58953e-07</td><td style=\"text-align: right;\">     1</td><td style=\"text-align: right;\">         27.7237</td><td style=\"text-align: right;\">         0.30375</td><td style=\"text-align: right;\">              0.30375</td><td style=\"text-align: right;\">         0.46 </td></tr>\n<tr><td>FossilTrainable_bc0ed_00006</td><td>TERMINATED</td><td>                    </td><td>False         </td><td style=\"text-align: right;\">          64</td><td style=\"text-align: right;\">0.0594824 </td><td>True           </td><td style=\"text-align: right;\">   4.22807e-06</td><td style=\"text-align: right;\">     1</td><td style=\"text-align: right;\">         27.4722</td><td style=\"text-align: right;\">         0.315  </td><td style=\"text-align: right;\">              0.315  </td><td style=\"text-align: right;\">         0.565</td></tr>\n<tr><td>FossilTrainable_bc0ed_00007</td><td>TERMINATED</td><td>                    </td><td>True          </td><td style=\"text-align: right;\">          16</td><td style=\"text-align: right;\">0.0928984 </td><td>False          </td><td style=\"text-align: right;\">   2.77803e-05</td><td style=\"text-align: right;\">     1</td><td style=\"text-align: right;\">         28.7856</td><td style=\"text-align: right;\">         0.30375</td><td style=\"text-align: right;\">              0.30375</td><td style=\"text-align: right;\">         0.25 </td></tr>\n<tr><td>FossilTrainable_bc0ed_00008</td><td>TERMINATED</td><td>                    </td><td>True          </td><td style=\"text-align: right;\">          64</td><td style=\"text-align: right;\">0.0660453 </td><td>False          </td><td style=\"text-align: right;\">   1.79897e-06</td><td style=\"text-align: right;\">     1</td><td style=\"text-align: right;\">         27.7312</td><td style=\"text-align: right;\">         0.3225 </td><td style=\"text-align: right;\">              0.3225 </td><td style=\"text-align: right;\">         0.37 </td></tr>\n<tr><td>FossilTrainable_bc0ed_00009</td><td>RUNNING   </td><td>192.168.123.68:14012</td><td>False         </td><td style=\"text-align: right;\">           8</td><td style=\"text-align: right;\">0.00606845</td><td>False          </td><td style=\"text-align: right;\">   5.20831e-05</td><td style=\"text-align: right;\">     1</td><td style=\"text-align: right;\">         29.2233</td><td style=\"text-align: right;\">         0.30875</td><td style=\"text-align: right;\">              0.30875</td><td style=\"text-align: right;\">         0.495</td></tr>\n</tbody>\n</table><br><br>"
     },
     "metadata": {},
     "output_type": "display_data"
    },
    {
     "data": {
      "text/plain": "<IPython.core.display.HTML object>",
      "text/html": "== Status ==<br>Memory usage on this node: 6.7/7.5 GiB<br>Using FIFO scheduling algorithm.<br>Resources requested: 0/3 CPUs, 0/0 GPUs, 0.0/0.88 GiB heap, 0.0/0.29 GiB objects<br>Result logdir: /home/lena/ray_results/torch_fossilnet/FossilTrainable<br>Number of trials: 10 (10 TERMINATED)<br><table>\n<thead>\n<tr><th>Trial name                 </th><th>status    </th><th>loc  </th><th>augment_flip  </th><th style=\"text-align: right;\">  batch_size</th><th style=\"text-align: right;\">        lr</th><th>use_grayscale  </th><th style=\"text-align: right;\">  weight_decay</th><th style=\"text-align: right;\">  iter</th><th style=\"text-align: right;\">  total time (s)</th><th style=\"text-align: right;\">  train_f1_score</th><th style=\"text-align: right;\">  best_train_f1_score</th><th style=\"text-align: right;\">  val_f1_score</th></tr>\n</thead>\n<tbody>\n<tr><td>FossilTrainable_bc0ed_00000</td><td>TERMINATED</td><td>     </td><td>False         </td><td style=\"text-align: right;\">          32</td><td style=\"text-align: right;\">0.0171927 </td><td>False          </td><td style=\"text-align: right;\">   2.87096e-05</td><td style=\"text-align: right;\">     1</td><td style=\"text-align: right;\">         27.2491</td><td style=\"text-align: right;\">         0.37   </td><td style=\"text-align: right;\">              0.37   </td><td style=\"text-align: right;\">         0.335</td></tr>\n<tr><td>FossilTrainable_bc0ed_00001</td><td>TERMINATED</td><td>     </td><td>False         </td><td style=\"text-align: right;\">          64</td><td style=\"text-align: right;\">0.0878842 </td><td>True           </td><td style=\"text-align: right;\">   3.59351e-06</td><td style=\"text-align: right;\">     1</td><td style=\"text-align: right;\">         28.9001</td><td style=\"text-align: right;\">         0.3025 </td><td style=\"text-align: right;\">              0.3025 </td><td style=\"text-align: right;\">         0.335</td></tr>\n<tr><td>FossilTrainable_bc0ed_00002</td><td>TERMINATED</td><td>     </td><td>True          </td><td style=\"text-align: right;\">           8</td><td style=\"text-align: right;\">0.0429277 </td><td>False          </td><td style=\"text-align: right;\">   0.000557793</td><td style=\"text-align: right;\">     1</td><td style=\"text-align: right;\">         30.2518</td><td style=\"text-align: right;\">         0.385  </td><td style=\"text-align: right;\">              0.385  </td><td style=\"text-align: right;\">         0.36 </td></tr>\n<tr><td>FossilTrainable_bc0ed_00003</td><td>TERMINATED</td><td>     </td><td>False         </td><td style=\"text-align: right;\">           8</td><td style=\"text-align: right;\">0.0781111 </td><td>False          </td><td style=\"text-align: right;\">   5.82524e-07</td><td style=\"text-align: right;\">     1</td><td style=\"text-align: right;\">         31.2915</td><td style=\"text-align: right;\">         0.36875</td><td style=\"text-align: right;\">              0.36875</td><td style=\"text-align: right;\">         0.605</td></tr>\n<tr><td>FossilTrainable_bc0ed_00004</td><td>TERMINATED</td><td>     </td><td>True          </td><td style=\"text-align: right;\">          16</td><td style=\"text-align: right;\">0.0713129 </td><td>True           </td><td style=\"text-align: right;\">   0.00082175 </td><td style=\"text-align: right;\">     1</td><td style=\"text-align: right;\">         29.3411</td><td style=\"text-align: right;\">         0.4025 </td><td style=\"text-align: right;\">              0.4025 </td><td style=\"text-align: right;\">         0.365</td></tr>\n<tr><td>FossilTrainable_bc0ed_00005</td><td>TERMINATED</td><td>     </td><td>True          </td><td style=\"text-align: right;\">          32</td><td style=\"text-align: right;\">0.0983239 </td><td>True           </td><td style=\"text-align: right;\">   3.58953e-07</td><td style=\"text-align: right;\">     1</td><td style=\"text-align: right;\">         27.7237</td><td style=\"text-align: right;\">         0.30375</td><td style=\"text-align: right;\">              0.30375</td><td style=\"text-align: right;\">         0.46 </td></tr>\n<tr><td>FossilTrainable_bc0ed_00006</td><td>TERMINATED</td><td>     </td><td>False         </td><td style=\"text-align: right;\">          64</td><td style=\"text-align: right;\">0.0594824 </td><td>True           </td><td style=\"text-align: right;\">   4.22807e-06</td><td style=\"text-align: right;\">     1</td><td style=\"text-align: right;\">         27.4722</td><td style=\"text-align: right;\">         0.315  </td><td style=\"text-align: right;\">              0.315  </td><td style=\"text-align: right;\">         0.565</td></tr>\n<tr><td>FossilTrainable_bc0ed_00007</td><td>TERMINATED</td><td>     </td><td>True          </td><td style=\"text-align: right;\">          16</td><td style=\"text-align: right;\">0.0928984 </td><td>False          </td><td style=\"text-align: right;\">   2.77803e-05</td><td style=\"text-align: right;\">     1</td><td style=\"text-align: right;\">         28.7856</td><td style=\"text-align: right;\">         0.30375</td><td style=\"text-align: right;\">              0.30375</td><td style=\"text-align: right;\">         0.25 </td></tr>\n<tr><td>FossilTrainable_bc0ed_00008</td><td>TERMINATED</td><td>     </td><td>True          </td><td style=\"text-align: right;\">          64</td><td style=\"text-align: right;\">0.0660453 </td><td>False          </td><td style=\"text-align: right;\">   1.79897e-06</td><td style=\"text-align: right;\">     1</td><td style=\"text-align: right;\">         27.7312</td><td style=\"text-align: right;\">         0.3225 </td><td style=\"text-align: right;\">              0.3225 </td><td style=\"text-align: right;\">         0.37 </td></tr>\n<tr><td>FossilTrainable_bc0ed_00009</td><td>TERMINATED</td><td>     </td><td>False         </td><td style=\"text-align: right;\">           8</td><td style=\"text-align: right;\">0.00606845</td><td>False          </td><td style=\"text-align: right;\">   5.20831e-05</td><td style=\"text-align: right;\">     1</td><td style=\"text-align: right;\">         29.2233</td><td style=\"text-align: right;\">         0.30875</td><td style=\"text-align: right;\">              0.30875</td><td style=\"text-align: right;\">         0.495</td></tr>\n</tbody>\n</table><br><br>"
     },
     "metadata": {},
     "output_type": "display_data"
    }
   ],
   "source": [
    "#\n",
    "# Potential bug in tensorboard logging for tune.choice() working around that here\n",
    "# \n",
    "#def _choice(items):\n",
    "#    return items[np.random.randint(len(items))]\n",
    "\n",
    "\n",
    "#\n",
    "# Setup our Parameter Optimisation Space\n",
    "#\n",
    "config = dict(\n",
    "    lr=tune.uniform(1e-3, 1e-1),\n",
    "    weight_decay=tune.loguniform(1e-7, 1e-3),\n",
    "    batch_size=tune.sample_from(lambda x: _choice([8, 16, 32, 64])),\n",
    "    augment_flip=tune.sample_from(lambda x: _choice([True,False])),\n",
    "    use_grayscale=tune.sample_from(lambda x:_choice([True,False]))\n",
    ")\n",
    "\n",
    "#\n",
    "# Before commiting to a huge run, run training 1 iteration with N (10?) samples to dry run through different\n",
    "# hyperparameter options\n",
    "#\n",
    "# Then set this to False and tune for real\n",
    "#\n",
    "smoke_test = True\n",
    "\n",
    "analysis = tune.run(\n",
    "    FossilTrainable,\n",
    "    local_dir=\"~/ray_results/torch_fossilnet\",\n",
    "    mode='max',\n",
    "    resources_per_trial={\n",
    "        \"cpu\": 3,\n",
    "        \"gpu\": 0\n",
    "    },\n",
    "    num_samples=10 if smoke_test else 50,\n",
    "    checkpoint_at_end=True,\n",
    "    keep_checkpoints_num=5,\n",
    "    checkpoint_freq=10,\n",
    "    stop={\n",
    "        \"train_f1_score\": 0.95,\n",
    "        \"training_iteration\": 1 if smoke_test else 10,\n",
    "    },\n",
    "    config=config\n",
    ")\n",
    "\n",
    "print(\"Best config is:\", analysis.get_best_config(metric=\"best_val_f1_score\"))"
   ]
  },
  {
   "cell_type": "code",
   "execution_count": 35,
   "outputs": [
    {
     "name": "stdout",
     "output_type": "stream",
     "text": [
      "{'start_time': 1605026125.3267884, 'timestamp': 1605026444.768161}\n",
      "{'lr': 0.07811112129723659, 'weight_decay': 5.825238816359489e-07, 'batch_size': 8, 'augment_flip': False, 'use_grayscale': False}\n"
     ]
    }
   ],
   "source": [
    "#print(analysis.runner_data())\n",
    "print(analysis.stats())\n",
    "print(analysis.get_best_config(metric=\"best_val_f1_score\"))"
   ],
   "metadata": {
    "collapsed": false,
    "pycharm": {
     "name": "#%%\n"
    }
   }
  },
  {
   "cell_type": "code",
   "execution_count": 36,
   "outputs": [
    {
     "data": {
      "text/plain": "Launching TensorBoard..."
     },
     "metadata": {},
     "output_type": "display_data"
    },
    {
     "data": {
      "text/plain": "<IPython.core.display.HTML object>",
      "text/html": "\n      <iframe id=\"tensorboard-frame-587c8e2690126344\" width=\"100%\" height=\"800\" frameborder=\"0\">\n      </iframe>\n      <script>\n        (function() {\n          const frame = document.getElementById(\"tensorboard-frame-587c8e2690126344\");\n          const url = new URL(\"/\", window.location);\n          const port = 6007;\n          if (port) {\n            url.port = port;\n          }\n          frame.src = url;\n        })();\n      </script>\n    "
     },
     "metadata": {},
     "output_type": "display_data"
    }
   ],
   "source": [
    "%reload_ext tensorboard\n",
    "\n",
    "%tensorboard --logdir \"~/ray_results/torch_fossilnet\"\n",
    "%tensorboard"
   ],
   "metadata": {
    "collapsed": false,
    "pycharm": {
     "name": "#%%\n"
    }
   }
  },
  {
   "cell_type": "code",
   "execution_count": null,
   "metadata": {},
   "outputs": [],
   "source": [
    "import ray\n",
    "ray.shutdown()\n"
   ]
  },
  {
   "cell_type": "markdown",
   "metadata": {},
   "source": [
    "## Next\n",
    "\n",
    "Head over to EC2 and check results of a longer run on [tensorboard](http://ec2-3-136-85-207.us-east-2.compute.amazonaws.com:6006/)"
   ]
  },
  {
   "cell_type": "code",
   "execution_count": null,
   "metadata": {},
   "outputs": [],
   "source": []
  }
 ],
 "metadata": {
  "kernelspec": {
   "display_name": "Python 3",
   "language": "python",
   "name": "python3"
  },
  "language_info": {
   "codemirror_mode": {
    "name": "ipython",
    "version": 3
   },
   "file_extension": ".py",
   "mimetype": "text/x-python",
   "name": "python",
   "nbconvert_exporter": "python",
   "pygments_lexer": "ipython3",
   "version": "3.8.3"
  }
 },
 "nbformat": 4,
 "nbformat_minor": 4
}