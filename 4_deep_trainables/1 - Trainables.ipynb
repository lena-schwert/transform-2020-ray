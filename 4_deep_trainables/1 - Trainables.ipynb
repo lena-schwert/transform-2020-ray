{
 "cells": [
  {
   "cell_type": "markdown",
   "metadata": {},
   "source": [
    "# Trainables\n",
    "\n",
    "So far we have been using the functional interface to Raytune, which is lightweight and easy to get started with.\n",
    "\n",
    "However, is limited in a couple of ways (1) it doesn't allow us to maintain state (2) raytune cannot 'see' or manage training iterations (3) it doesn't let us use some other useful parts of Raytune like the checkpointing or schedulers.\n",
    "\n",
    "We'll take a look at a simple trainable below\n"
   ]
  },
  {
   "cell_type": "code",
   "execution_count": 1,
   "metadata": {},
   "outputs": [
    {
     "name": "stdout",
     "output_type": "stream",
     "text": [
      "Loading dependencies we have already seen...\n",
      "Importing ray...\n",
      "Done...\n"
     ]
    }
   ],
   "source": [
    "%load_ext autoreload\n",
    "%autoreload 2\n",
    "\n",
    "from dependencies import *"
   ]
  },
  {
   "cell_type": "markdown",
   "metadata": {},
   "source": [
    "## Trainable Interface\n",
    "\n",
    " 1. By subclassing tune.Trainable\n",
    " 2. Setup state in `__init__`\n",
    " 3. Implement `_train()` such that si completely one using unit/iteration of training\n",
    " 4. Implement `_save` to save state, checkpoint models, etc...\n",
    " 5. Implement `_restore` to, restore...\n"
   ]
  },
  {
   "cell_type": "code",
   "execution_count": 2,
   "metadata": {},
   "outputs": [],
   "source": [
    "from os import path\n",
    "\n",
    "class MyTrainable(tune.Trainable):\n",
    "    \n",
    "    # create data_loaders, load model\n",
    "    def _setup(self, config):\n",
    "        # config (dict): A dict of hyperparameters\n",
    "        self.x = 0\n",
    "        self.a = config[\"a\"]\n",
    "\n",
    "    # loops through the data\n",
    "    def _train(self):  # This is called iteratively.\n",
    "        self.x += self.a\n",
    "        print(\"Trainable\", f\"({self.a})\", self.x)\n",
    "        return {\"score\": self.x }\n",
    "    \n",
    "    \n",
    "    def _save(self, checkpoint_dir):\n",
    "        checkpoint_path = path.join(checkpoint_dir, \"model.npy\")\n",
    "        np.save(checkpoint_path, np.array(self.x))\n",
    "        return checkpoint_path\n",
    "\n",
    "    #\n",
    "    # Restore is used internally by Raytune and schedulers. \n",
    "    # It's only useful manually on single training runs.\n",
    "    #\n",
    "    def _restore(self, checkpoint_path):\n",
    "        print(\"CHECKPOINT PATH\", checkpoint_path)\n",
    "        self.x = np.load(checkpoint_path)[0]\n"
   ]
  },
  {
   "cell_type": "markdown",
   "metadata": {},
   "source": [
    "## Start Ray"
   ]
  },
  {
   "cell_type": "code",
   "execution_count": 4,
   "metadata": {},
   "outputs": [
    {
     "data": {
      "text/plain": "{'node_ip_address': '192.168.123.68',\n 'raylet_ip_address': '192.168.123.68',\n 'redis_address': '192.168.123.68:6379',\n 'object_store_address': '/tmp/ray/session_2020-11-09_17-38-16_449401_6032/sockets/plasma_store',\n 'raylet_socket_name': '/tmp/ray/session_2020-11-09_17-38-16_449401_6032/sockets/raylet',\n 'webui_url': None,\n 'session_dir': '/tmp/ray/session_2020-11-09_17-38-16_449401_6032',\n 'metrics_export_port': 65250}"
     },
     "execution_count": 4,
     "metadata": {},
     "output_type": "execute_result"
    }
   ],
   "source": [
    "ray.shutdown()\n",
    "ray.init(num_cpus=2, num_gpus=0, include_dashboard=False)"
   ]
  },
  {
   "cell_type": "markdown",
   "metadata": {},
   "source": [
    "## Run\n",
    "\n",
    "Do some simple tuning"
   ]
  },
  {
   "cell_type": "code",
   "execution_count": 5,
   "metadata": {
    "scrolled": false
   },
   "outputs": [
    {
     "data": {
      "text/plain": "<IPython.core.display.HTML object>",
      "text/html": "== Status ==<br>Memory usage on this node: 5.8/7.5 GiB<br>Using FIFO scheduling algorithm.<br>Resources requested: 1/2 CPUs, 0/0 GPUs, 0.0/1.56 GiB heap, 0.0/0.54 GiB objects<br>Result logdir: /home/lena/ray_results/my_trainable/simple_trainable<br>Number of trials: 2 (1 PENDING, 1 RUNNING)<br><table>\n<thead>\n<tr><th>Trial name             </th><th>status  </th><th>loc  </th><th style=\"text-align: right;\">  a</th></tr>\n</thead>\n<tbody>\n<tr><td>MyTrainable_0083d_00000</td><td>RUNNING </td><td>     </td><td style=\"text-align: right;\">  1</td></tr>\n<tr><td>MyTrainable_0083d_00001</td><td>PENDING </td><td>     </td><td style=\"text-align: right;\">  2</td></tr>\n</tbody>\n</table><br><br>"
     },
     "metadata": {},
     "output_type": "display_data"
    },
    {
     "name": "stderr",
     "output_type": "stream",
     "text": [
      "\u001B[2m\u001B[36m(pid=6445)\u001B[0m 2020-11-09 17:38:31,743\tWARNING trainable.py:860 -- Trainable._setup is deprecated and will be removed in a future version of Ray. Override Trainable.setup instead.\n",
      "\u001B[2m\u001B[36m(pid=6445)\u001B[0m 2020-11-09 17:38:31,787\tWARNING trainable.py:728 -- Trainable._train is deprecated and will be removed in a future version of Ray. Override Trainable.step instead.\n",
      "\u001B[2m\u001B[36m(pid=6446)\u001B[0m 2020-11-09 17:38:31,789\tWARNING trainable.py:860 -- Trainable._setup is deprecated and will be removed in a future version of Ray. Override Trainable.setup instead.\n",
      "\u001B[2m\u001B[36m(pid=6446)\u001B[0m 2020-11-09 17:38:31,791\tWARNING trainable.py:728 -- Trainable._train is deprecated and will be removed in a future version of Ray. Override Trainable.step instead.\n",
      "\u001B[2m\u001B[36m(pid=6445)\u001B[0m 2020-11-09 17:38:31,816\tWARNING trainable.py:779 -- Trainable._save is deprecated and will be removed in a future version of Ray. Override Trainable.save_checkpoint instead.\n",
      "\u001B[2m\u001B[36m(pid=6446)\u001B[0m 2020-11-09 17:38:31,846\tWARNING trainable.py:779 -- Trainable._save is deprecated and will be removed in a future version of Ray. Override Trainable.save_checkpoint instead.\n"
     ]
    },
    {
     "name": "stdout",
     "output_type": "stream",
     "text": [
      "Result for MyTrainable_0083d_00000:\n",
      "  date: 2020-11-09_17-38-31\n",
      "  done: false\n",
      "  experiment_id: 484aae004d544b0f9f947b6e807e7e53\n",
      "  experiment_tag: 0_a=1\n",
      "  hostname: Schlepptop\n",
      "  iterations_since_restore: 1\n",
      "  node_ip: 192.168.123.68\n",
      "  pid: 6445\n",
      "  score: 1\n",
      "  time_since_restore: 0.0002770423889160156\n",
      "  time_this_iter_s: 0.0002770423889160156\n",
      "  time_total_s: 0.0002770423889160156\n",
      "  timestamp: 1604939911\n",
      "  timesteps_since_restore: 0\n",
      "  training_iteration: 1\n",
      "  trial_id: 0083d_00000\n",
      "  \n",
      "Result for MyTrainable_0083d_00001:\n",
      "  date: 2020-11-09_17-38-31\n",
      "  done: false\n",
      "  experiment_id: e3dab9f255aa49f4b5a3085b30001614\n",
      "  experiment_tag: 1_a=2\n",
      "  hostname: Schlepptop\n",
      "  iterations_since_restore: 1\n",
      "  node_ip: 192.168.123.68\n",
      "  pid: 6446\n",
      "  score: 2\n",
      "  time_since_restore: 0.00029468536376953125\n",
      "  time_this_iter_s: 0.00029468536376953125\n",
      "  time_total_s: 0.00029468536376953125\n",
      "  timestamp: 1604939911\n",
      "  timesteps_since_restore: 0\n",
      "  training_iteration: 1\n",
      "  trial_id: 0083d_00001\n",
      "  \n",
      "\u001B[2m\u001B[36m(pid=6445)\u001B[0m Trainable (1) 1\n",
      "\u001B[2m\u001B[36m(pid=6445)\u001B[0m Trainable (1) 2\n",
      "\u001B[2m\u001B[36m(pid=6445)\u001B[0m Trainable (1) 3\n",
      "\u001B[2m\u001B[36m(pid=6445)\u001B[0m Trainable (1) 4\n",
      "\u001B[2m\u001B[36m(pid=6445)\u001B[0m Trainable (1) 5\n",
      "\u001B[2m\u001B[36m(pid=6446)\u001B[0m Trainable (2) 2\n",
      "\u001B[2m\u001B[36m(pid=6446)\u001B[0m Trainable (2) 4\n",
      "\u001B[2m\u001B[36m(pid=6446)\u001B[0m Trainable (2) 6\n",
      "\u001B[2m\u001B[36m(pid=6445)\u001B[0m Trainable (1) 6\n",
      "\u001B[2m\u001B[36m(pid=6445)\u001B[0m Trainable (1) 7\n",
      "\u001B[2m\u001B[36m(pid=6445)\u001B[0m Trainable (1) 8\n",
      "\u001B[2m\u001B[36m(pid=6445)\u001B[0m Trainable (1) 9\n",
      "\u001B[2m\u001B[36m(pid=6445)\u001B[0m Trainable (1) 10\n",
      "\u001B[2m\u001B[36m(pid=6445)\u001B[0m Trainable (1) 11\n",
      "\u001B[2m\u001B[36m(pid=6445)\u001B[0m Trainable (1) 12\n",
      "\u001B[2m\u001B[36m(pid=6445)\u001B[0m Trainable (1) 13\n",
      "\u001B[2m\u001B[36m(pid=6445)\u001B[0m Trainable (1) 14\n",
      "\u001B[2m\u001B[36m(pid=6446)\u001B[0m Trainable (2) 8\n",
      "\u001B[2m\u001B[36m(pid=6446)\u001B[0m Trainable (2) 10\n",
      "\u001B[2m\u001B[36m(pid=6446)\u001B[0m Trainable (2) 12\n",
      "\u001B[2m\u001B[36m(pid=6446)\u001B[0m Trainable (2) 14\n",
      "\u001B[2m\u001B[36m(pid=6446)\u001B[0m Trainable (2) 16\n",
      "\u001B[2m\u001B[36m(pid=6445)\u001B[0m Trainable (1) 15\n",
      "\u001B[2m\u001B[36m(pid=6445)\u001B[0m Trainable (1) 16\n",
      "\u001B[2m\u001B[36m(pid=6445)\u001B[0m Trainable (1) 17\n",
      "\u001B[2m\u001B[36m(pid=6445)\u001B[0m Trainable (1) 18\n",
      "\u001B[2m\u001B[36m(pid=6446)\u001B[0m Trainable (2) 18\n",
      "\u001B[2m\u001B[36m(pid=6446)\u001B[0m Trainable (2) 20\n",
      "\u001B[2m\u001B[36m(pid=6446)\u001B[0m Trainable (2) 22\n",
      "\u001B[2m\u001B[36m(pid=6446)\u001B[0m Trainable (2) 24\n",
      "\u001B[2m\u001B[36m(pid=6446)\u001B[0m Trainable (2) 26\n",
      "\u001B[2m\u001B[36m(pid=6446)\u001B[0m Trainable (2) 28\n",
      "\u001B[2m\u001B[36m(pid=6446)\u001B[0m Trainable (2) 30\n",
      "\u001B[2m\u001B[36m(pid=6446)\u001B[0m Trainable (2) 32\n",
      "Result for MyTrainable_0083d_00000:\n",
      "  date: 2020-11-09_17-38-31\n",
      "  done: true\n",
      "  experiment_id: 484aae004d544b0f9f947b6e807e7e53\n",
      "  experiment_tag: 0_a=1\n",
      "  hostname: Schlepptop\n",
      "  iterations_since_restore: 20\n",
      "  node_ip: 192.168.123.68\n",
      "  pid: 6445\n",
      "  score: 20\n",
      "  time_since_restore: 0.0014984607696533203\n",
      "  time_this_iter_s: 7.748603820800781e-05\n",
      "  time_total_s: 0.0014984607696533203\n",
      "  timestamp: 1604939911\n",
      "  timesteps_since_restore: 0\n",
      "  training_iteration: 20\n",
      "  trial_id: 0083d_00000\n",
      "  \n",
      "Result for MyTrainable_0083d_00001:\n",
      "  date: 2020-11-09_17-38-31\n",
      "  done: true\n",
      "  experiment_id: e3dab9f255aa49f4b5a3085b30001614\n",
      "  experiment_tag: 1_a=2\n",
      "  hostname: Schlepptop\n",
      "  iterations_since_restore: 20\n",
      "  node_ip: 192.168.123.68\n",
      "  pid: 6446\n",
      "  score: 40\n",
      "  time_since_restore: 0.0016179084777832031\n",
      "  time_this_iter_s: 6.341934204101562e-05\n",
      "  time_total_s: 0.0016179084777832031\n",
      "  timestamp: 1604939911\n",
      "  timesteps_since_restore: 0\n",
      "  training_iteration: 20\n",
      "  trial_id: 0083d_00001\n",
      "  \n",
      "\u001B[2m\u001B[36m(pid=6445)\u001B[0m Trainable (1) 19\n",
      "\u001B[2m\u001B[36m(pid=6445)\u001B[0m Trainable (1) 20\n",
      "\u001B[2m\u001B[36m(pid=6446)\u001B[0m Trainable (2) 34\n",
      "\u001B[2m\u001B[36m(pid=6446)\u001B[0m Trainable (2) 36\n",
      "\u001B[2m\u001B[36m(pid=6446)\u001B[0m Trainable (2) 38\n",
      "\u001B[2m\u001B[36m(pid=6446)\u001B[0m Trainable (2) 40\n",
      "best config:  {'a': 2}\n"
     ]
    },
    {
     "data": {
      "text/plain": "<IPython.core.display.HTML object>",
      "text/html": "== Status ==<br>Memory usage on this node: 5.8/7.5 GiB<br>Using FIFO scheduling algorithm.<br>Resources requested: 0/2 CPUs, 0/0 GPUs, 0.0/1.56 GiB heap, 0.0/0.54 GiB objects<br>Result logdir: /home/lena/ray_results/my_trainable/simple_trainable<br>Number of trials: 2 (2 TERMINATED)<br><table>\n<thead>\n<tr><th>Trial name             </th><th>status    </th><th>loc  </th><th style=\"text-align: right;\">  a</th><th style=\"text-align: right;\">  iter</th><th style=\"text-align: right;\">  total time (s)</th><th style=\"text-align: right;\">  score</th></tr>\n</thead>\n<tbody>\n<tr><td>MyTrainable_0083d_00000</td><td>TERMINATED</td><td>     </td><td style=\"text-align: right;\">  1</td><td style=\"text-align: right;\">    20</td><td style=\"text-align: right;\">      0.00149846</td><td style=\"text-align: right;\">     20</td></tr>\n<tr><td>MyTrainable_0083d_00001</td><td>TERMINATED</td><td>     </td><td style=\"text-align: right;\">  2</td><td style=\"text-align: right;\">    20</td><td style=\"text-align: right;\">      0.00161791</td><td style=\"text-align: right;\">     40</td></tr>\n</tbody>\n</table><br><br>"
     },
     "metadata": {},
     "output_type": "display_data"
    }
   ],
   "source": [
    "analysis = tune.run(\n",
    "    MyTrainable,\n",
    "    name=\"simple_trainable\",\n",
    "    stop={\"training_iteration\": 20},\n",
    "    config={ \"a\": tune.grid_search([1,2]) },\n",
    "    checkpoint_freq=5,\n",
    "    resources_per_trial=dict(cpu=1, gpu=0),\n",
    "    local_dir=\"~/ray_results/my_trainable\")\n",
    "\n",
    "print('best config: ', analysis.get_best_config(metric=\"score\", mode=\"max\"))"
   ]
  },
  {
   "cell_type": "markdown",
   "metadata": {},
   "source": [
    "Go check the ray_results directory!!!"
   ]
  },
  {
   "cell_type": "code",
   "execution_count": 7,
   "metadata": {},
   "outputs": [],
   "source": [
    "ray.shutdown()"
   ]
  },
  {
   "cell_type": "code",
   "execution_count": null,
   "metadata": {},
   "outputs": [],
   "source": []
  }
 ],
 "metadata": {
  "kernelspec": {
   "display_name": "Python 3",
   "language": "python",
   "name": "python3"
  },
  "language_info": {
   "codemirror_mode": {
    "name": "ipython",
    "version": 3
   },
   "file_extension": ".py",
   "mimetype": "text/x-python",
   "name": "python",
   "nbconvert_exporter": "python",
   "pygments_lexer": "ipython3",
   "version": "3.8.3"
  }
 },
 "nbformat": 4,
 "nbformat_minor": 4
}