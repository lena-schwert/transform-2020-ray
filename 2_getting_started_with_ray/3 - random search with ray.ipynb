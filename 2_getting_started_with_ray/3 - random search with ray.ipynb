{
 "cells": [
  {
   "cell_type": "markdown",
   "metadata": {},
   "source": [
    "# Unleash the Ray - Random Search\n",
    "\n",
    "Let's revisit our random search example but now with Ray\n",
    "\n",
    "A lot of this code is going to be familiar as we already had our pipeline wraped in a function"
   ]
  },
  {
   "cell_type": "code",
   "execution_count": 2,
   "metadata": {},
   "outputs": [
    {
     "name": "stdout",
     "output_type": "stream",
     "text": [
      "The autoreload extension is already loaded. To reload it, use:\n",
      "  %reload_ext autoreload\n"
     ]
    }
   ],
   "source": [
    "%load_ext autoreload\n",
    "%autoreload 2\n",
    "\n",
    "from dependencies import *\n",
    "from tuning import *"
   ]
  },
  {
   "cell_type": "markdown",
   "metadata": {},
   "source": [
    "### Let's start Ray"
   ]
  },
  {
   "cell_type": "code",
   "execution_count": 4,
   "metadata": {
    "scrolled": true
   },
   "outputs": [
    {
     "data": {
      "text/plain": "{'node_ip_address': '192.168.123.68',\n 'raylet_ip_address': '192.168.123.68',\n 'redis_address': '192.168.123.68:6379',\n 'object_store_address': '/tmp/ray/session_2020-11-09_13-00-41_683682_23101/sockets/plasma_store',\n 'raylet_socket_name': '/tmp/ray/session_2020-11-09_13-00-41_683682_23101/sockets/raylet',\n 'webui_url': None,\n 'session_dir': '/tmp/ray/session_2020-11-09_13-00-41_683682_23101',\n 'metrics_export_port': 52169}"
     },
     "execution_count": 4,
     "metadata": {},
     "output_type": "execute_result"
    }
   ],
   "source": [
    "ray.shutdown()\n",
    "ray.init(num_cpus=5,num_gpus=0, include_dashboard=False)"
   ]
  },
  {
   "cell_type": "markdown",
   "metadata": {},
   "source": [
    "After initialisation the [Ray Dashboard](https://docs.ray.io/en/master/ray-dashboard.html) is available on the **webui_url** port"
   ]
  },
  {
   "cell_type": "markdown",
   "metadata": {},
   "source": [
    "## Go Random Go!"
   ]
  },
  {
   "cell_type": "markdown",
   "metadata": {},
   "source": [
    "So to move into a random search configuration we just need to change our search parameters to use `distributions`\n",
    "\n",
    "In our last example:\n",
    "\n",
    "```\n",
    "ray_tuning_config = {\n",
    "    'randomforestclassifier__n_estimators': tune.grid_search([1,5,15,50,100]),\n",
    "    'randomforestclassifier__criterion': tune.grid_search(['gini', 'entropy']),\n",
    "    'randomforestclassifier__max_features': tune.grid_search(['auto', 'sqrt', 'log2']),\n",
    "    'randomforestclassifier__bootstrap': tune.grid_search([True, False]),\n",
    "    'randomforestclassifier__min_samples_leaf': tune.grid_search([1,2,3,4]),\n",
    "    'randomforestclassifier__min_samples_split': tune.grid_search([3,4,5,6])\n",
    "}\n",
    "```\n",
    "\n",
    "Replace grid search with other tune distribution that we can sample from >> [read the docs](https://docs.ray.io/en/latest/tune/api_docs/grid_random.html?highlight=tune.grid#random-distributions-api)\n",
    "\n",
    "Choose appropriate distriutions for the different parameter types"
   ]
  },
  {
   "cell_type": "code",
   "execution_count": null,
   "metadata": {},
   "outputs": [],
   "source": [
    "ray_tuning_config = {\n",
    "    'randomforestclassifier__n_estimators': tune.randint(1, 150),\n",
    "    'randomforestclassifier__criterion': tune.choice(['gini', 'entropy']),\n",
    "    'randomforestclassifier__max_features': tune.choice(['auto', 'sqrt', 'log2']),\n",
    "    'randomforestclassifier__bootstrap': tune.choice([True, False]),\n",
    "    'randomforestclassifier__min_samples_leaf': tune.randint(1,4),\n",
    "    'randomforestclassifier__min_samples_split': tune.randint(3,6)\n",
    "}"
   ]
  },
  {
   "cell_type": "markdown",
   "metadata": {},
   "source": [
    "There is a slight change to the run function too"
   ]
  },
  {
   "cell_type": "code",
   "execution_count": null,
   "metadata": {
    "scrolled": true
   },
   "outputs": [],
   "source": [
    "analysis = tune.run(\n",
    "                e2e_simple_training,\n",
    "                config=ray_tuning_config,\n",
    "    \n",
    "                num_samples=50, # Specify the number of samples to make from (non grid) distributions\n",
    "    \n",
    "                resources_per_trial=dict(cpu=1, gpu=0))"
   ]
  },
  {
   "cell_type": "code",
   "execution_count": null,
   "metadata": {},
   "outputs": [],
   "source": [
    "from pprint import pprint\n",
    "print(\"Best config: \")\n",
    "pprint(analysis.get_best_config(metric=\"mean_f1_score\"))"
   ]
  },
  {
   "cell_type": "code",
   "execution_count": null,
   "metadata": {},
   "outputs": [],
   "source": [
    "df = analysis.dataframe()\n",
    "top_n_df = df.nlargest(10, \"mean_f1_score\")"
   ]
  },
  {
   "cell_type": "code",
   "execution_count": null,
   "metadata": {},
   "outputs": [],
   "source": [
    "plot_some_tune_results(top_n_df)"
   ]
  },
  {
   "cell_type": "code",
   "execution_count": null,
   "metadata": {},
   "outputs": [],
   "source": [
    "%load_ext tensorboard\n",
    "from tensorboard import notebook \n",
    "%tensorboard --logdir \"~/ray_results/grid_search\""
   ]
  },
  {
   "cell_type": "code",
   "execution_count": null,
   "metadata": {},
   "outputs": [],
   "source": [
    "ray.shutdown()"
   ]
  },
  {
   "cell_type": "code",
   "execution_count": null,
   "metadata": {},
   "outputs": [],
   "source": []
  }
 ],
 "metadata": {
  "kernelspec": {
   "display_name": "Python 3",
   "language": "python",
   "name": "python3"
  },
  "language_info": {
   "codemirror_mode": {
    "name": "ipython",
    "version": 3
   },
   "file_extension": ".py",
   "mimetype": "text/x-python",
   "name": "python",
   "nbconvert_exporter": "python",
   "pygments_lexer": "ipython3",
   "version": "3.8.3"
  }
 },
 "nbformat": 4,
 "nbformat_minor": 4
}