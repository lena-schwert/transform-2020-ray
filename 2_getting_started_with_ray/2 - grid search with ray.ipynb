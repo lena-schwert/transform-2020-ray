{
 "cells": [
  {
   "cell_type": "markdown",
   "metadata": {},
   "source": [
    "# Unleash the Ray - Grid Search\n",
    "\n",
    "Let's revisit our grid search example but now with Ray\n",
    "\n",
    "A lot of this code is going to be familiar as we already had our pipeline wraped in a function"
   ]
  },
  {
   "cell_type": "code",
   "execution_count": null,
   "metadata": {},
   "outputs": [],
   "source": [
    "%reload_ext autoreload\n",
    "%autoreload 2\n",
    "\n",
    "import numpy as np\n",
    "import sklearn.datasets\n",
    "import sklearn.metrics\n",
    "from sklearn.model_selection import train_test_split\n",
    "\n",
    "import matplotlib.pyplot as plt\n",
    "import seaborn as sns\n",
    "sns.set()\n",
    "sns.set_context('talk')\n",
    "sns.set_style('whitegrid')\n",
    "sns.set_palette(sns.color_palette(\"bright\", 8))\n",
    "\n",
    "from sklearn.model_selection import GridSearchCV, KFold, StratifiedKFold\n",
    "from sklearn.preprocessing import RobustScaler\n",
    "from sklearn.ensemble import RandomForestClassifier\n",
    "from sklearn.pipeline import make_pipeline\n",
    "from sklearn.metrics import f1_score"
   ]
  },
  {
   "cell_type": "code",
   "execution_count": null,
   "metadata": {},
   "outputs": [],
   "source": [
    "import ray\n",
    "from ray import tune"
   ]
  },
  {
   "cell_type": "markdown",
   "metadata": {},
   "source": [
    "### Let's start Ray"
   ]
  },
  {
   "cell_type": "code",
   "execution_count": null,
   "metadata": {
    "scrolled": true
   },
   "outputs": [],
   "source": [
    "ray.shutdown()\n",
    "ray.init(num_cpus=10, num_gpus=0, include_dashboard=True)"
   ]
  },
  {
   "cell_type": "markdown",
   "metadata": {},
   "source": [
    "After initialisation the [Ray Dashboard](https://docs.ray.io/en/master/ray-dashboard.html) is available on the **webui_url** port"
   ]
  },
  {
   "cell_type": "markdown",
   "metadata": {},
   "source": [
    "## Setup some raytune compatible training code\n",
    "\n",
    "Very similar to before except now we have an end-to-end function"
   ]
  },
  {
   "cell_type": "code",
   "execution_count": null,
   "metadata": {},
   "outputs": [],
   "source": [
    "\n",
    "# differences from what we've seen before, this is an end to end training function\n",
    "# where we are loading the dataset running our complete train and test loop whilst\n",
    "# \n",
    "def e2e_simple_training(config):\n",
    "    \n",
    "    #threadsafe\n",
    "    X, y = sklearn.datasets.load_breast_cancer(return_X_y=True)\n",
    "    \n",
    "    # chose your CV strategy\n",
    "    splitter = StratifiedKFold(n_splits=5)\n",
    "    \n",
    "    # run k fold training and testing\n",
    "    f1_scores = [] # keep hold of all individual scores\n",
    "    for train_ind, test_ind in splitter.split(X, y):\n",
    "        pipeline = make_pipeline(RobustScaler(),\n",
    "                                  RandomForestClassifier(random_state=42))\n",
    "\n",
    "        pipeline.set_params(**config)\n",
    "        pipeline.fit(X[train_ind], y[train_ind])\n",
    "        \n",
    "        y_pred = pipeline.predict(X[test_ind])\n",
    "        \n",
    "        #f1_scores.append(f1_score(y_pred, y[test_ind]))\n",
    "\n",
    "        tune.report(f1_score=f1_score(y_pred, y[test_ind]))\n",
    "    # use tunes reporter\n",
    "    #tune.report(f1_score = f1_scores)\n",
    "  #  reporter = tune.JupyterNotebookReporter(overwrite=True,\n",
    " #                                            metric_columns={\n",
    " #                                                'mean_f1_score': np.array(f1_scores).mean(),\n",
    " #                                                'std_f1_score': np.array(f1_scores).std()\n",
    " #                                })\n",
    "                # and we can actually add any metrics we like)"
   ]
  },
  {
   "cell_type": "markdown",
   "metadata": {},
   "source": [
    "Previously we had a param grid like this\n",
    "\n",
    "```\n",
    "param_grid = {\n",
    "    'randomforestclassifier__n_estimators': [1,5,15,50,100],\n",
    "    'randomforestclassifier__criterion': ['gini', 'entropy'],\n",
    "    'randomforestclassifier__bootstrap': [True, False]\n",
    "}\n",
    "```"
   ]
  },
  {
   "cell_type": "markdown",
   "metadata": {},
   "source": [
    "### TODO convert this to a set of ray search spaces\n",
    "\n",
    "The Ray config object is freeform, we imprint our own structure.\n",
    "\n",
    "However, tunable parameters need to be represented by tune distribution object >> [read the docs](https://docs.ray.io/en/latest/tune/api_docs/grid_random.html?highlight=tune.grid#random-distributions-api)"
   ]
  },
  {
   "cell_type": "code",
   "execution_count": null,
   "metadata": {},
   "outputs": [],
   "source": [
    "ray_tuning_config = {\n",
    "    'randomforestclassifier__n_estimators': tune.grid_search([1,5,15])\n",
    "}"
   ]
  },
  {
   "cell_type": "code",
   "execution_count": 77,
   "metadata": {
    "scrolled": true
   },
   "outputs": [
    {
     "data": {
      "text/plain": "<IPython.core.display.HTML object>",
      "text/html": "== Status ==<br>Memory usage on this node: 7.1/7.5 GiB: ***LOW MEMORY*** less than 10% of the memory on this node is available for use. This can cause unexpected crashes. Consider reducing the memory used by your application or reducing the Ray object store size by setting `object_store_memory` when calling `ray.init`.<br>Using FIFO scheduling algorithm.<br>Resources requested: 1/10 CPUs, 0/0 GPUs, 0.0/0.78 GiB heap, 0.0/0.24 GiB objects<br>Result logdir: /home/lena/ray_results/grid_search/e2e_simple_training<br>Number of trials: 3 (2 PENDING, 1 RUNNING)<br><table>\n<thead>\n<tr><th>Trial name                     </th><th>status  </th><th>loc  </th><th style=\"text-align: right;\">  randomforestclassifier__n_estimators</th></tr>\n</thead>\n<tbody>\n<tr><td>e2e_simple_training_ad6f1_00000</td><td>RUNNING </td><td>     </td><td style=\"text-align: right;\">                                     1</td></tr>\n<tr><td>e2e_simple_training_ad6f1_00001</td><td>PENDING </td><td>     </td><td style=\"text-align: right;\">                                     5</td></tr>\n<tr><td>e2e_simple_training_ad6f1_00002</td><td>PENDING </td><td>     </td><td style=\"text-align: right;\">                                    15</td></tr>\n</tbody>\n</table><br><br>"
     },
     "metadata": {},
     "output_type": "display_data"
    },
    {
     "name": "stdout",
     "output_type": "stream",
     "text": [
      "Result for e2e_simple_training_ad6f1_00000:\n",
      "  date: 2020-11-09_12-28-25\n",
      "  done: false\n",
      "  experiment_id: 144c6dfa37944f2a9f7aa9bc57138e8d\n",
      "  experiment_tag: 0_randomforestclassifier__n_estimators=1\n",
      "  f1_score: 0.9\n",
      "  hostname: Schlepptop\n",
      "  iterations_since_restore: 1\n",
      "  node_ip: 192.168.123.68\n",
      "  pid: 17808\n",
      "  time_since_restore: 0.036040306091308594\n",
      "  time_this_iter_s: 0.036040306091308594\n",
      "  time_total_s: 0.036040306091308594\n",
      "  timestamp: 1604921305\n",
      "  timesteps_since_restore: 0\n",
      "  training_iteration: 1\n",
      "  trial_id: ad6f1_00000\n",
      "  \n",
      "Result for e2e_simple_training_ad6f1_00001:\n",
      "  date: 2020-11-09_12-28-25\n",
      "  done: false\n",
      "  experiment_id: 75999b5faeb84f0f82fa84e95bb5730c\n",
      "  experiment_tag: 1_randomforestclassifier__n_estimators=5\n",
      "  f1_score: 0.9142857142857144\n",
      "  hostname: Schlepptop\n",
      "  iterations_since_restore: 1\n",
      "  node_ip: 192.168.123.68\n",
      "  pid: 17810\n",
      "  time_since_restore: 0.051476240158081055\n",
      "  time_this_iter_s: 0.051476240158081055\n",
      "  time_total_s: 0.051476240158081055\n",
      "  timestamp: 1604921305\n",
      "  timesteps_since_restore: 0\n",
      "  training_iteration: 1\n",
      "  trial_id: ad6f1_00001\n",
      "  \n",
      "Result for e2e_simple_training_ad6f1_00002:\n",
      "  date: 2020-11-09_12-28-25\n",
      "  done: false\n",
      "  experiment_id: 91cc6fb91f584d9988e64cfce597574f\n",
      "  experiment_tag: 2_randomforestclassifier__n_estimators=15\n",
      "  f1_score: 0.9370629370629372\n",
      "  hostname: Schlepptop\n",
      "  iterations_since_restore: 1\n",
      "  node_ip: 192.168.123.68\n",
      "  pid: 17806\n",
      "  time_since_restore: 0.06887650489807129\n",
      "  time_this_iter_s: 0.06887650489807129\n",
      "  time_total_s: 0.06887650489807129\n",
      "  timestamp: 1604921305\n",
      "  timesteps_since_restore: 0\n",
      "  training_iteration: 1\n",
      "  trial_id: ad6f1_00002\n",
      "  \n"
     ]
    },
    {
     "data": {
      "text/plain": "<IPython.core.display.HTML object>",
      "text/html": "== Status ==<br>Memory usage on this node: 7.4/7.5 GiB: ***LOW MEMORY*** less than 10% of the memory on this node is available for use. This can cause unexpected crashes. Consider reducing the memory used by your application or reducing the Ray object store size by setting `object_store_memory` when calling `ray.init`.<br>Using FIFO scheduling algorithm.<br>Resources requested: 0/10 CPUs, 0/0 GPUs, 0.0/0.78 GiB heap, 0.0/0.24 GiB objects<br>Result logdir: /home/lena/ray_results/grid_search/e2e_simple_training<br>Number of trials: 3 (3 TERMINATED)<br><table>\n<thead>\n<tr><th>Trial name                     </th><th>status    </th><th>loc  </th><th style=\"text-align: right;\">  randomforestclassifier__n_estimators</th><th style=\"text-align: right;\">  iter</th><th style=\"text-align: right;\">  total time (s)</th><th style=\"text-align: right;\">  f1_score</th></tr>\n</thead>\n<tbody>\n<tr><td>e2e_simple_training_ad6f1_00000</td><td>TERMINATED</td><td>     </td><td style=\"text-align: right;\">                                     1</td><td style=\"text-align: right;\">     5</td><td style=\"text-align: right;\">        0.117696</td><td style=\"text-align: right;\">  0.942857</td></tr>\n<tr><td>e2e_simple_training_ad6f1_00001</td><td>TERMINATED</td><td>     </td><td style=\"text-align: right;\">                                     5</td><td style=\"text-align: right;\">     5</td><td style=\"text-align: right;\">        0.182361</td><td style=\"text-align: right;\">  0.992908</td></tr>\n<tr><td>e2e_simple_training_ad6f1_00002</td><td>TERMINATED</td><td>     </td><td style=\"text-align: right;\">                                    15</td><td style=\"text-align: right;\">     5</td><td style=\"text-align: right;\">        0.280174</td><td style=\"text-align: right;\">  0.978723</td></tr>\n</tbody>\n</table><br><br>"
     },
     "metadata": {},
     "output_type": "display_data"
    }
   ],
   "source": [
    "analysis = tune.run(\n",
    "                e2e_simple_training,\n",
    "                metric='f1_score',\n",
    "                mode='max',\n",
    "            #    progress_reporter=tune.JupyterNotebookReporter(overwrite=True,metric_columns='f1_scores'),\n",
    "                config=ray_tuning_config,\n",
    "                resources_per_trial=dict(cpu=1, gpu=0),\n",
    "                local_dir=\"~/ray_results/grid_search\")"
   ]
  },
  {
   "cell_type": "code",
   "execution_count": 78,
   "metadata": {},
   "outputs": [
    {
     "name": "stdout",
     "output_type": "stream",
     "text": [
      "Index(['f1_score', 'time_this_iter_s', 'done', 'timesteps_total',\n",
      "       'episodes_total', 'training_iteration', 'experiment_id', 'date',\n",
      "       'timestamp', 'time_total_s', 'pid', 'hostname', 'node_ip',\n",
      "       'time_since_restore', 'timesteps_since_restore',\n",
      "       'iterations_since_restore', 'trial_id', 'experiment_tag',\n",
      "       'config/randomforestclassifier__n_estimators', 'logdir'],\n",
      "      dtype='object')\n"
     ]
    },
    {
     "data": {
      "text/plain": "   f1_score  time_this_iter_s   done  timesteps_total  episodes_total  \\\n0  0.957746          0.015585  False              NaN             NaN   \n1  0.992908          0.025794  False              NaN             NaN   \n2  0.986111          0.055378  False              NaN             NaN   \n\n   training_iteration                     experiment_id                 date  \\\n0                   3  144c6dfa37944f2a9f7aa9bc57138e8d  2020-11-09_12-28-25   \n1                   5  75999b5faeb84f0f82fa84e95bb5730c  2020-11-09_12-28-25   \n2                   3  91cc6fb91f584d9988e64cfce597574f  2020-11-09_12-28-25   \n\n    timestamp  time_total_s    pid    hostname         node_ip  \\\n0  1604921305      0.077695  17808  Schlepptop  192.168.123.68   \n1  1604921305      0.182361  17810  Schlepptop  192.168.123.68   \n2  1604921305      0.175307  17806  Schlepptop  192.168.123.68   \n\n   time_since_restore  timesteps_since_restore  iterations_since_restore  \\\n0            0.077695                        0                         3   \n1            0.182361                        0                         5   \n2            0.175307                        0                         3   \n\n      trial_id                             experiment_tag  \\\n0  ad6f1_00000   0_randomforestclassifier__n_estimators=1   \n1  ad6f1_00001   1_randomforestclassifier__n_estimators=5   \n2  ad6f1_00002  2_randomforestclassifier__n_estimators=15   \n\n   config/randomforestclassifier__n_estimators  \\\n0                                            1   \n1                                            5   \n2                                           15   \n\n                                              logdir  \n0  /home/lena/ray_results/grid_search/e2e_simple_...  \n1  /home/lena/ray_results/grid_search/e2e_simple_...  \n2  /home/lena/ray_results/grid_search/e2e_simple_...  ",
      "text/html": "<div>\n<style scoped>\n    .dataframe tbody tr th:only-of-type {\n        vertical-align: middle;\n    }\n\n    .dataframe tbody tr th {\n        vertical-align: top;\n    }\n\n    .dataframe thead th {\n        text-align: right;\n    }\n</style>\n<table border=\"1\" class=\"dataframe\">\n  <thead>\n    <tr style=\"text-align: right;\">\n      <th></th>\n      <th>f1_score</th>\n      <th>time_this_iter_s</th>\n      <th>done</th>\n      <th>timesteps_total</th>\n      <th>episodes_total</th>\n      <th>training_iteration</th>\n      <th>experiment_id</th>\n      <th>date</th>\n      <th>timestamp</th>\n      <th>time_total_s</th>\n      <th>pid</th>\n      <th>hostname</th>\n      <th>node_ip</th>\n      <th>time_since_restore</th>\n      <th>timesteps_since_restore</th>\n      <th>iterations_since_restore</th>\n      <th>trial_id</th>\n      <th>experiment_tag</th>\n      <th>config/randomforestclassifier__n_estimators</th>\n      <th>logdir</th>\n    </tr>\n  </thead>\n  <tbody>\n    <tr>\n      <th>0</th>\n      <td>0.957746</td>\n      <td>0.015585</td>\n      <td>False</td>\n      <td>NaN</td>\n      <td>NaN</td>\n      <td>3</td>\n      <td>144c6dfa37944f2a9f7aa9bc57138e8d</td>\n      <td>2020-11-09_12-28-25</td>\n      <td>1604921305</td>\n      <td>0.077695</td>\n      <td>17808</td>\n      <td>Schlepptop</td>\n      <td>192.168.123.68</td>\n      <td>0.077695</td>\n      <td>0</td>\n      <td>3</td>\n      <td>ad6f1_00000</td>\n      <td>0_randomforestclassifier__n_estimators=1</td>\n      <td>1</td>\n      <td>/home/lena/ray_results/grid_search/e2e_simple_...</td>\n    </tr>\n    <tr>\n      <th>1</th>\n      <td>0.992908</td>\n      <td>0.025794</td>\n      <td>False</td>\n      <td>NaN</td>\n      <td>NaN</td>\n      <td>5</td>\n      <td>75999b5faeb84f0f82fa84e95bb5730c</td>\n      <td>2020-11-09_12-28-25</td>\n      <td>1604921305</td>\n      <td>0.182361</td>\n      <td>17810</td>\n      <td>Schlepptop</td>\n      <td>192.168.123.68</td>\n      <td>0.182361</td>\n      <td>0</td>\n      <td>5</td>\n      <td>ad6f1_00001</td>\n      <td>1_randomforestclassifier__n_estimators=5</td>\n      <td>5</td>\n      <td>/home/lena/ray_results/grid_search/e2e_simple_...</td>\n    </tr>\n    <tr>\n      <th>2</th>\n      <td>0.986111</td>\n      <td>0.055378</td>\n      <td>False</td>\n      <td>NaN</td>\n      <td>NaN</td>\n      <td>3</td>\n      <td>91cc6fb91f584d9988e64cfce597574f</td>\n      <td>2020-11-09_12-28-25</td>\n      <td>1604921305</td>\n      <td>0.175307</td>\n      <td>17806</td>\n      <td>Schlepptop</td>\n      <td>192.168.123.68</td>\n      <td>0.175307</td>\n      <td>0</td>\n      <td>3</td>\n      <td>ad6f1_00002</td>\n      <td>2_randomforestclassifier__n_estimators=15</td>\n      <td>15</td>\n      <td>/home/lena/ray_results/grid_search/e2e_simple_...</td>\n    </tr>\n  </tbody>\n</table>\n</div>"
     },
     "execution_count": 78,
     "metadata": {},
     "output_type": "execute_result"
    }
   ],
   "source": [
    "df = analysis.dataframe()\n",
    "print(df.columns)\n",
    "df.head()"
   ]
  },
  {
   "cell_type": "code",
   "execution_count": 80,
   "metadata": {},
   "outputs": [
    {
     "name": "stdout",
     "output_type": "stream",
     "text": [
      "Best config:  {'randomforestclassifier__n_estimators': 5}\n"
     ]
    }
   ],
   "source": [
    "print(\"Best config: \", analysis.get_best_config(metric=\"f1_score\"))"
   ]
  },
  {
   "cell_type": "code",
   "execution_count": null,
   "metadata": {},
   "outputs": [],
   "source": [
    "from scipy.stats import norm\n",
    "\n",
    "def plot_some_tune_results(df):\n",
    "    fig, ax = plt.subplots(1, 1, figsize=(16,6))\n",
    "    x = np.linspace(0.85, 1.0, 100)\n",
    "\n",
    "    n_estimators = df['config/randomforestclassifier__n_estimators'].values.tolist()\n",
    "\n",
    "    lines = []\n",
    "    for mu, sigma in zip(df['mean_f1_score'], df['std_f1_score']):\n",
    "        pdf = norm.pdf(x, mu, sigma)\n",
    "        line, = ax.plot(x, pdf, alpha=0.6)\n",
    "        ax.axvline(mu, color=line.get_color())\n",
    "        ax.text(mu, pdf.max(), f\"{mu:.3f}\", color=line.get_color(), fontsize=14)\n",
    "        lines.append(line)\n",
    "\n",
    "    plt.legend(handles=lines, labels=n_estimators, title=\"n estimators\")\n",
    "    ax.set_title(f\"Average F1 Scores\")\n",
    "    \n",
    "plot_some_tune_results(df)"
   ]
  },
  {
   "cell_type": "markdown",
   "metadata": {},
   "source": [
    "## Really increase the size of the search space"
   ]
  },
  {
   "cell_type": "code",
   "execution_count": null,
   "metadata": {},
   "outputs": [],
   "source": [
    "#\n",
    "# 6D search space - 960 combinations - 4800 calls to fit\n",
    "#\n",
    "\n",
    "ray_tuning_config = {\n",
    "    'randomforestclassifier__n_estimators': tune.grid_search([1,5,15,50,100]),\n",
    "    'randomforestclassifier__criterion': tune.grid_search(['gini', 'entropy']),\n",
    "    'randomforestclassifier__max_features': tune.grid_search(['auto', 'sqrt', 'log2']),\n",
    "#     'randomforestclassifier__bootstrap': tune.grid_search([True, False]),\n",
    "#     'randomforestclassifier__min_samples_leaf': tune.grid_search([1,2,3,4]),\n",
    "    'randomforestclassifier__min_samples_split': tune.grid_search([3,4,5,6])\n",
    "}"
   ]
  },
  {
   "cell_type": "code",
   "execution_count": 67,
   "metadata": {
    "scrolled": true
   },
   "outputs": [
    {
     "data": {
      "text/plain": "<IPython.core.display.HTML object>",
      "text/html": "== Status ==<br>Memory usage on this node: 7.2/7.5 GiB: ***LOW MEMORY*** less than 10% of the memory on this node is available for use. This can cause unexpected crashes. Consider reducing the memory used by your application or reducing the Ray object store size by setting `object_store_memory` when calling `ray.init`.<br>Using FIFO scheduling algorithm.<br>Resources requested: 1/10 CPUs, 0/0 GPUs, 0.0/0.78 GiB heap, 0.0/0.24 GiB objects<br>Result logdir: /home/lena/ray_results/e2e_simple_training<br>Number of trials: 3 (2 PENDING, 1 RUNNING)<br><table>\n<thead>\n<tr><th>Trial name                     </th><th>status  </th><th>loc  </th><th style=\"text-align: right;\">  randomforestclassifier__n_estimators</th></tr>\n</thead>\n<tbody>\n<tr><td>e2e_simple_training_474f9_00000</td><td>RUNNING </td><td>     </td><td style=\"text-align: right;\">                                     1</td></tr>\n<tr><td>e2e_simple_training_474f9_00001</td><td>PENDING </td><td>     </td><td style=\"text-align: right;\">                                     5</td></tr>\n<tr><td>e2e_simple_training_474f9_00002</td><td>PENDING </td><td>     </td><td style=\"text-align: right;\">                                    15</td></tr>\n</tbody>\n</table><br><br>"
     },
     "metadata": {},
     "output_type": "display_data"
    },
    {
     "name": "stdout",
     "output_type": "stream",
     "text": [
      "Result for e2e_simple_training_474f9_00000:\n",
      "  date: 2020-11-09_12-25-33\n",
      "  done: false\n",
      "  experiment_id: 8c436635c4524858b82e2979777d6942\n",
      "  experiment_tag: 0_randomforestclassifier__n_estimators=1\n",
      "  f1_score: 0.9\n",
      "  hostname: Schlepptop\n",
      "  iterations_since_restore: 1\n",
      "  node_ip: 192.168.123.68\n",
      "  pid: 17235\n",
      "  time_since_restore: 0.033599853515625\n",
      "  time_this_iter_s: 0.033599853515625\n",
      "  time_total_s: 0.033599853515625\n",
      "  timestamp: 1604921133\n",
      "  timesteps_since_restore: 0\n",
      "  training_iteration: 1\n",
      "  trial_id: 474f9_00000\n",
      "  \n",
      "Result for e2e_simple_training_474f9_00001:\n",
      "  date: 2020-11-09_12-25-33\n",
      "  done: false\n",
      "  experiment_id: a3e12976f12d4532b58afe7150f1022e\n",
      "  experiment_tag: 1_randomforestclassifier__n_estimators=5\n",
      "  f1_score: 0.9142857142857144\n",
      "  hostname: Schlepptop\n",
      "  iterations_since_restore: 1\n",
      "  node_ip: 192.168.123.68\n",
      "  pid: 17249\n",
      "  time_since_restore: 0.04265308380126953\n",
      "  time_this_iter_s: 0.04265308380126953\n",
      "  time_total_s: 0.04265308380126953\n",
      "  timestamp: 1604921133\n",
      "  timesteps_since_restore: 0\n",
      "  training_iteration: 1\n",
      "  trial_id: 474f9_00001\n",
      "  \n",
      "Result for e2e_simple_training_474f9_00002:\n",
      "  date: 2020-11-09_12-25-33\n",
      "  done: false\n",
      "  experiment_id: 895e0d5391084c6688be7ef66f05fdbf\n",
      "  experiment_tag: 2_randomforestclassifier__n_estimators=15\n",
      "  f1_score: 0.9370629370629372\n",
      "  hostname: Schlepptop\n",
      "  iterations_since_restore: 1\n",
      "  node_ip: 192.168.123.68\n",
      "  pid: 17234\n",
      "  time_since_restore: 0.06351947784423828\n",
      "  time_this_iter_s: 0.06351947784423828\n",
      "  time_total_s: 0.06351947784423828\n",
      "  timestamp: 1604921133\n",
      "  timesteps_since_restore: 0\n",
      "  training_iteration: 1\n",
      "  trial_id: 474f9_00002\n",
      "  \n"
     ]
    },
    {
     "data": {
      "text/plain": "<IPython.core.display.HTML object>",
      "text/html": "== Status ==<br>Memory usage on this node: 7.3/7.5 GiB: ***LOW MEMORY*** less than 10% of the memory on this node is available for use. This can cause unexpected crashes. Consider reducing the memory used by your application or reducing the Ray object store size by setting `object_store_memory` when calling `ray.init`.<br>Using FIFO scheduling algorithm.<br>Resources requested: 0/10 CPUs, 0/0 GPUs, 0.0/0.78 GiB heap, 0.0/0.24 GiB objects<br>Result logdir: /home/lena/ray_results/e2e_simple_training<br>Number of trials: 3 (3 TERMINATED)<br><table>\n<thead>\n<tr><th>Trial name                     </th><th>status    </th><th>loc  </th><th style=\"text-align: right;\">  randomforestclassifier__n_estimators</th><th style=\"text-align: right;\">  iter</th><th style=\"text-align: right;\">  total time (s)</th><th style=\"text-align: right;\">  f1_score</th></tr>\n</thead>\n<tbody>\n<tr><td>e2e_simple_training_474f9_00000</td><td>TERMINATED</td><td>     </td><td style=\"text-align: right;\">                                     1</td><td style=\"text-align: right;\">     5</td><td style=\"text-align: right;\">        0.108161</td><td style=\"text-align: right;\">  0.942857</td></tr>\n<tr><td>e2e_simple_training_474f9_00001</td><td>TERMINATED</td><td>     </td><td style=\"text-align: right;\">                                     5</td><td style=\"text-align: right;\">     5</td><td style=\"text-align: right;\">        0.160606</td><td style=\"text-align: right;\">  0.992908</td></tr>\n<tr><td>e2e_simple_training_474f9_00002</td><td>TERMINATED</td><td>     </td><td style=\"text-align: right;\">                                    15</td><td style=\"text-align: right;\">     5</td><td style=\"text-align: right;\">        0.258089</td><td style=\"text-align: right;\">  0.978723</td></tr>\n</tbody>\n</table><br><br>"
     },
     "metadata": {},
     "output_type": "display_data"
    }
   ],
   "source": [
    "analysis = tune.run(\n",
    "                e2e_simple_training,\n",
    "                mode='max',\n",
    "                config=ray_tuning_config,\n",
    "                resources_per_trial=dict(cpu=1, gpu=0)\n",
    "                )"
   ]
  },
  {
   "cell_type": "code",
   "execution_count": null,
   "metadata": {},
   "outputs": [],
   "source": [
    "from pprint import pprint\n",
    "print(\"Best config: \")\n",
    "pprint(analysis.get_best_config(metric=\"mean_f1_score\"))"
   ]
  },
  {
   "cell_type": "code",
   "execution_count": null,
   "metadata": {},
   "outputs": [],
   "source": [
    "df = analysis.dataframe()\n",
    "top_n_df = df.nlargest(10, \"mean_f1_score\")"
   ]
  },
  {
   "cell_type": "code",
   "execution_count": null,
   "metadata": {},
   "outputs": [],
   "source": [
    "plot_some_tune_results(top_n_df)"
   ]
  },
  {
   "cell_type": "code",
   "execution_count": null,
   "metadata": {},
   "outputs": [],
   "source": [
    "%load_ext tensorboard"
   ]
  },
  {
   "cell_type": "code",
   "execution_count": null,
   "metadata": {
    "scrolled": false
   },
   "outputs": [],
   "source": [
    "from tensorboard import notebook\n",
    "%tensorboard --logdir \"~/ray_results/grid_search\"\n",
    "notebook.display(height=1000) "
   ]
  },
  {
   "cell_type": "markdown",
   "metadata": {},
   "source": [
    "### Once you are all done, shutdown Ray"
   ]
  },
  {
   "cell_type": "code",
   "execution_count": null,
   "metadata": {},
   "outputs": [],
   "source": [
    "ray.shutdown()"
   ]
  },
  {
   "cell_type": "code",
   "execution_count": null,
   "metadata": {},
   "outputs": [],
   "source": []
  }
 ],
 "metadata": {
  "kernelspec": {
   "display_name": "Python 3",
   "language": "python",
   "name": "python3"
  },
  "language_info": {
   "codemirror_mode": {
    "name": "ipython",
    "version": 3
   },
   "file_extension": ".py",
   "mimetype": "text/x-python",
   "name": "python",
   "nbconvert_exporter": "python",
   "pygments_lexer": "ipython3",
   "version": "3.8.3"
  }
 },
 "nbformat": 4,
 "nbformat_minor": 4
}